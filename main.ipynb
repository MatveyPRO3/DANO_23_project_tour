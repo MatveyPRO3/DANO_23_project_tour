{
 "cells": [
  {
   "cell_type": "markdown",
   "metadata": {
    "pycharm": {
     "name": "#%% md\n"
    }
   },
   "source": [
    "### Initializing cell"
   ]
  },
  {
   "cell_type": "code",
   "execution_count": 5,
   "metadata": {
    "pycharm": {
     "name": "#%%\n"
    }
   },
   "outputs": [
    {
     "data": {
      "text/plain": "               id    client_id   order_day  category_id    category_name  \\\n0      1500571355  5-25R6ZT3L9  2023-05-22        29688           Скидки   \n1      1500571245  5-2P4Z5VSMF  2023-05-22        28574    Ролевые (RPG)   \n2      1500573164   5-YGO64ONA  2023-05-24        30659  Казуальные игры   \n3      1500364601  5-1VA0D94LX  2022-10-23        29688           Скидки   \n4      1500288143  5-1QCUV9SY7  2022-07-03        28577             Экшн   \n...           ...          ...         ...          ...              ...   \n88694  1500300796  5-355R05SQ3  2022-07-23        28577             Экшн   \n88695  1500302138  5-2IKJ0HXNU  2022-07-25        28577             Экшн   \n88696  1500351510   5-8EVSLK13  2022-10-05        28577             Экшн   \n88697  1500476540  5-122LQCE7M  2023-02-13        28574    Ролевые (RPG)   \n88698  1500463949   5-U2IQQ7BO  2023-01-30        28577             Экшн   \n\n       good_id                                          good_name  good_price  \\\n0       890257                            The Night of the Rabbit      299.00   \n1      1436296     Ni no Kuni Wrath of the White Witch Remastered      269.85   \n2      1179848  KeyWe - The 100th Annual Grand Ol' Telepost To...       77.00   \n3      1204914                                               GTFO     1675.01   \n4      1314503                                         Neon White      550.00   \n...        ...                                                ...         ...   \n88694   848833                     Apex Legends: 1000 Coins - DLC      749.00   \n88695   848833                     Apex Legends: 1000 Coins - DLC      749.00   \n88696  1406123                       Dome Keeper - Deluxe Edition      561.60   \n88697   848895                            Gothic Universe Edition       59.80   \n88698   847741      METAL GEAR SOLID V: The Definitive Experience      999.01   \n\n       good_cnt gender_cd  age education_level          city_nm  \\\n0           1.0         M   28             UGR           Москва   \n1           1.0         M   26             GRD           Москва   \n2           1.0         M   30             GRD           Москва   \n3           1.0         M   24             GRD           Самара   \n4           1.0         M   38             GRD  Санкт-Петербург   \n...         ...       ...  ...             ...              ...   \n88694       1.0         M   18             SCH           Москва   \n88695       1.0         M   19             UGR           Самара   \n88696       1.0         M   33             SCH        Краснодар   \n88697       1.0         M   37             GRD           Москва   \n88698       1.0         M   25             GRD              Уфа   \n\n       monthly_income_amt  steam_popularity_score  \n0                   73552                     0.0  \n1                  281417                     0.0  \n2                   86000                     0.0  \n3                   56000                   283.0  \n4                   32000                  1676.0  \n...                   ...                     ...  \n88694              170486                     0.0  \n88695               38000                     0.0  \n88696              230000                     0.0  \n88697              170000                     0.0  \n88698               86000                     0.0  \n\n[88699 rows x 15 columns]",
      "text/html": "<div>\n<style scoped>\n    .dataframe tbody tr th:only-of-type {\n        vertical-align: middle;\n    }\n\n    .dataframe tbody tr th {\n        vertical-align: top;\n    }\n\n    .dataframe thead th {\n        text-align: right;\n    }\n</style>\n<table border=\"1\" class=\"dataframe\">\n  <thead>\n    <tr style=\"text-align: right;\">\n      <th></th>\n      <th>id</th>\n      <th>client_id</th>\n      <th>order_day</th>\n      <th>category_id</th>\n      <th>category_name</th>\n      <th>good_id</th>\n      <th>good_name</th>\n      <th>good_price</th>\n      <th>good_cnt</th>\n      <th>gender_cd</th>\n      <th>age</th>\n      <th>education_level</th>\n      <th>city_nm</th>\n      <th>monthly_income_amt</th>\n      <th>steam_popularity_score</th>\n    </tr>\n  </thead>\n  <tbody>\n    <tr>\n      <th>0</th>\n      <td>1500571355</td>\n      <td>5-25R6ZT3L9</td>\n      <td>2023-05-22</td>\n      <td>29688</td>\n      <td>Скидки</td>\n      <td>890257</td>\n      <td>The Night of the Rabbit</td>\n      <td>299.00</td>\n      <td>1.0</td>\n      <td>M</td>\n      <td>28</td>\n      <td>UGR</td>\n      <td>Москва</td>\n      <td>73552</td>\n      <td>0.0</td>\n    </tr>\n    <tr>\n      <th>1</th>\n      <td>1500571245</td>\n      <td>5-2P4Z5VSMF</td>\n      <td>2023-05-22</td>\n      <td>28574</td>\n      <td>Ролевые (RPG)</td>\n      <td>1436296</td>\n      <td>Ni no Kuni Wrath of the White Witch Remastered</td>\n      <td>269.85</td>\n      <td>1.0</td>\n      <td>M</td>\n      <td>26</td>\n      <td>GRD</td>\n      <td>Москва</td>\n      <td>281417</td>\n      <td>0.0</td>\n    </tr>\n    <tr>\n      <th>2</th>\n      <td>1500573164</td>\n      <td>5-YGO64ONA</td>\n      <td>2023-05-24</td>\n      <td>30659</td>\n      <td>Казуальные игры</td>\n      <td>1179848</td>\n      <td>KeyWe - The 100th Annual Grand Ol' Telepost To...</td>\n      <td>77.00</td>\n      <td>1.0</td>\n      <td>M</td>\n      <td>30</td>\n      <td>GRD</td>\n      <td>Москва</td>\n      <td>86000</td>\n      <td>0.0</td>\n    </tr>\n    <tr>\n      <th>3</th>\n      <td>1500364601</td>\n      <td>5-1VA0D94LX</td>\n      <td>2022-10-23</td>\n      <td>29688</td>\n      <td>Скидки</td>\n      <td>1204914</td>\n      <td>GTFO</td>\n      <td>1675.01</td>\n      <td>1.0</td>\n      <td>M</td>\n      <td>24</td>\n      <td>GRD</td>\n      <td>Самара</td>\n      <td>56000</td>\n      <td>283.0</td>\n    </tr>\n    <tr>\n      <th>4</th>\n      <td>1500288143</td>\n      <td>5-1QCUV9SY7</td>\n      <td>2022-07-03</td>\n      <td>28577</td>\n      <td>Экшн</td>\n      <td>1314503</td>\n      <td>Neon White</td>\n      <td>550.00</td>\n      <td>1.0</td>\n      <td>M</td>\n      <td>38</td>\n      <td>GRD</td>\n      <td>Санкт-Петербург</td>\n      <td>32000</td>\n      <td>1676.0</td>\n    </tr>\n    <tr>\n      <th>...</th>\n      <td>...</td>\n      <td>...</td>\n      <td>...</td>\n      <td>...</td>\n      <td>...</td>\n      <td>...</td>\n      <td>...</td>\n      <td>...</td>\n      <td>...</td>\n      <td>...</td>\n      <td>...</td>\n      <td>...</td>\n      <td>...</td>\n      <td>...</td>\n      <td>...</td>\n    </tr>\n    <tr>\n      <th>88694</th>\n      <td>1500300796</td>\n      <td>5-355R05SQ3</td>\n      <td>2022-07-23</td>\n      <td>28577</td>\n      <td>Экшн</td>\n      <td>848833</td>\n      <td>Apex Legends: 1000 Coins - DLC</td>\n      <td>749.00</td>\n      <td>1.0</td>\n      <td>M</td>\n      <td>18</td>\n      <td>SCH</td>\n      <td>Москва</td>\n      <td>170486</td>\n      <td>0.0</td>\n    </tr>\n    <tr>\n      <th>88695</th>\n      <td>1500302138</td>\n      <td>5-2IKJ0HXNU</td>\n      <td>2022-07-25</td>\n      <td>28577</td>\n      <td>Экшн</td>\n      <td>848833</td>\n      <td>Apex Legends: 1000 Coins - DLC</td>\n      <td>749.00</td>\n      <td>1.0</td>\n      <td>M</td>\n      <td>19</td>\n      <td>UGR</td>\n      <td>Самара</td>\n      <td>38000</td>\n      <td>0.0</td>\n    </tr>\n    <tr>\n      <th>88696</th>\n      <td>1500351510</td>\n      <td>5-8EVSLK13</td>\n      <td>2022-10-05</td>\n      <td>28577</td>\n      <td>Экшн</td>\n      <td>1406123</td>\n      <td>Dome Keeper - Deluxe Edition</td>\n      <td>561.60</td>\n      <td>1.0</td>\n      <td>M</td>\n      <td>33</td>\n      <td>SCH</td>\n      <td>Краснодар</td>\n      <td>230000</td>\n      <td>0.0</td>\n    </tr>\n    <tr>\n      <th>88697</th>\n      <td>1500476540</td>\n      <td>5-122LQCE7M</td>\n      <td>2023-02-13</td>\n      <td>28574</td>\n      <td>Ролевые (RPG)</td>\n      <td>848895</td>\n      <td>Gothic Universe Edition</td>\n      <td>59.80</td>\n      <td>1.0</td>\n      <td>M</td>\n      <td>37</td>\n      <td>GRD</td>\n      <td>Москва</td>\n      <td>170000</td>\n      <td>0.0</td>\n    </tr>\n    <tr>\n      <th>88698</th>\n      <td>1500463949</td>\n      <td>5-U2IQQ7BO</td>\n      <td>2023-01-30</td>\n      <td>28577</td>\n      <td>Экшн</td>\n      <td>847741</td>\n      <td>METAL GEAR SOLID V: The Definitive Experience</td>\n      <td>999.01</td>\n      <td>1.0</td>\n      <td>M</td>\n      <td>25</td>\n      <td>GRD</td>\n      <td>Уфа</td>\n      <td>86000</td>\n      <td>0.0</td>\n    </tr>\n  </tbody>\n</table>\n<p>88699 rows × 15 columns</p>\n</div>"
     },
     "execution_count": 5,
     "metadata": {},
     "output_type": "execute_result"
    }
   ],
   "source": [
    "import pandas as pd\n",
    "df = pd.read_csv(\"data\\\\T_games_dataset.csv\")\n",
    "df "
   ]
  },
  {
   "cell_type": "markdown",
   "metadata": {
    "pycharm": {
     "name": "#%% md\n"
    }
   },
   "source": [
    "### Correlation matrix"
   ]
  },
  {
   "cell_type": "code",
   "execution_count": 6,
   "metadata": {
    "pycharm": {
     "name": "#%%\n"
    }
   },
   "outputs": [
    {
     "data": {
      "text/plain": "                              id  category_id   good_id  good_price  good_cnt  \\\nid                      1.000000     0.123616  0.374713    0.079111       NaN   \ncategory_id             0.123616     1.000000  0.008595    0.166359       NaN   \ngood_id                 0.374713     0.008595  1.000000    0.267472       NaN   \ngood_price              0.079111     0.166359  0.267472    1.000000       NaN   \ngood_cnt                     NaN          NaN       NaN         NaN       NaN   \nage                    -0.110476    -0.033827  0.011241    0.062653       NaN   \nmonthly_income_amt     -0.034600     0.003557  0.008738    0.063729       NaN   \nsteam_popularity_score -0.011402    -0.068590  0.016732   -0.136922       NaN   \n\n                             age  monthly_income_amt  steam_popularity_score  \nid                     -0.110476           -0.034600               -0.011402  \ncategory_id            -0.033827            0.003557               -0.068590  \ngood_id                 0.011241            0.008738                0.016732  \ngood_price              0.062653            0.063729               -0.136922  \ngood_cnt                     NaN                 NaN                     NaN  \nage                     1.000000            0.098496               -0.018706  \nmonthly_income_amt      0.098496            1.000000               -0.002438  \nsteam_popularity_score -0.018706           -0.002438                1.000000  ",
      "text/html": "<div>\n<style scoped>\n    .dataframe tbody tr th:only-of-type {\n        vertical-align: middle;\n    }\n\n    .dataframe tbody tr th {\n        vertical-align: top;\n    }\n\n    .dataframe thead th {\n        text-align: right;\n    }\n</style>\n<table border=\"1\" class=\"dataframe\">\n  <thead>\n    <tr style=\"text-align: right;\">\n      <th></th>\n      <th>id</th>\n      <th>category_id</th>\n      <th>good_id</th>\n      <th>good_price</th>\n      <th>good_cnt</th>\n      <th>age</th>\n      <th>monthly_income_amt</th>\n      <th>steam_popularity_score</th>\n    </tr>\n  </thead>\n  <tbody>\n    <tr>\n      <th>id</th>\n      <td>1.000000</td>\n      <td>0.123616</td>\n      <td>0.374713</td>\n      <td>0.079111</td>\n      <td>NaN</td>\n      <td>-0.110476</td>\n      <td>-0.034600</td>\n      <td>-0.011402</td>\n    </tr>\n    <tr>\n      <th>category_id</th>\n      <td>0.123616</td>\n      <td>1.000000</td>\n      <td>0.008595</td>\n      <td>0.166359</td>\n      <td>NaN</td>\n      <td>-0.033827</td>\n      <td>0.003557</td>\n      <td>-0.068590</td>\n    </tr>\n    <tr>\n      <th>good_id</th>\n      <td>0.374713</td>\n      <td>0.008595</td>\n      <td>1.000000</td>\n      <td>0.267472</td>\n      <td>NaN</td>\n      <td>0.011241</td>\n      <td>0.008738</td>\n      <td>0.016732</td>\n    </tr>\n    <tr>\n      <th>good_price</th>\n      <td>0.079111</td>\n      <td>0.166359</td>\n      <td>0.267472</td>\n      <td>1.000000</td>\n      <td>NaN</td>\n      <td>0.062653</td>\n      <td>0.063729</td>\n      <td>-0.136922</td>\n    </tr>\n    <tr>\n      <th>good_cnt</th>\n      <td>NaN</td>\n      <td>NaN</td>\n      <td>NaN</td>\n      <td>NaN</td>\n      <td>NaN</td>\n      <td>NaN</td>\n      <td>NaN</td>\n      <td>NaN</td>\n    </tr>\n    <tr>\n      <th>age</th>\n      <td>-0.110476</td>\n      <td>-0.033827</td>\n      <td>0.011241</td>\n      <td>0.062653</td>\n      <td>NaN</td>\n      <td>1.000000</td>\n      <td>0.098496</td>\n      <td>-0.018706</td>\n    </tr>\n    <tr>\n      <th>monthly_income_amt</th>\n      <td>-0.034600</td>\n      <td>0.003557</td>\n      <td>0.008738</td>\n      <td>0.063729</td>\n      <td>NaN</td>\n      <td>0.098496</td>\n      <td>1.000000</td>\n      <td>-0.002438</td>\n    </tr>\n    <tr>\n      <th>steam_popularity_score</th>\n      <td>-0.011402</td>\n      <td>-0.068590</td>\n      <td>0.016732</td>\n      <td>-0.136922</td>\n      <td>NaN</td>\n      <td>-0.018706</td>\n      <td>-0.002438</td>\n      <td>1.000000</td>\n    </tr>\n  </tbody>\n</table>\n</div>"
     },
     "execution_count": 6,
     "metadata": {},
     "output_type": "execute_result"
    }
   ],
   "source": [
    "numeric_df = df.select_dtypes(include=[float,int])\n",
    "correlation_matrix = numeric_df.corr()\n",
    "correlation_matrix"
   ]
  },
  {
   "cell_type": "markdown",
   "source": [
    "### Data cleaning"
   ],
   "metadata": {
    "collapsed": false,
    "pycharm": {
     "name": "#%% md\n"
    }
   }
  },
  {
   "cell_type": "code",
   "execution_count": 7,
   "outputs": [
    {
     "data": {
      "text/plain": "               id    client_id   order_day  category_id    category_name  \\\n0      1500571355  5-25R6ZT3L9  2023-05-22        29688           Скидки   \n1      1500571245  5-2P4Z5VSMF  2023-05-22        28574    Ролевые (RPG)   \n2      1500573164   5-YGO64ONA  2023-05-24        30659  Казуальные игры   \n3      1500364601  5-1VA0D94LX  2022-10-23        29688           Скидки   \n4      1500288143  5-1QCUV9SY7  2022-07-03        28577             Экшн   \n...           ...          ...         ...          ...              ...   \n88694  1500300796  5-355R05SQ3  2022-07-23        28577             Экшн   \n88695  1500302138  5-2IKJ0HXNU  2022-07-25        28577             Экшн   \n88696  1500351510   5-8EVSLK13  2022-10-05        28577             Экшн   \n88697  1500476540  5-122LQCE7M  2023-02-13        28574    Ролевые (RPG)   \n88698  1500463949   5-U2IQQ7BO  2023-01-30        28577             Экшн   \n\n       good_id                                          good_name  good_price  \\\n0       890257                            The Night of the Rabbit      299.00   \n1      1436296     Ni no Kuni Wrath of the White Witch Remastered      269.85   \n2      1179848  KeyWe - The 100th Annual Grand Ol' Telepost To...       77.00   \n3      1204914                                               GTFO     1675.01   \n4      1314503                                         Neon White      550.00   \n...        ...                                                ...         ...   \n88694   848833                     Apex Legends: 1000 Coins - DLC      749.00   \n88695   848833                     Apex Legends: 1000 Coins - DLC      749.00   \n88696  1406123                       Dome Keeper - Deluxe Edition      561.60   \n88697   848895                            Gothic Universe Edition       59.80   \n88698   847741      METAL GEAR SOLID V: The Definitive Experience      999.01   \n\n       good_cnt gender_cd  age education_level          city_nm  \\\n0           1.0         M   28             UGR           Москва   \n1           1.0         M   26             GRD           Москва   \n2           1.0         M   30             GRD           Москва   \n3           1.0         M   24             GRD           Самара   \n4           1.0         M   38             GRD  Санкт-Петербург   \n...         ...       ...  ...             ...              ...   \n88694       1.0         M   18             SCH           Москва   \n88695       1.0         M   19             UGR           Самара   \n88696       1.0         M   33             SCH        Краснодар   \n88697       1.0         M   37             GRD           Москва   \n88698       1.0         M   25             GRD              Уфа   \n\n       monthly_income_amt  steam_popularity_score  \n0                   73552                     0.0  \n1                  281417                     0.0  \n2                   86000                     0.0  \n3                   56000                   283.0  \n4                   32000                  1676.0  \n...                   ...                     ...  \n88694              170486                     0.0  \n88695               38000                     0.0  \n88696              230000                     0.0  \n88697              170000                     0.0  \n88698               86000                     0.0  \n\n[75212 rows x 15 columns]",
      "text/html": "<div>\n<style scoped>\n    .dataframe tbody tr th:only-of-type {\n        vertical-align: middle;\n    }\n\n    .dataframe tbody tr th {\n        vertical-align: top;\n    }\n\n    .dataframe thead th {\n        text-align: right;\n    }\n</style>\n<table border=\"1\" class=\"dataframe\">\n  <thead>\n    <tr style=\"text-align: right;\">\n      <th></th>\n      <th>id</th>\n      <th>client_id</th>\n      <th>order_day</th>\n      <th>category_id</th>\n      <th>category_name</th>\n      <th>good_id</th>\n      <th>good_name</th>\n      <th>good_price</th>\n      <th>good_cnt</th>\n      <th>gender_cd</th>\n      <th>age</th>\n      <th>education_level</th>\n      <th>city_nm</th>\n      <th>monthly_income_amt</th>\n      <th>steam_popularity_score</th>\n    </tr>\n  </thead>\n  <tbody>\n    <tr>\n      <th>0</th>\n      <td>1500571355</td>\n      <td>5-25R6ZT3L9</td>\n      <td>2023-05-22</td>\n      <td>29688</td>\n      <td>Скидки</td>\n      <td>890257</td>\n      <td>The Night of the Rabbit</td>\n      <td>299.00</td>\n      <td>1.0</td>\n      <td>M</td>\n      <td>28</td>\n      <td>UGR</td>\n      <td>Москва</td>\n      <td>73552</td>\n      <td>0.0</td>\n    </tr>\n    <tr>\n      <th>1</th>\n      <td>1500571245</td>\n      <td>5-2P4Z5VSMF</td>\n      <td>2023-05-22</td>\n      <td>28574</td>\n      <td>Ролевые (RPG)</td>\n      <td>1436296</td>\n      <td>Ni no Kuni Wrath of the White Witch Remastered</td>\n      <td>269.85</td>\n      <td>1.0</td>\n      <td>M</td>\n      <td>26</td>\n      <td>GRD</td>\n      <td>Москва</td>\n      <td>281417</td>\n      <td>0.0</td>\n    </tr>\n    <tr>\n      <th>2</th>\n      <td>1500573164</td>\n      <td>5-YGO64ONA</td>\n      <td>2023-05-24</td>\n      <td>30659</td>\n      <td>Казуальные игры</td>\n      <td>1179848</td>\n      <td>KeyWe - The 100th Annual Grand Ol' Telepost To...</td>\n      <td>77.00</td>\n      <td>1.0</td>\n      <td>M</td>\n      <td>30</td>\n      <td>GRD</td>\n      <td>Москва</td>\n      <td>86000</td>\n      <td>0.0</td>\n    </tr>\n    <tr>\n      <th>3</th>\n      <td>1500364601</td>\n      <td>5-1VA0D94LX</td>\n      <td>2022-10-23</td>\n      <td>29688</td>\n      <td>Скидки</td>\n      <td>1204914</td>\n      <td>GTFO</td>\n      <td>1675.01</td>\n      <td>1.0</td>\n      <td>M</td>\n      <td>24</td>\n      <td>GRD</td>\n      <td>Самара</td>\n      <td>56000</td>\n      <td>283.0</td>\n    </tr>\n    <tr>\n      <th>4</th>\n      <td>1500288143</td>\n      <td>5-1QCUV9SY7</td>\n      <td>2022-07-03</td>\n      <td>28577</td>\n      <td>Экшн</td>\n      <td>1314503</td>\n      <td>Neon White</td>\n      <td>550.00</td>\n      <td>1.0</td>\n      <td>M</td>\n      <td>38</td>\n      <td>GRD</td>\n      <td>Санкт-Петербург</td>\n      <td>32000</td>\n      <td>1676.0</td>\n    </tr>\n    <tr>\n      <th>...</th>\n      <td>...</td>\n      <td>...</td>\n      <td>...</td>\n      <td>...</td>\n      <td>...</td>\n      <td>...</td>\n      <td>...</td>\n      <td>...</td>\n      <td>...</td>\n      <td>...</td>\n      <td>...</td>\n      <td>...</td>\n      <td>...</td>\n      <td>...</td>\n      <td>...</td>\n    </tr>\n    <tr>\n      <th>88694</th>\n      <td>1500300796</td>\n      <td>5-355R05SQ3</td>\n      <td>2022-07-23</td>\n      <td>28577</td>\n      <td>Экшн</td>\n      <td>848833</td>\n      <td>Apex Legends: 1000 Coins - DLC</td>\n      <td>749.00</td>\n      <td>1.0</td>\n      <td>M</td>\n      <td>18</td>\n      <td>SCH</td>\n      <td>Москва</td>\n      <td>170486</td>\n      <td>0.0</td>\n    </tr>\n    <tr>\n      <th>88695</th>\n      <td>1500302138</td>\n      <td>5-2IKJ0HXNU</td>\n      <td>2022-07-25</td>\n      <td>28577</td>\n      <td>Экшн</td>\n      <td>848833</td>\n      <td>Apex Legends: 1000 Coins - DLC</td>\n      <td>749.00</td>\n      <td>1.0</td>\n      <td>M</td>\n      <td>19</td>\n      <td>UGR</td>\n      <td>Самара</td>\n      <td>38000</td>\n      <td>0.0</td>\n    </tr>\n    <tr>\n      <th>88696</th>\n      <td>1500351510</td>\n      <td>5-8EVSLK13</td>\n      <td>2022-10-05</td>\n      <td>28577</td>\n      <td>Экшн</td>\n      <td>1406123</td>\n      <td>Dome Keeper - Deluxe Edition</td>\n      <td>561.60</td>\n      <td>1.0</td>\n      <td>M</td>\n      <td>33</td>\n      <td>SCH</td>\n      <td>Краснодар</td>\n      <td>230000</td>\n      <td>0.0</td>\n    </tr>\n    <tr>\n      <th>88697</th>\n      <td>1500476540</td>\n      <td>5-122LQCE7M</td>\n      <td>2023-02-13</td>\n      <td>28574</td>\n      <td>Ролевые (RPG)</td>\n      <td>848895</td>\n      <td>Gothic Universe Edition</td>\n      <td>59.80</td>\n      <td>1.0</td>\n      <td>M</td>\n      <td>37</td>\n      <td>GRD</td>\n      <td>Москва</td>\n      <td>170000</td>\n      <td>0.0</td>\n    </tr>\n    <tr>\n      <th>88698</th>\n      <td>1500463949</td>\n      <td>5-U2IQQ7BO</td>\n      <td>2023-01-30</td>\n      <td>28577</td>\n      <td>Экшн</td>\n      <td>847741</td>\n      <td>METAL GEAR SOLID V: The Definitive Experience</td>\n      <td>999.01</td>\n      <td>1.0</td>\n      <td>M</td>\n      <td>25</td>\n      <td>GRD</td>\n      <td>Уфа</td>\n      <td>86000</td>\n      <td>0.0</td>\n    </tr>\n  </tbody>\n</table>\n<p>75212 rows × 15 columns</p>\n</div>"
     },
     "execution_count": 7,
     "metadata": {},
     "output_type": "execute_result"
    }
   ],
   "source": [
    "clearDf = df.loc[(df[\"age\"] >= 14) & (df[\"monthly_income_amt\"] >= 0)]\n",
    "clearDf"
   ],
   "metadata": {
    "collapsed": false,
    "pycharm": {
     "name": "#%%\n"
    }
   }
  },
  {
   "cell_type": "code",
   "execution_count": 8,
   "outputs": [
    {
     "data": {
      "text/plain": "                              id  category_id   good_id  good_price  good_cnt  \\\nid                      1.000000     0.127074  0.376679    0.087945       NaN   \ncategory_id             0.127074     1.000000  0.009984    0.169055       NaN   \ngood_id                 0.376679     0.009984  1.000000    0.274275       NaN   \ngood_price              0.087945     0.169055  0.274275    1.000000       NaN   \ngood_cnt                     NaN          NaN       NaN         NaN       NaN   \nage                    -0.073910    -0.036636  0.025438    0.046189       NaN   \nmonthly_income_amt     -0.042501     0.003695  0.006499    0.072741       NaN   \nsteam_popularity_score -0.018053    -0.071515  0.016291   -0.135010       NaN   \n\n                             age  monthly_income_amt  steam_popularity_score  \nid                     -0.073910           -0.042501               -0.018053  \ncategory_id            -0.036636            0.003695               -0.071515  \ngood_id                 0.025438            0.006499                0.016291  \ngood_price              0.046189            0.072741               -0.135010  \ngood_cnt                     NaN                 NaN                     NaN  \nage                     1.000000            0.064685               -0.010683  \nmonthly_income_amt      0.064685            1.000000               -0.003372  \nsteam_popularity_score -0.010683           -0.003372                1.000000  ",
      "text/html": "<div>\n<style scoped>\n    .dataframe tbody tr th:only-of-type {\n        vertical-align: middle;\n    }\n\n    .dataframe tbody tr th {\n        vertical-align: top;\n    }\n\n    .dataframe thead th {\n        text-align: right;\n    }\n</style>\n<table border=\"1\" class=\"dataframe\">\n  <thead>\n    <tr style=\"text-align: right;\">\n      <th></th>\n      <th>id</th>\n      <th>category_id</th>\n      <th>good_id</th>\n      <th>good_price</th>\n      <th>good_cnt</th>\n      <th>age</th>\n      <th>monthly_income_amt</th>\n      <th>steam_popularity_score</th>\n    </tr>\n  </thead>\n  <tbody>\n    <tr>\n      <th>id</th>\n      <td>1.000000</td>\n      <td>0.127074</td>\n      <td>0.376679</td>\n      <td>0.087945</td>\n      <td>NaN</td>\n      <td>-0.073910</td>\n      <td>-0.042501</td>\n      <td>-0.018053</td>\n    </tr>\n    <tr>\n      <th>category_id</th>\n      <td>0.127074</td>\n      <td>1.000000</td>\n      <td>0.009984</td>\n      <td>0.169055</td>\n      <td>NaN</td>\n      <td>-0.036636</td>\n      <td>0.003695</td>\n      <td>-0.071515</td>\n    </tr>\n    <tr>\n      <th>good_id</th>\n      <td>0.376679</td>\n      <td>0.009984</td>\n      <td>1.000000</td>\n      <td>0.274275</td>\n      <td>NaN</td>\n      <td>0.025438</td>\n      <td>0.006499</td>\n      <td>0.016291</td>\n    </tr>\n    <tr>\n      <th>good_price</th>\n      <td>0.087945</td>\n      <td>0.169055</td>\n      <td>0.274275</td>\n      <td>1.000000</td>\n      <td>NaN</td>\n      <td>0.046189</td>\n      <td>0.072741</td>\n      <td>-0.135010</td>\n    </tr>\n    <tr>\n      <th>good_cnt</th>\n      <td>NaN</td>\n      <td>NaN</td>\n      <td>NaN</td>\n      <td>NaN</td>\n      <td>NaN</td>\n      <td>NaN</td>\n      <td>NaN</td>\n      <td>NaN</td>\n    </tr>\n    <tr>\n      <th>age</th>\n      <td>-0.073910</td>\n      <td>-0.036636</td>\n      <td>0.025438</td>\n      <td>0.046189</td>\n      <td>NaN</td>\n      <td>1.000000</td>\n      <td>0.064685</td>\n      <td>-0.010683</td>\n    </tr>\n    <tr>\n      <th>monthly_income_amt</th>\n      <td>-0.042501</td>\n      <td>0.003695</td>\n      <td>0.006499</td>\n      <td>0.072741</td>\n      <td>NaN</td>\n      <td>0.064685</td>\n      <td>1.000000</td>\n      <td>-0.003372</td>\n    </tr>\n    <tr>\n      <th>steam_popularity_score</th>\n      <td>-0.018053</td>\n      <td>-0.071515</td>\n      <td>0.016291</td>\n      <td>-0.135010</td>\n      <td>NaN</td>\n      <td>-0.010683</td>\n      <td>-0.003372</td>\n      <td>1.000000</td>\n    </tr>\n  </tbody>\n</table>\n</div>"
     },
     "execution_count": 8,
     "metadata": {},
     "output_type": "execute_result"
    }
   ],
   "source": [
    "numeric_df = clearDf.select_dtypes(include=[float,int])\n",
    "correlation_matrix = numeric_df.corr()\n",
    "correlation_matrix"
   ],
   "metadata": {
    "collapsed": false,
    "pycharm": {
     "name": "#%%\n"
    }
   }
  },
  {
   "cell_type": "code",
   "execution_count": null,
   "outputs": [],
   "source": [],
   "metadata": {
    "collapsed": false,
    "pycharm": {
     "name": "#%%\n"
    }
   }
  }
 ],
 "metadata": {
  "kernelspec": {
   "display_name": "Python 3",
   "language": "python",
   "name": "python3"
  },
  "language_info": {
   "codemirror_mode": {
    "name": "ipython",
    "version": 3
   },
   "file_extension": ".py",
   "mimetype": "text/x-python",
   "name": "python",
   "nbconvert_exporter": "python",
   "pygments_lexer": "ipython3",
   "version": "3.10.9"
  }
 },
 "nbformat": 4,
 "nbformat_minor": 2
}