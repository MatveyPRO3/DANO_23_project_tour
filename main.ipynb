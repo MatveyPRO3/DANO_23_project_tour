{
 "cells": [
  {
   "cell_type": "markdown",
   "metadata": {
    "pycharm": {
     "name": "#%% md\n"
    }
   },
   "source": [
    "### Initializing cell"
   ]
  },
  {
   "cell_type": "code",
   "execution_count": 28,
   "metadata": {
    "pycharm": {
     "name": "#%%\n"
    }
   },
   "outputs": [
    {
     "data": {
      "text/plain": "               id    client_id   order_day  category_id    category_name  \\\n0      1500571355  5-25R6ZT3L9  2023-05-22        29688           Скидки   \n1      1500571245  5-2P4Z5VSMF  2023-05-22        28574    Ролевые (RPG)   \n2      1500573164   5-YGO64ONA  2023-05-24        30659  Казуальные игры   \n3      1500364601  5-1VA0D94LX  2022-10-23        29688           Скидки   \n4      1500288143  5-1QCUV9SY7  2022-07-03        28577             Экшн   \n...           ...          ...         ...          ...              ...   \n88694  1500300796  5-355R05SQ3  2022-07-23        28577             Экшн   \n88695  1500302138  5-2IKJ0HXNU  2022-07-25        28577             Экшн   \n88696  1500351510   5-8EVSLK13  2022-10-05        28577             Экшн   \n88697  1500476540  5-122LQCE7M  2023-02-13        28574    Ролевые (RPG)   \n88698  1500463949   5-U2IQQ7BO  2023-01-30        28577             Экшн   \n\n       good_id                                          good_name  good_price  \\\n0       890257                            The Night of the Rabbit      299.00   \n1      1436296     Ni no Kuni Wrath of the White Witch Remastered      269.85   \n2      1179848  KeyWe - The 100th Annual Grand Ol' Telepost To...       77.00   \n3      1204914                                               GTFO     1675.01   \n4      1314503                                         Neon White      550.00   \n...        ...                                                ...         ...   \n88694   848833                     Apex Legends: 1000 Coins - DLC      749.00   \n88695   848833                     Apex Legends: 1000 Coins - DLC      749.00   \n88696  1406123                       Dome Keeper - Deluxe Edition      561.60   \n88697   848895                            Gothic Universe Edition       59.80   \n88698   847741      METAL GEAR SOLID V: The Definitive Experience      999.01   \n\n       good_cnt gender_cd  age education_level          city_nm  \\\n0           1.0         M   28             UGR           Москва   \n1           1.0         M   26             GRD           Москва   \n2           1.0         M   30             GRD           Москва   \n3           1.0         M   24             GRD           Самара   \n4           1.0         M   38             GRD  Санкт-Петербург   \n...         ...       ...  ...             ...              ...   \n88694       1.0         M   18             SCH           Москва   \n88695       1.0         M   19             UGR           Самара   \n88696       1.0         M   33             SCH        Краснодар   \n88697       1.0         M   37             GRD           Москва   \n88698       1.0         M   25             GRD              Уфа   \n\n       monthly_income_amt  steam_popularity_score  \n0                   73552                     0.0  \n1                  281417                     0.0  \n2                   86000                     0.0  \n3                   56000                   283.0  \n4                   32000                  1676.0  \n...                   ...                     ...  \n88694              170486                     0.0  \n88695               38000                     0.0  \n88696              230000                     0.0  \n88697              170000                     0.0  \n88698               86000                     0.0  \n\n[88699 rows x 15 columns]",
      "text/html": "<div>\n<style scoped>\n    .dataframe tbody tr th:only-of-type {\n        vertical-align: middle;\n    }\n\n    .dataframe tbody tr th {\n        vertical-align: top;\n    }\n\n    .dataframe thead th {\n        text-align: right;\n    }\n</style>\n<table border=\"1\" class=\"dataframe\">\n  <thead>\n    <tr style=\"text-align: right;\">\n      <th></th>\n      <th>id</th>\n      <th>client_id</th>\n      <th>order_day</th>\n      <th>category_id</th>\n      <th>category_name</th>\n      <th>good_id</th>\n      <th>good_name</th>\n      <th>good_price</th>\n      <th>good_cnt</th>\n      <th>gender_cd</th>\n      <th>age</th>\n      <th>education_level</th>\n      <th>city_nm</th>\n      <th>monthly_income_amt</th>\n      <th>steam_popularity_score</th>\n    </tr>\n  </thead>\n  <tbody>\n    <tr>\n      <th>0</th>\n      <td>1500571355</td>\n      <td>5-25R6ZT3L9</td>\n      <td>2023-05-22</td>\n      <td>29688</td>\n      <td>Скидки</td>\n      <td>890257</td>\n      <td>The Night of the Rabbit</td>\n      <td>299.00</td>\n      <td>1.0</td>\n      <td>M</td>\n      <td>28</td>\n      <td>UGR</td>\n      <td>Москва</td>\n      <td>73552</td>\n      <td>0.0</td>\n    </tr>\n    <tr>\n      <th>1</th>\n      <td>1500571245</td>\n      <td>5-2P4Z5VSMF</td>\n      <td>2023-05-22</td>\n      <td>28574</td>\n      <td>Ролевые (RPG)</td>\n      <td>1436296</td>\n      <td>Ni no Kuni Wrath of the White Witch Remastered</td>\n      <td>269.85</td>\n      <td>1.0</td>\n      <td>M</td>\n      <td>26</td>\n      <td>GRD</td>\n      <td>Москва</td>\n      <td>281417</td>\n      <td>0.0</td>\n    </tr>\n    <tr>\n      <th>2</th>\n      <td>1500573164</td>\n      <td>5-YGO64ONA</td>\n      <td>2023-05-24</td>\n      <td>30659</td>\n      <td>Казуальные игры</td>\n      <td>1179848</td>\n      <td>KeyWe - The 100th Annual Grand Ol' Telepost To...</td>\n      <td>77.00</td>\n      <td>1.0</td>\n      <td>M</td>\n      <td>30</td>\n      <td>GRD</td>\n      <td>Москва</td>\n      <td>86000</td>\n      <td>0.0</td>\n    </tr>\n    <tr>\n      <th>3</th>\n      <td>1500364601</td>\n      <td>5-1VA0D94LX</td>\n      <td>2022-10-23</td>\n      <td>29688</td>\n      <td>Скидки</td>\n      <td>1204914</td>\n      <td>GTFO</td>\n      <td>1675.01</td>\n      <td>1.0</td>\n      <td>M</td>\n      <td>24</td>\n      <td>GRD</td>\n      <td>Самара</td>\n      <td>56000</td>\n      <td>283.0</td>\n    </tr>\n    <tr>\n      <th>4</th>\n      <td>1500288143</td>\n      <td>5-1QCUV9SY7</td>\n      <td>2022-07-03</td>\n      <td>28577</td>\n      <td>Экшн</td>\n      <td>1314503</td>\n      <td>Neon White</td>\n      <td>550.00</td>\n      <td>1.0</td>\n      <td>M</td>\n      <td>38</td>\n      <td>GRD</td>\n      <td>Санкт-Петербург</td>\n      <td>32000</td>\n      <td>1676.0</td>\n    </tr>\n    <tr>\n      <th>...</th>\n      <td>...</td>\n      <td>...</td>\n      <td>...</td>\n      <td>...</td>\n      <td>...</td>\n      <td>...</td>\n      <td>...</td>\n      <td>...</td>\n      <td>...</td>\n      <td>...</td>\n      <td>...</td>\n      <td>...</td>\n      <td>...</td>\n      <td>...</td>\n      <td>...</td>\n    </tr>\n    <tr>\n      <th>88694</th>\n      <td>1500300796</td>\n      <td>5-355R05SQ3</td>\n      <td>2022-07-23</td>\n      <td>28577</td>\n      <td>Экшн</td>\n      <td>848833</td>\n      <td>Apex Legends: 1000 Coins - DLC</td>\n      <td>749.00</td>\n      <td>1.0</td>\n      <td>M</td>\n      <td>18</td>\n      <td>SCH</td>\n      <td>Москва</td>\n      <td>170486</td>\n      <td>0.0</td>\n    </tr>\n    <tr>\n      <th>88695</th>\n      <td>1500302138</td>\n      <td>5-2IKJ0HXNU</td>\n      <td>2022-07-25</td>\n      <td>28577</td>\n      <td>Экшн</td>\n      <td>848833</td>\n      <td>Apex Legends: 1000 Coins - DLC</td>\n      <td>749.00</td>\n      <td>1.0</td>\n      <td>M</td>\n      <td>19</td>\n      <td>UGR</td>\n      <td>Самара</td>\n      <td>38000</td>\n      <td>0.0</td>\n    </tr>\n    <tr>\n      <th>88696</th>\n      <td>1500351510</td>\n      <td>5-8EVSLK13</td>\n      <td>2022-10-05</td>\n      <td>28577</td>\n      <td>Экшн</td>\n      <td>1406123</td>\n      <td>Dome Keeper - Deluxe Edition</td>\n      <td>561.60</td>\n      <td>1.0</td>\n      <td>M</td>\n      <td>33</td>\n      <td>SCH</td>\n      <td>Краснодар</td>\n      <td>230000</td>\n      <td>0.0</td>\n    </tr>\n    <tr>\n      <th>88697</th>\n      <td>1500476540</td>\n      <td>5-122LQCE7M</td>\n      <td>2023-02-13</td>\n      <td>28574</td>\n      <td>Ролевые (RPG)</td>\n      <td>848895</td>\n      <td>Gothic Universe Edition</td>\n      <td>59.80</td>\n      <td>1.0</td>\n      <td>M</td>\n      <td>37</td>\n      <td>GRD</td>\n      <td>Москва</td>\n      <td>170000</td>\n      <td>0.0</td>\n    </tr>\n    <tr>\n      <th>88698</th>\n      <td>1500463949</td>\n      <td>5-U2IQQ7BO</td>\n      <td>2023-01-30</td>\n      <td>28577</td>\n      <td>Экшн</td>\n      <td>847741</td>\n      <td>METAL GEAR SOLID V: The Definitive Experience</td>\n      <td>999.01</td>\n      <td>1.0</td>\n      <td>M</td>\n      <td>25</td>\n      <td>GRD</td>\n      <td>Уфа</td>\n      <td>86000</td>\n      <td>0.0</td>\n    </tr>\n  </tbody>\n</table>\n<p>88699 rows × 15 columns</p>\n</div>"
     },
     "execution_count": 28,
     "metadata": {},
     "output_type": "execute_result"
    }
   ],
   "source": [
    "import pandas as pd\n",
    "df = pd.read_csv(\"data\\\\T_games_dataset.csv\")\n",
    "df "
   ]
  },
  {
   "cell_type": "markdown",
   "metadata": {
    "pycharm": {
     "name": "#%% md\n"
    }
   },
   "source": [
    "### Correlation matrix"
   ]
  },
  {
   "cell_type": "code",
   "execution_count": 29,
   "metadata": {
    "pycharm": {
     "name": "#%%\n"
    }
   },
   "outputs": [
    {
     "data": {
      "text/plain": "                              id  category_id   good_id  good_price  good_cnt  \\\nid                      1.000000     0.123616  0.374713    0.079111       NaN   \ncategory_id             0.123616     1.000000  0.008595    0.166359       NaN   \ngood_id                 0.374713     0.008595  1.000000    0.267472       NaN   \ngood_price              0.079111     0.166359  0.267472    1.000000       NaN   \ngood_cnt                     NaN          NaN       NaN         NaN       NaN   \nage                    -0.110476    -0.033827  0.011241    0.062653       NaN   \nmonthly_income_amt     -0.034600     0.003557  0.008738    0.063729       NaN   \nsteam_popularity_score -0.011402    -0.068590  0.016732   -0.136922       NaN   \n\n                             age  monthly_income_amt  steam_popularity_score  \nid                     -0.110476           -0.034600               -0.011402  \ncategory_id            -0.033827            0.003557               -0.068590  \ngood_id                 0.011241            0.008738                0.016732  \ngood_price              0.062653            0.063729               -0.136922  \ngood_cnt                     NaN                 NaN                     NaN  \nage                     1.000000            0.098496               -0.018706  \nmonthly_income_amt      0.098496            1.000000               -0.002438  \nsteam_popularity_score -0.018706           -0.002438                1.000000  ",
      "text/html": "<div>\n<style scoped>\n    .dataframe tbody tr th:only-of-type {\n        vertical-align: middle;\n    }\n\n    .dataframe tbody tr th {\n        vertical-align: top;\n    }\n\n    .dataframe thead th {\n        text-align: right;\n    }\n</style>\n<table border=\"1\" class=\"dataframe\">\n  <thead>\n    <tr style=\"text-align: right;\">\n      <th></th>\n      <th>id</th>\n      <th>category_id</th>\n      <th>good_id</th>\n      <th>good_price</th>\n      <th>good_cnt</th>\n      <th>age</th>\n      <th>monthly_income_amt</th>\n      <th>steam_popularity_score</th>\n    </tr>\n  </thead>\n  <tbody>\n    <tr>\n      <th>id</th>\n      <td>1.000000</td>\n      <td>0.123616</td>\n      <td>0.374713</td>\n      <td>0.079111</td>\n      <td>NaN</td>\n      <td>-0.110476</td>\n      <td>-0.034600</td>\n      <td>-0.011402</td>\n    </tr>\n    <tr>\n      <th>category_id</th>\n      <td>0.123616</td>\n      <td>1.000000</td>\n      <td>0.008595</td>\n      <td>0.166359</td>\n      <td>NaN</td>\n      <td>-0.033827</td>\n      <td>0.003557</td>\n      <td>-0.068590</td>\n    </tr>\n    <tr>\n      <th>good_id</th>\n      <td>0.374713</td>\n      <td>0.008595</td>\n      <td>1.000000</td>\n      <td>0.267472</td>\n      <td>NaN</td>\n      <td>0.011241</td>\n      <td>0.008738</td>\n      <td>0.016732</td>\n    </tr>\n    <tr>\n      <th>good_price</th>\n      <td>0.079111</td>\n      <td>0.166359</td>\n      <td>0.267472</td>\n      <td>1.000000</td>\n      <td>NaN</td>\n      <td>0.062653</td>\n      <td>0.063729</td>\n      <td>-0.136922</td>\n    </tr>\n    <tr>\n      <th>good_cnt</th>\n      <td>NaN</td>\n      <td>NaN</td>\n      <td>NaN</td>\n      <td>NaN</td>\n      <td>NaN</td>\n      <td>NaN</td>\n      <td>NaN</td>\n      <td>NaN</td>\n    </tr>\n    <tr>\n      <th>age</th>\n      <td>-0.110476</td>\n      <td>-0.033827</td>\n      <td>0.011241</td>\n      <td>0.062653</td>\n      <td>NaN</td>\n      <td>1.000000</td>\n      <td>0.098496</td>\n      <td>-0.018706</td>\n    </tr>\n    <tr>\n      <th>monthly_income_amt</th>\n      <td>-0.034600</td>\n      <td>0.003557</td>\n      <td>0.008738</td>\n      <td>0.063729</td>\n      <td>NaN</td>\n      <td>0.098496</td>\n      <td>1.000000</td>\n      <td>-0.002438</td>\n    </tr>\n    <tr>\n      <th>steam_popularity_score</th>\n      <td>-0.011402</td>\n      <td>-0.068590</td>\n      <td>0.016732</td>\n      <td>-0.136922</td>\n      <td>NaN</td>\n      <td>-0.018706</td>\n      <td>-0.002438</td>\n      <td>1.000000</td>\n    </tr>\n  </tbody>\n</table>\n</div>"
     },
     "execution_count": 29,
     "metadata": {},
     "output_type": "execute_result"
    }
   ],
   "source": [
    "numeric_df = df.select_dtypes(include=[float,int])\n",
    "correlation_matrix = numeric_df.corr()\n",
    "correlation_matrix"
   ]
  },
  {
   "cell_type": "markdown",
   "source": [
    "### Data cleaning"
   ],
   "metadata": {
    "collapsed": false,
    "pycharm": {
     "name": "#%% md\n"
    }
   }
  },
  {
   "cell_type": "code",
   "execution_count": 30,
   "outputs": [
    {
     "data": {
      "text/plain": "               id    client_id   order_day  category_id    category_name  \\\n0      1500571355  5-25R6ZT3L9  2023-05-22        29688           Скидки   \n1      1500571245  5-2P4Z5VSMF  2023-05-22        28574    Ролевые (RPG)   \n2      1500573164   5-YGO64ONA  2023-05-24        30659  Казуальные игры   \n3      1500364601  5-1VA0D94LX  2022-10-23        29688           Скидки   \n4      1500288143  5-1QCUV9SY7  2022-07-03        28577             Экшн   \n...           ...          ...         ...          ...              ...   \n88694  1500300796  5-355R05SQ3  2022-07-23        28577             Экшн   \n88695  1500302138  5-2IKJ0HXNU  2022-07-25        28577             Экшн   \n88696  1500351510   5-8EVSLK13  2022-10-05        28577             Экшн   \n88697  1500476540  5-122LQCE7M  2023-02-13        28574    Ролевые (RPG)   \n88698  1500463949   5-U2IQQ7BO  2023-01-30        28577             Экшн   \n\n       good_id                                          good_name  good_price  \\\n0       890257                            The Night of the Rabbit      299.00   \n1      1436296     Ni no Kuni Wrath of the White Witch Remastered      269.85   \n2      1179848  KeyWe - The 100th Annual Grand Ol' Telepost To...       77.00   \n3      1204914                                               GTFO     1675.01   \n4      1314503                                         Neon White      550.00   \n...        ...                                                ...         ...   \n88694   848833                     Apex Legends: 1000 Coins - DLC      749.00   \n88695   848833                     Apex Legends: 1000 Coins - DLC      749.00   \n88696  1406123                       Dome Keeper - Deluxe Edition      561.60   \n88697   848895                            Gothic Universe Edition       59.80   \n88698   847741      METAL GEAR SOLID V: The Definitive Experience      999.01   \n\n       good_cnt gender_cd  age education_level          city_nm  \\\n0           1.0         M   28             UGR           Москва   \n1           1.0         M   26             GRD           Москва   \n2           1.0         M   30             GRD           Москва   \n3           1.0         M   24             GRD           Самара   \n4           1.0         M   38             GRD  Санкт-Петербург   \n...         ...       ...  ...             ...              ...   \n88694       1.0         M   18             SCH           Москва   \n88695       1.0         M   19             UGR           Самара   \n88696       1.0         M   33             SCH        Краснодар   \n88697       1.0         M   37             GRD           Москва   \n88698       1.0         M   25             GRD              Уфа   \n\n       monthly_income_amt  steam_popularity_score  \n0                   73552                     0.0  \n1                  281417                     0.0  \n2                   86000                     0.0  \n3                   56000                   283.0  \n4                   32000                  1676.0  \n...                   ...                     ...  \n88694              170486                     0.0  \n88695               38000                     0.0  \n88696              230000                     0.0  \n88697              170000                     0.0  \n88698               86000                     0.0  \n\n[75212 rows x 15 columns]",
      "text/html": "<div>\n<style scoped>\n    .dataframe tbody tr th:only-of-type {\n        vertical-align: middle;\n    }\n\n    .dataframe tbody tr th {\n        vertical-align: top;\n    }\n\n    .dataframe thead th {\n        text-align: right;\n    }\n</style>\n<table border=\"1\" class=\"dataframe\">\n  <thead>\n    <tr style=\"text-align: right;\">\n      <th></th>\n      <th>id</th>\n      <th>client_id</th>\n      <th>order_day</th>\n      <th>category_id</th>\n      <th>category_name</th>\n      <th>good_id</th>\n      <th>good_name</th>\n      <th>good_price</th>\n      <th>good_cnt</th>\n      <th>gender_cd</th>\n      <th>age</th>\n      <th>education_level</th>\n      <th>city_nm</th>\n      <th>monthly_income_amt</th>\n      <th>steam_popularity_score</th>\n    </tr>\n  </thead>\n  <tbody>\n    <tr>\n      <th>0</th>\n      <td>1500571355</td>\n      <td>5-25R6ZT3L9</td>\n      <td>2023-05-22</td>\n      <td>29688</td>\n      <td>Скидки</td>\n      <td>890257</td>\n      <td>The Night of the Rabbit</td>\n      <td>299.00</td>\n      <td>1.0</td>\n      <td>M</td>\n      <td>28</td>\n      <td>UGR</td>\n      <td>Москва</td>\n      <td>73552</td>\n      <td>0.0</td>\n    </tr>\n    <tr>\n      <th>1</th>\n      <td>1500571245</td>\n      <td>5-2P4Z5VSMF</td>\n      <td>2023-05-22</td>\n      <td>28574</td>\n      <td>Ролевые (RPG)</td>\n      <td>1436296</td>\n      <td>Ni no Kuni Wrath of the White Witch Remastered</td>\n      <td>269.85</td>\n      <td>1.0</td>\n      <td>M</td>\n      <td>26</td>\n      <td>GRD</td>\n      <td>Москва</td>\n      <td>281417</td>\n      <td>0.0</td>\n    </tr>\n    <tr>\n      <th>2</th>\n      <td>1500573164</td>\n      <td>5-YGO64ONA</td>\n      <td>2023-05-24</td>\n      <td>30659</td>\n      <td>Казуальные игры</td>\n      <td>1179848</td>\n      <td>KeyWe - The 100th Annual Grand Ol' Telepost To...</td>\n      <td>77.00</td>\n      <td>1.0</td>\n      <td>M</td>\n      <td>30</td>\n      <td>GRD</td>\n      <td>Москва</td>\n      <td>86000</td>\n      <td>0.0</td>\n    </tr>\n    <tr>\n      <th>3</th>\n      <td>1500364601</td>\n      <td>5-1VA0D94LX</td>\n      <td>2022-10-23</td>\n      <td>29688</td>\n      <td>Скидки</td>\n      <td>1204914</td>\n      <td>GTFO</td>\n      <td>1675.01</td>\n      <td>1.0</td>\n      <td>M</td>\n      <td>24</td>\n      <td>GRD</td>\n      <td>Самара</td>\n      <td>56000</td>\n      <td>283.0</td>\n    </tr>\n    <tr>\n      <th>4</th>\n      <td>1500288143</td>\n      <td>5-1QCUV9SY7</td>\n      <td>2022-07-03</td>\n      <td>28577</td>\n      <td>Экшн</td>\n      <td>1314503</td>\n      <td>Neon White</td>\n      <td>550.00</td>\n      <td>1.0</td>\n      <td>M</td>\n      <td>38</td>\n      <td>GRD</td>\n      <td>Санкт-Петербург</td>\n      <td>32000</td>\n      <td>1676.0</td>\n    </tr>\n    <tr>\n      <th>...</th>\n      <td>...</td>\n      <td>...</td>\n      <td>...</td>\n      <td>...</td>\n      <td>...</td>\n      <td>...</td>\n      <td>...</td>\n      <td>...</td>\n      <td>...</td>\n      <td>...</td>\n      <td>...</td>\n      <td>...</td>\n      <td>...</td>\n      <td>...</td>\n      <td>...</td>\n    </tr>\n    <tr>\n      <th>88694</th>\n      <td>1500300796</td>\n      <td>5-355R05SQ3</td>\n      <td>2022-07-23</td>\n      <td>28577</td>\n      <td>Экшн</td>\n      <td>848833</td>\n      <td>Apex Legends: 1000 Coins - DLC</td>\n      <td>749.00</td>\n      <td>1.0</td>\n      <td>M</td>\n      <td>18</td>\n      <td>SCH</td>\n      <td>Москва</td>\n      <td>170486</td>\n      <td>0.0</td>\n    </tr>\n    <tr>\n      <th>88695</th>\n      <td>1500302138</td>\n      <td>5-2IKJ0HXNU</td>\n      <td>2022-07-25</td>\n      <td>28577</td>\n      <td>Экшн</td>\n      <td>848833</td>\n      <td>Apex Legends: 1000 Coins - DLC</td>\n      <td>749.00</td>\n      <td>1.0</td>\n      <td>M</td>\n      <td>19</td>\n      <td>UGR</td>\n      <td>Самара</td>\n      <td>38000</td>\n      <td>0.0</td>\n    </tr>\n    <tr>\n      <th>88696</th>\n      <td>1500351510</td>\n      <td>5-8EVSLK13</td>\n      <td>2022-10-05</td>\n      <td>28577</td>\n      <td>Экшн</td>\n      <td>1406123</td>\n      <td>Dome Keeper - Deluxe Edition</td>\n      <td>561.60</td>\n      <td>1.0</td>\n      <td>M</td>\n      <td>33</td>\n      <td>SCH</td>\n      <td>Краснодар</td>\n      <td>230000</td>\n      <td>0.0</td>\n    </tr>\n    <tr>\n      <th>88697</th>\n      <td>1500476540</td>\n      <td>5-122LQCE7M</td>\n      <td>2023-02-13</td>\n      <td>28574</td>\n      <td>Ролевые (RPG)</td>\n      <td>848895</td>\n      <td>Gothic Universe Edition</td>\n      <td>59.80</td>\n      <td>1.0</td>\n      <td>M</td>\n      <td>37</td>\n      <td>GRD</td>\n      <td>Москва</td>\n      <td>170000</td>\n      <td>0.0</td>\n    </tr>\n    <tr>\n      <th>88698</th>\n      <td>1500463949</td>\n      <td>5-U2IQQ7BO</td>\n      <td>2023-01-30</td>\n      <td>28577</td>\n      <td>Экшн</td>\n      <td>847741</td>\n      <td>METAL GEAR SOLID V: The Definitive Experience</td>\n      <td>999.01</td>\n      <td>1.0</td>\n      <td>M</td>\n      <td>25</td>\n      <td>GRD</td>\n      <td>Уфа</td>\n      <td>86000</td>\n      <td>0.0</td>\n    </tr>\n  </tbody>\n</table>\n<p>75212 rows × 15 columns</p>\n</div>"
     },
     "execution_count": 30,
     "metadata": {},
     "output_type": "execute_result"
    }
   ],
   "source": [
    "clearDf = df[(df[\"age\"] >= 14) & (df[\"monthly_income_amt\"] >= 0)]\n",
    "clearDf"
   ],
   "metadata": {
    "collapsed": false,
    "pycharm": {
     "name": "#%%\n"
    }
   }
  },
  {
   "cell_type": "markdown",
   "source": [
    "### Correlation matrix after cleaning"
   ],
   "metadata": {
    "collapsed": false,
    "pycharm": {
     "name": "#%% md\n"
    }
   }
  },
  {
   "cell_type": "code",
   "execution_count": 31,
   "outputs": [
    {
     "data": {
      "text/plain": "                              id  category_id   good_id  good_price  good_cnt  \\\nid                      1.000000     0.127074  0.376679    0.087945       NaN   \ncategory_id             0.127074     1.000000  0.009984    0.169055       NaN   \ngood_id                 0.376679     0.009984  1.000000    0.274275       NaN   \ngood_price              0.087945     0.169055  0.274275    1.000000       NaN   \ngood_cnt                     NaN          NaN       NaN         NaN       NaN   \nage                    -0.073910    -0.036636  0.025438    0.046189       NaN   \nmonthly_income_amt     -0.042501     0.003695  0.006499    0.072741       NaN   \nsteam_popularity_score -0.018053    -0.071515  0.016291   -0.135010       NaN   \n\n                             age  monthly_income_amt  steam_popularity_score  \nid                     -0.073910           -0.042501               -0.018053  \ncategory_id            -0.036636            0.003695               -0.071515  \ngood_id                 0.025438            0.006499                0.016291  \ngood_price              0.046189            0.072741               -0.135010  \ngood_cnt                     NaN                 NaN                     NaN  \nage                     1.000000            0.064685               -0.010683  \nmonthly_income_amt      0.064685            1.000000               -0.003372  \nsteam_popularity_score -0.010683           -0.003372                1.000000  ",
      "text/html": "<div>\n<style scoped>\n    .dataframe tbody tr th:only-of-type {\n        vertical-align: middle;\n    }\n\n    .dataframe tbody tr th {\n        vertical-align: top;\n    }\n\n    .dataframe thead th {\n        text-align: right;\n    }\n</style>\n<table border=\"1\" class=\"dataframe\">\n  <thead>\n    <tr style=\"text-align: right;\">\n      <th></th>\n      <th>id</th>\n      <th>category_id</th>\n      <th>good_id</th>\n      <th>good_price</th>\n      <th>good_cnt</th>\n      <th>age</th>\n      <th>monthly_income_amt</th>\n      <th>steam_popularity_score</th>\n    </tr>\n  </thead>\n  <tbody>\n    <tr>\n      <th>id</th>\n      <td>1.000000</td>\n      <td>0.127074</td>\n      <td>0.376679</td>\n      <td>0.087945</td>\n      <td>NaN</td>\n      <td>-0.073910</td>\n      <td>-0.042501</td>\n      <td>-0.018053</td>\n    </tr>\n    <tr>\n      <th>category_id</th>\n      <td>0.127074</td>\n      <td>1.000000</td>\n      <td>0.009984</td>\n      <td>0.169055</td>\n      <td>NaN</td>\n      <td>-0.036636</td>\n      <td>0.003695</td>\n      <td>-0.071515</td>\n    </tr>\n    <tr>\n      <th>good_id</th>\n      <td>0.376679</td>\n      <td>0.009984</td>\n      <td>1.000000</td>\n      <td>0.274275</td>\n      <td>NaN</td>\n      <td>0.025438</td>\n      <td>0.006499</td>\n      <td>0.016291</td>\n    </tr>\n    <tr>\n      <th>good_price</th>\n      <td>0.087945</td>\n      <td>0.169055</td>\n      <td>0.274275</td>\n      <td>1.000000</td>\n      <td>NaN</td>\n      <td>0.046189</td>\n      <td>0.072741</td>\n      <td>-0.135010</td>\n    </tr>\n    <tr>\n      <th>good_cnt</th>\n      <td>NaN</td>\n      <td>NaN</td>\n      <td>NaN</td>\n      <td>NaN</td>\n      <td>NaN</td>\n      <td>NaN</td>\n      <td>NaN</td>\n      <td>NaN</td>\n    </tr>\n    <tr>\n      <th>age</th>\n      <td>-0.073910</td>\n      <td>-0.036636</td>\n      <td>0.025438</td>\n      <td>0.046189</td>\n      <td>NaN</td>\n      <td>1.000000</td>\n      <td>0.064685</td>\n      <td>-0.010683</td>\n    </tr>\n    <tr>\n      <th>monthly_income_amt</th>\n      <td>-0.042501</td>\n      <td>0.003695</td>\n      <td>0.006499</td>\n      <td>0.072741</td>\n      <td>NaN</td>\n      <td>0.064685</td>\n      <td>1.000000</td>\n      <td>-0.003372</td>\n    </tr>\n    <tr>\n      <th>steam_popularity_score</th>\n      <td>-0.018053</td>\n      <td>-0.071515</td>\n      <td>0.016291</td>\n      <td>-0.135010</td>\n      <td>NaN</td>\n      <td>-0.010683</td>\n      <td>-0.003372</td>\n      <td>1.000000</td>\n    </tr>\n  </tbody>\n</table>\n</div>"
     },
     "execution_count": 31,
     "metadata": {},
     "output_type": "execute_result"
    }
   ],
   "source": [
    "numeric_df = clearDf.select_dtypes(include=[float,int])\n",
    "correlation_matrix = numeric_df.corr()\n",
    "correlation_matrix"
   ],
   "metadata": {
    "collapsed": false,
    "pycharm": {
     "name": "#%%\n"
    }
   }
  },
  {
   "cell_type": "markdown",
   "source": [
    "### Analysis user orders count"
   ],
   "metadata": {
    "collapsed": false,
    "pycharm": {
     "name": "#%% md\n"
    }
   }
  },
  {
   "cell_type": "code",
   "execution_count": 43,
   "outputs": [
    {
     "data": {
      "text/plain": "             count\nclient_id         \n5-2DQMHMC43    279\n5-2FLMLXKNR    240\n5-22IBTMQRG    149\n5-1BAV9XWDT    146\n5-19AL2GTWV    124\n...            ...\n5-8VM6CZQ1       1\n5-35AICU0J9      1\n5-2IITEQ9QT      1\n5-146X4GMB4      1\n5-U2IQQ7BO       1\n\n[36048 rows x 1 columns]",
      "text/html": "<div>\n<style scoped>\n    .dataframe tbody tr th:only-of-type {\n        vertical-align: middle;\n    }\n\n    .dataframe tbody tr th {\n        vertical-align: top;\n    }\n\n    .dataframe thead th {\n        text-align: right;\n    }\n</style>\n<table border=\"1\" class=\"dataframe\">\n  <thead>\n    <tr style=\"text-align: right;\">\n      <th></th>\n      <th>count</th>\n    </tr>\n    <tr>\n      <th>client_id</th>\n      <th></th>\n    </tr>\n  </thead>\n  <tbody>\n    <tr>\n      <th>5-2DQMHMC43</th>\n      <td>279</td>\n    </tr>\n    <tr>\n      <th>5-2FLMLXKNR</th>\n      <td>240</td>\n    </tr>\n    <tr>\n      <th>5-22IBTMQRG</th>\n      <td>149</td>\n    </tr>\n    <tr>\n      <th>5-1BAV9XWDT</th>\n      <td>146</td>\n    </tr>\n    <tr>\n      <th>5-19AL2GTWV</th>\n      <td>124</td>\n    </tr>\n    <tr>\n      <th>...</th>\n      <td>...</td>\n    </tr>\n    <tr>\n      <th>5-8VM6CZQ1</th>\n      <td>1</td>\n    </tr>\n    <tr>\n      <th>5-35AICU0J9</th>\n      <td>1</td>\n    </tr>\n    <tr>\n      <th>5-2IITEQ9QT</th>\n      <td>1</td>\n    </tr>\n    <tr>\n      <th>5-146X4GMB4</th>\n      <td>1</td>\n    </tr>\n    <tr>\n      <th>5-U2IQQ7BO</th>\n      <td>1</td>\n    </tr>\n  </tbody>\n</table>\n<p>36048 rows × 1 columns</p>\n</div>"
     },
     "execution_count": 43,
     "metadata": {},
     "output_type": "execute_result"
    }
   ],
   "source": [
    "clientsWithOrderCount = clearDf[\"client_id\"].value_counts().reset_index().set_index(\"client_id\")\n",
    "clientsWithOrderCount"
   ],
   "metadata": {
    "collapsed": false,
    "pycharm": {
     "name": "#%%\n"
    }
   }
  },
  {
   "cell_type": "code",
   "execution_count": 33,
   "outputs": [
    {
     "data": {
      "text/plain": "               id    client_id   order_day  category_id    category_name  \\\n266    1500601869  5-2DQMHMC43  2023-06-24        28577             Экшн   \n612    1500617739  5-2DQMHMC43  2023-07-11        30659  Казуальные игры   \n752    1500702124  5-2DQMHMC43  2023-09-25        28577             Экшн   \n1224   1500601822  5-2DQMHMC43  2023-06-24        30659  Казуальные игры   \n1311   1500623493  5-2DQMHMC43  2023-07-20        28562      Приключения   \n...           ...          ...         ...          ...              ...   \n86622  1500524021  5-2DQMHMC43  2023-03-24        28574    Ролевые (RPG)   \n87007  1500548491  5-2DQMHMC43  2023-04-24        28577             Экшн   \n87204  1500543575  5-2DQMHMC43  2023-04-16        28577             Экшн   \n87292  1500601740  5-2DQMHMC43  2023-06-24        28555        Стратегии   \n87692  1500606807  5-2DQMHMC43  2023-06-30        28587           Аркады   \n\n       good_id                                          good_name  good_price  \\\n266    1124267                                       Timberman VS       24.40   \n612    1127143                            The Rosebud Condominium       59.80   \n752    1720700                                     Hotshot Racing       43.50   \n1224   1124230                               Mastema: Out of Hell       13.00   \n1311    847796                   Where the Water Tastes Like Wine      142.00   \n...        ...                                                ...         ...   \n86622   880490  Pathfinder: Wrath of the Righteous - Enhanced ...      449.70   \n87007  1123848                                          Excubitor       87.25   \n87204   848859                              Double Dragon Trilogy      149.00   \n87292  1124214                                 Earth 2150 Trilogy       14.90   \n87692   849047             Arcade Classics Anniversary Collection       87.00   \n\n       good_cnt gender_cd  age education_level      city_nm  \\\n266         1.0         M   39             GRD  Новосибирск   \n612         1.0         M   39             SCH  Новосибирск   \n752         1.0         M   39             UGR  Новосибирск   \n1224        1.0         M   39             GRD  Новосибирск   \n1311        1.0         M   39             GRD  Новосибирск   \n...         ...       ...  ...             ...          ...   \n86622       1.0         M   39             SCH  Новосибирск   \n87007       1.0         M   39             UGR  Новосибирск   \n87204       1.0         M   39             SCH  Новосибирск   \n87292       1.0         M   39             GRD  Новосибирск   \n87692       1.0         M   39             UGR  Новосибирск   \n\n       monthly_income_amt  steam_popularity_score  \n266                 26000                  3555.0  \n612                 26000                     0.0  \n752                 26000                     0.0  \n1224                26000                     0.0  \n1311                26000                     0.0  \n...                   ...                     ...  \n86622               26000                   176.0  \n87007               26000                     0.0  \n87204               26000                     0.0  \n87292               26000                  4187.0  \n87692               26000                     0.0  \n\n[279 rows x 15 columns]",
      "text/html": "<div>\n<style scoped>\n    .dataframe tbody tr th:only-of-type {\n        vertical-align: middle;\n    }\n\n    .dataframe tbody tr th {\n        vertical-align: top;\n    }\n\n    .dataframe thead th {\n        text-align: right;\n    }\n</style>\n<table border=\"1\" class=\"dataframe\">\n  <thead>\n    <tr style=\"text-align: right;\">\n      <th></th>\n      <th>id</th>\n      <th>client_id</th>\n      <th>order_day</th>\n      <th>category_id</th>\n      <th>category_name</th>\n      <th>good_id</th>\n      <th>good_name</th>\n      <th>good_price</th>\n      <th>good_cnt</th>\n      <th>gender_cd</th>\n      <th>age</th>\n      <th>education_level</th>\n      <th>city_nm</th>\n      <th>monthly_income_amt</th>\n      <th>steam_popularity_score</th>\n    </tr>\n  </thead>\n  <tbody>\n    <tr>\n      <th>266</th>\n      <td>1500601869</td>\n      <td>5-2DQMHMC43</td>\n      <td>2023-06-24</td>\n      <td>28577</td>\n      <td>Экшн</td>\n      <td>1124267</td>\n      <td>Timberman VS</td>\n      <td>24.40</td>\n      <td>1.0</td>\n      <td>M</td>\n      <td>39</td>\n      <td>GRD</td>\n      <td>Новосибирск</td>\n      <td>26000</td>\n      <td>3555.0</td>\n    </tr>\n    <tr>\n      <th>612</th>\n      <td>1500617739</td>\n      <td>5-2DQMHMC43</td>\n      <td>2023-07-11</td>\n      <td>30659</td>\n      <td>Казуальные игры</td>\n      <td>1127143</td>\n      <td>The Rosebud Condominium</td>\n      <td>59.80</td>\n      <td>1.0</td>\n      <td>M</td>\n      <td>39</td>\n      <td>SCH</td>\n      <td>Новосибирск</td>\n      <td>26000</td>\n      <td>0.0</td>\n    </tr>\n    <tr>\n      <th>752</th>\n      <td>1500702124</td>\n      <td>5-2DQMHMC43</td>\n      <td>2023-09-25</td>\n      <td>28577</td>\n      <td>Экшн</td>\n      <td>1720700</td>\n      <td>Hotshot Racing</td>\n      <td>43.50</td>\n      <td>1.0</td>\n      <td>M</td>\n      <td>39</td>\n      <td>UGR</td>\n      <td>Новосибирск</td>\n      <td>26000</td>\n      <td>0.0</td>\n    </tr>\n    <tr>\n      <th>1224</th>\n      <td>1500601822</td>\n      <td>5-2DQMHMC43</td>\n      <td>2023-06-24</td>\n      <td>30659</td>\n      <td>Казуальные игры</td>\n      <td>1124230</td>\n      <td>Mastema: Out of Hell</td>\n      <td>13.00</td>\n      <td>1.0</td>\n      <td>M</td>\n      <td>39</td>\n      <td>GRD</td>\n      <td>Новосибирск</td>\n      <td>26000</td>\n      <td>0.0</td>\n    </tr>\n    <tr>\n      <th>1311</th>\n      <td>1500623493</td>\n      <td>5-2DQMHMC43</td>\n      <td>2023-07-20</td>\n      <td>28562</td>\n      <td>Приключения</td>\n      <td>847796</td>\n      <td>Where the Water Tastes Like Wine</td>\n      <td>142.00</td>\n      <td>1.0</td>\n      <td>M</td>\n      <td>39</td>\n      <td>GRD</td>\n      <td>Новосибирск</td>\n      <td>26000</td>\n      <td>0.0</td>\n    </tr>\n    <tr>\n      <th>...</th>\n      <td>...</td>\n      <td>...</td>\n      <td>...</td>\n      <td>...</td>\n      <td>...</td>\n      <td>...</td>\n      <td>...</td>\n      <td>...</td>\n      <td>...</td>\n      <td>...</td>\n      <td>...</td>\n      <td>...</td>\n      <td>...</td>\n      <td>...</td>\n      <td>...</td>\n    </tr>\n    <tr>\n      <th>86622</th>\n      <td>1500524021</td>\n      <td>5-2DQMHMC43</td>\n      <td>2023-03-24</td>\n      <td>28574</td>\n      <td>Ролевые (RPG)</td>\n      <td>880490</td>\n      <td>Pathfinder: Wrath of the Righteous - Enhanced ...</td>\n      <td>449.70</td>\n      <td>1.0</td>\n      <td>M</td>\n      <td>39</td>\n      <td>SCH</td>\n      <td>Новосибирск</td>\n      <td>26000</td>\n      <td>176.0</td>\n    </tr>\n    <tr>\n      <th>87007</th>\n      <td>1500548491</td>\n      <td>5-2DQMHMC43</td>\n      <td>2023-04-24</td>\n      <td>28577</td>\n      <td>Экшн</td>\n      <td>1123848</td>\n      <td>Excubitor</td>\n      <td>87.25</td>\n      <td>1.0</td>\n      <td>M</td>\n      <td>39</td>\n      <td>UGR</td>\n      <td>Новосибирск</td>\n      <td>26000</td>\n      <td>0.0</td>\n    </tr>\n    <tr>\n      <th>87204</th>\n      <td>1500543575</td>\n      <td>5-2DQMHMC43</td>\n      <td>2023-04-16</td>\n      <td>28577</td>\n      <td>Экшн</td>\n      <td>848859</td>\n      <td>Double Dragon Trilogy</td>\n      <td>149.00</td>\n      <td>1.0</td>\n      <td>M</td>\n      <td>39</td>\n      <td>SCH</td>\n      <td>Новосибирск</td>\n      <td>26000</td>\n      <td>0.0</td>\n    </tr>\n    <tr>\n      <th>87292</th>\n      <td>1500601740</td>\n      <td>5-2DQMHMC43</td>\n      <td>2023-06-24</td>\n      <td>28555</td>\n      <td>Стратегии</td>\n      <td>1124214</td>\n      <td>Earth 2150 Trilogy</td>\n      <td>14.90</td>\n      <td>1.0</td>\n      <td>M</td>\n      <td>39</td>\n      <td>GRD</td>\n      <td>Новосибирск</td>\n      <td>26000</td>\n      <td>4187.0</td>\n    </tr>\n    <tr>\n      <th>87692</th>\n      <td>1500606807</td>\n      <td>5-2DQMHMC43</td>\n      <td>2023-06-30</td>\n      <td>28587</td>\n      <td>Аркады</td>\n      <td>849047</td>\n      <td>Arcade Classics Anniversary Collection</td>\n      <td>87.00</td>\n      <td>1.0</td>\n      <td>M</td>\n      <td>39</td>\n      <td>UGR</td>\n      <td>Новосибирск</td>\n      <td>26000</td>\n      <td>0.0</td>\n    </tr>\n  </tbody>\n</table>\n<p>279 rows × 15 columns</p>\n</div>"
     },
     "execution_count": 33,
     "metadata": {},
     "output_type": "execute_result"
    }
   ],
   "source": [
    "oneUser = clearDf[clearDf[\"client_id\"] == \"5-2DQMHMC43\"]\n",
    "oneUser"
   ],
   "metadata": {
    "collapsed": false,
    "pycharm": {
     "name": "#%%\n"
    }
   }
  },
  {
   "cell_type": "code",
   "execution_count": 34,
   "outputs": [
    {
     "data": {
      "text/plain": "               id    client_id   order_day  category_id  category_name  \\\n73548  1500332587  5-2DQMHMC43  2022-09-10        28574  Ролевые (RPG)   \n82799  1500523349  5-2DQMHMC43  2023-03-23        28565     Симуляторы   \n86622  1500524021  5-2DQMHMC43  2023-03-24        28574  Ролевые (RPG)   \n50408  1500524036  5-2DQMHMC43  2023-03-24        28555      Стратегии   \n9159   1500524039  5-2DQMHMC43  2023-03-24        28568           Инди   \n...           ...          ...         ...          ...            ...   \n3312   1500739667  5-2DQMHMC43  2023-10-17        28568           Инди   \n65868  1500739672  5-2DQMHMC43  2023-10-17        28568           Инди   \n20546  1500739665  5-2DQMHMC43  2023-10-17        28574  Ролевые (RPG)   \n73957  1500739674  5-2DQMHMC43  2023-10-17        28577           Экшн   \n46226  1500739664  5-2DQMHMC43  2023-10-17        28577           Экшн   \n\n       good_id                                          good_name  good_price  \\\n73548  1392680               Neptunia x SENRAN KAGURA: Ninja Wars      651.00   \n82799   887302                  Potion Craft: Alchemist Simulator      360.00   \n86622   880490  Pathfinder: Wrath of the Righteous - Enhanced ...      449.70   \n50408  1204923  Pathfinder: Wrath of the Righteous - Season Pa...      269.70   \n9159   1204921  Pathfinder: Wrath of the Righteous - Commander...      180.00   \n...        ...                                                ...         ...   \n3312   1587419                                         Dark Deity      220.00   \n65868  1685431                                        Patch Quest      329.40   \n20546  1124017                       Crouching Pony Hidden Dragon       37.80   \n73957  1124017                       Crouching Pony Hidden Dragon       37.80   \n46226  1124156                              The Protagonist: EX-1      116.25   \n\n       good_cnt gender_cd  age education_level      city_nm  \\\n73548       1.0         M   39             UGR  Новосибирск   \n82799       1.0         M   39             SCH  Новосибирск   \n86622       1.0         M   39             SCH  Новосибирск   \n50408       1.0         M   39             GRD  Новосибирск   \n9159        1.0         M   39             GRD  Новосибирск   \n...         ...       ...  ...             ...          ...   \n3312        1.0         M   39             SCH          Уфа   \n65868       1.0         M   39             SCH       Москва   \n20546       1.0         M   39             SCH    Краснодар   \n73957       1.0         M   39             GRD      Воронеж   \n46226       1.0         M   39             GRD      Воронеж   \n\n       monthly_income_amt  steam_popularity_score  \n73548               26000                     0.0  \n82799               26000                   524.0  \n86622               26000                   176.0  \n50408               26000                     0.0  \n9159                26000                     0.0  \n...                   ...                     ...  \n3312                26000                  3170.0  \n65868               26000                    48.0  \n20546               26000                     0.0  \n73957               26000                     0.0  \n46226               26000                     0.0  \n\n[279 rows x 15 columns]",
      "text/html": "<div>\n<style scoped>\n    .dataframe tbody tr th:only-of-type {\n        vertical-align: middle;\n    }\n\n    .dataframe tbody tr th {\n        vertical-align: top;\n    }\n\n    .dataframe thead th {\n        text-align: right;\n    }\n</style>\n<table border=\"1\" class=\"dataframe\">\n  <thead>\n    <tr style=\"text-align: right;\">\n      <th></th>\n      <th>id</th>\n      <th>client_id</th>\n      <th>order_day</th>\n      <th>category_id</th>\n      <th>category_name</th>\n      <th>good_id</th>\n      <th>good_name</th>\n      <th>good_price</th>\n      <th>good_cnt</th>\n      <th>gender_cd</th>\n      <th>age</th>\n      <th>education_level</th>\n      <th>city_nm</th>\n      <th>monthly_income_amt</th>\n      <th>steam_popularity_score</th>\n    </tr>\n  </thead>\n  <tbody>\n    <tr>\n      <th>73548</th>\n      <td>1500332587</td>\n      <td>5-2DQMHMC43</td>\n      <td>2022-09-10</td>\n      <td>28574</td>\n      <td>Ролевые (RPG)</td>\n      <td>1392680</td>\n      <td>Neptunia x SENRAN KAGURA: Ninja Wars</td>\n      <td>651.00</td>\n      <td>1.0</td>\n      <td>M</td>\n      <td>39</td>\n      <td>UGR</td>\n      <td>Новосибирск</td>\n      <td>26000</td>\n      <td>0.0</td>\n    </tr>\n    <tr>\n      <th>82799</th>\n      <td>1500523349</td>\n      <td>5-2DQMHMC43</td>\n      <td>2023-03-23</td>\n      <td>28565</td>\n      <td>Симуляторы</td>\n      <td>887302</td>\n      <td>Potion Craft: Alchemist Simulator</td>\n      <td>360.00</td>\n      <td>1.0</td>\n      <td>M</td>\n      <td>39</td>\n      <td>SCH</td>\n      <td>Новосибирск</td>\n      <td>26000</td>\n      <td>524.0</td>\n    </tr>\n    <tr>\n      <th>86622</th>\n      <td>1500524021</td>\n      <td>5-2DQMHMC43</td>\n      <td>2023-03-24</td>\n      <td>28574</td>\n      <td>Ролевые (RPG)</td>\n      <td>880490</td>\n      <td>Pathfinder: Wrath of the Righteous - Enhanced ...</td>\n      <td>449.70</td>\n      <td>1.0</td>\n      <td>M</td>\n      <td>39</td>\n      <td>SCH</td>\n      <td>Новосибирск</td>\n      <td>26000</td>\n      <td>176.0</td>\n    </tr>\n    <tr>\n      <th>50408</th>\n      <td>1500524036</td>\n      <td>5-2DQMHMC43</td>\n      <td>2023-03-24</td>\n      <td>28555</td>\n      <td>Стратегии</td>\n      <td>1204923</td>\n      <td>Pathfinder: Wrath of the Righteous - Season Pa...</td>\n      <td>269.70</td>\n      <td>1.0</td>\n      <td>M</td>\n      <td>39</td>\n      <td>GRD</td>\n      <td>Новосибирск</td>\n      <td>26000</td>\n      <td>0.0</td>\n    </tr>\n    <tr>\n      <th>9159</th>\n      <td>1500524039</td>\n      <td>5-2DQMHMC43</td>\n      <td>2023-03-24</td>\n      <td>28568</td>\n      <td>Инди</td>\n      <td>1204921</td>\n      <td>Pathfinder: Wrath of the Righteous - Commander...</td>\n      <td>180.00</td>\n      <td>1.0</td>\n      <td>M</td>\n      <td>39</td>\n      <td>GRD</td>\n      <td>Новосибирск</td>\n      <td>26000</td>\n      <td>0.0</td>\n    </tr>\n    <tr>\n      <th>...</th>\n      <td>...</td>\n      <td>...</td>\n      <td>...</td>\n      <td>...</td>\n      <td>...</td>\n      <td>...</td>\n      <td>...</td>\n      <td>...</td>\n      <td>...</td>\n      <td>...</td>\n      <td>...</td>\n      <td>...</td>\n      <td>...</td>\n      <td>...</td>\n      <td>...</td>\n    </tr>\n    <tr>\n      <th>3312</th>\n      <td>1500739667</td>\n      <td>5-2DQMHMC43</td>\n      <td>2023-10-17</td>\n      <td>28568</td>\n      <td>Инди</td>\n      <td>1587419</td>\n      <td>Dark Deity</td>\n      <td>220.00</td>\n      <td>1.0</td>\n      <td>M</td>\n      <td>39</td>\n      <td>SCH</td>\n      <td>Уфа</td>\n      <td>26000</td>\n      <td>3170.0</td>\n    </tr>\n    <tr>\n      <th>65868</th>\n      <td>1500739672</td>\n      <td>5-2DQMHMC43</td>\n      <td>2023-10-17</td>\n      <td>28568</td>\n      <td>Инди</td>\n      <td>1685431</td>\n      <td>Patch Quest</td>\n      <td>329.40</td>\n      <td>1.0</td>\n      <td>M</td>\n      <td>39</td>\n      <td>SCH</td>\n      <td>Москва</td>\n      <td>26000</td>\n      <td>48.0</td>\n    </tr>\n    <tr>\n      <th>20546</th>\n      <td>1500739665</td>\n      <td>5-2DQMHMC43</td>\n      <td>2023-10-17</td>\n      <td>28574</td>\n      <td>Ролевые (RPG)</td>\n      <td>1124017</td>\n      <td>Crouching Pony Hidden Dragon</td>\n      <td>37.80</td>\n      <td>1.0</td>\n      <td>M</td>\n      <td>39</td>\n      <td>SCH</td>\n      <td>Краснодар</td>\n      <td>26000</td>\n      <td>0.0</td>\n    </tr>\n    <tr>\n      <th>73957</th>\n      <td>1500739674</td>\n      <td>5-2DQMHMC43</td>\n      <td>2023-10-17</td>\n      <td>28577</td>\n      <td>Экшн</td>\n      <td>1124017</td>\n      <td>Crouching Pony Hidden Dragon</td>\n      <td>37.80</td>\n      <td>1.0</td>\n      <td>M</td>\n      <td>39</td>\n      <td>GRD</td>\n      <td>Воронеж</td>\n      <td>26000</td>\n      <td>0.0</td>\n    </tr>\n    <tr>\n      <th>46226</th>\n      <td>1500739664</td>\n      <td>5-2DQMHMC43</td>\n      <td>2023-10-17</td>\n      <td>28577</td>\n      <td>Экшн</td>\n      <td>1124156</td>\n      <td>The Protagonist: EX-1</td>\n      <td>116.25</td>\n      <td>1.0</td>\n      <td>M</td>\n      <td>39</td>\n      <td>GRD</td>\n      <td>Воронеж</td>\n      <td>26000</td>\n      <td>0.0</td>\n    </tr>\n  </tbody>\n</table>\n<p>279 rows × 15 columns</p>\n</div>"
     },
     "execution_count": 34,
     "metadata": {},
     "output_type": "execute_result"
    }
   ],
   "source": [
    "oneUser.sort_values(\"order_day\")"
   ],
   "metadata": {
    "collapsed": false,
    "pycharm": {
     "name": "#%%\n"
    }
   }
  },
  {
   "cell_type": "markdown",
   "source": [
    "### Grouping by client_id and calculating mean for numeric columns"
   ],
   "metadata": {
    "collapsed": false,
    "pycharm": {
     "name": "#%% md\n"
    }
   }
  },
  {
   "cell_type": "code",
   "execution_count": 36,
   "outputs": [],
   "source": [
    "numeric_cols = clearDf.select_dtypes(include=['float64', 'int64']).columns\n",
    "numeric_means = clearDf.groupby('client_id')[numeric_cols].mean()"
   ],
   "metadata": {
    "collapsed": false,
    "pycharm": {
     "name": "#%%\n"
    }
   }
  },
  {
   "cell_type": "markdown",
   "source": [
    "### Grouping by client_id and calculating mode for string columns"
   ],
   "metadata": {
    "collapsed": false,
    "pycharm": {
     "name": "#%% md\n"
    }
   }
  },
  {
   "cell_type": "code",
   "execution_count": 37,
   "outputs": [],
   "source": [
    "string_cols = clearDf.select_dtypes(include=['object']).columns\n",
    "string_modes = clearDf.groupby('client_id')[string_cols].agg(pd.Series.mode)"
   ],
   "metadata": {
    "collapsed": false,
    "pycharm": {
     "name": "#%%\n"
    }
   }
  },
  {
   "cell_type": "markdown",
   "source": [
    "### Since mode can return multiple values for ties, we'll take the first mode"
   ],
   "metadata": {
    "collapsed": false,
    "pycharm": {
     "name": "#%% md\n"
    }
   }
  },
  {
   "cell_type": "code",
   "execution_count": 38,
   "outputs": [],
   "source": [
    "for col in string_modes:\n",
    "    string_modes[col] = string_modes[col].apply(lambda x: x[0] if isinstance(x, pd.Series) else x)"
   ],
   "metadata": {
    "collapsed": false,
    "pycharm": {
     "name": "#%%\n"
    }
   }
  },
  {
   "cell_type": "markdown",
   "source": [
    "### Merging the two results"
   ],
   "metadata": {
    "collapsed": false,
    "pycharm": {
     "name": "#%% md\n"
    }
   }
  },
  {
   "cell_type": "code",
   "execution_count": 44,
   "outputs": [],
   "source": [
    "result_df = pd.concat([numeric_means, string_modes, clientsWithOrderCount], axis=1)"
   ],
   "metadata": {
    "collapsed": false,
    "pycharm": {
     "name": "#%%\n"
    }
   }
  },
  {
   "cell_type": "markdown",
   "source": [
    "### Display the first few rows of the result"
   ],
   "metadata": {
    "collapsed": false,
    "pycharm": {
     "name": "#%% md\n"
    }
   }
  },
  {
   "cell_type": "code",
   "execution_count": 45,
   "outputs": [
    {
     "data": {
      "text/plain": "                     id   category_id       good_id  good_price  good_cnt  \\\nclient_id                                                                   \n1-11B0XBL  1.500649e+09  28561.000000  1.424173e+06      359.60       1.0   \n1-14HPC7Z  1.500329e+09  28562.000000  1.127136e+06       29.00       1.0   \n1-15GSF3N  1.500358e+09  28555.000000  1.392682e+06      133.00       1.0   \n1-17GCAKP  1.500323e+09  28561.000000  1.127136e+06        7.25       1.0   \n1-1AJFCHX  1.500347e+09  28558.076923  9.745868e+05      628.77       1.0   \n\n            age  monthly_income_amt  steam_popularity_score  client_id  \\\nclient_id                                                                \n1-11B0XBL  35.0             20000.0                0.000000  1-11B0XBL   \n1-14HPC7Z  42.0            386000.0                0.000000  1-14HPC7Z   \n1-15GSF3N  36.0             16400.0                0.000000  1-15GSF3N   \n1-17GCAKP  48.0             62000.0                0.000000  1-17GCAKP   \n1-1AJFCHX  36.0            230000.0               21.692308  1-1AJFCHX   \n\n            order_day category_name  \\\nclient_id                             \n1-11B0XBL  2023-08-20        Хоррор   \n1-14HPC7Z  2022-09-05   Приключения   \n1-15GSF3N  2022-10-13     Стратегии   \n1-17GCAKP  2022-08-28        Хоррор   \n1-1AJFCHX  2022-09-11     Стратегии   \n\n                                                   good_name gender_cd  \\\nclient_id                                                                \n1-11B0XBL                                      Scorn (STEAM)         M   \n1-14HPC7Z                                              Noise         M   \n1-15GSF3N           Crusader Kings III: Friends & Foes - DLC         M   \n1-17GCAKP                                              Noise         M   \n1-1AJFCHX  [Age of Wonders 4, Europa Universalis IV: Empe...         M   \n\n          education_level          city_nm  count  \nclient_id                                          \n1-11B0XBL             UGR           Москва      1  \n1-14HPC7Z             UGR  Нижний Новгород      1  \n1-15GSF3N             UGR             Омск      1  \n1-17GCAKP             PGR     Екатеринбург      1  \n1-1AJFCHX             UGR           Москва     13  ",
      "text/html": "<div>\n<style scoped>\n    .dataframe tbody tr th:only-of-type {\n        vertical-align: middle;\n    }\n\n    .dataframe tbody tr th {\n        vertical-align: top;\n    }\n\n    .dataframe thead th {\n        text-align: right;\n    }\n</style>\n<table border=\"1\" class=\"dataframe\">\n  <thead>\n    <tr style=\"text-align: right;\">\n      <th></th>\n      <th>id</th>\n      <th>category_id</th>\n      <th>good_id</th>\n      <th>good_price</th>\n      <th>good_cnt</th>\n      <th>age</th>\n      <th>monthly_income_amt</th>\n      <th>steam_popularity_score</th>\n      <th>client_id</th>\n      <th>order_day</th>\n      <th>category_name</th>\n      <th>good_name</th>\n      <th>gender_cd</th>\n      <th>education_level</th>\n      <th>city_nm</th>\n      <th>count</th>\n    </tr>\n    <tr>\n      <th>client_id</th>\n      <th></th>\n      <th></th>\n      <th></th>\n      <th></th>\n      <th></th>\n      <th></th>\n      <th></th>\n      <th></th>\n      <th></th>\n      <th></th>\n      <th></th>\n      <th></th>\n      <th></th>\n      <th></th>\n      <th></th>\n      <th></th>\n    </tr>\n  </thead>\n  <tbody>\n    <tr>\n      <th>1-11B0XBL</th>\n      <td>1.500649e+09</td>\n      <td>28561.000000</td>\n      <td>1.424173e+06</td>\n      <td>359.60</td>\n      <td>1.0</td>\n      <td>35.0</td>\n      <td>20000.0</td>\n      <td>0.000000</td>\n      <td>1-11B0XBL</td>\n      <td>2023-08-20</td>\n      <td>Хоррор</td>\n      <td>Scorn (STEAM)</td>\n      <td>M</td>\n      <td>UGR</td>\n      <td>Москва</td>\n      <td>1</td>\n    </tr>\n    <tr>\n      <th>1-14HPC7Z</th>\n      <td>1.500329e+09</td>\n      <td>28562.000000</td>\n      <td>1.127136e+06</td>\n      <td>29.00</td>\n      <td>1.0</td>\n      <td>42.0</td>\n      <td>386000.0</td>\n      <td>0.000000</td>\n      <td>1-14HPC7Z</td>\n      <td>2022-09-05</td>\n      <td>Приключения</td>\n      <td>Noise</td>\n      <td>M</td>\n      <td>UGR</td>\n      <td>Нижний Новгород</td>\n      <td>1</td>\n    </tr>\n    <tr>\n      <th>1-15GSF3N</th>\n      <td>1.500358e+09</td>\n      <td>28555.000000</td>\n      <td>1.392682e+06</td>\n      <td>133.00</td>\n      <td>1.0</td>\n      <td>36.0</td>\n      <td>16400.0</td>\n      <td>0.000000</td>\n      <td>1-15GSF3N</td>\n      <td>2022-10-13</td>\n      <td>Стратегии</td>\n      <td>Crusader Kings III: Friends &amp; Foes - DLC</td>\n      <td>M</td>\n      <td>UGR</td>\n      <td>Омск</td>\n      <td>1</td>\n    </tr>\n    <tr>\n      <th>1-17GCAKP</th>\n      <td>1.500323e+09</td>\n      <td>28561.000000</td>\n      <td>1.127136e+06</td>\n      <td>7.25</td>\n      <td>1.0</td>\n      <td>48.0</td>\n      <td>62000.0</td>\n      <td>0.000000</td>\n      <td>1-17GCAKP</td>\n      <td>2022-08-28</td>\n      <td>Хоррор</td>\n      <td>Noise</td>\n      <td>M</td>\n      <td>PGR</td>\n      <td>Екатеринбург</td>\n      <td>1</td>\n    </tr>\n    <tr>\n      <th>1-1AJFCHX</th>\n      <td>1.500347e+09</td>\n      <td>28558.076923</td>\n      <td>9.745868e+05</td>\n      <td>628.77</td>\n      <td>1.0</td>\n      <td>36.0</td>\n      <td>230000.0</td>\n      <td>21.692308</td>\n      <td>1-1AJFCHX</td>\n      <td>2022-09-11</td>\n      <td>Стратегии</td>\n      <td>[Age of Wonders 4, Europa Universalis IV: Empe...</td>\n      <td>M</td>\n      <td>UGR</td>\n      <td>Москва</td>\n      <td>13</td>\n    </tr>\n  </tbody>\n</table>\n</div>"
     },
     "execution_count": 45,
     "metadata": {},
     "output_type": "execute_result"
    }
   ],
   "source": [
    "result_df.head()"
   ],
   "metadata": {
    "collapsed": false,
    "pycharm": {
     "name": "#%%\n"
    }
   }
  },
  {
   "cell_type": "markdown",
   "source": [
    "### Create the df with only the necessary columns"
   ],
   "metadata": {
    "collapsed": false,
    "pycharm": {
     "name": "#%% md\n"
    }
   }
  },
  {
   "cell_type": "code",
   "execution_count": 48,
   "outputs": [
    {
     "data": {
      "text/plain": "              age gender_cd education_level  \\\nclient_id                                     \n1-11B0XBL    35.0         M             UGR   \n1-14HPC7Z    42.0         M             UGR   \n1-15GSF3N    36.0         M             UGR   \n1-17GCAKP    48.0         M             PGR   \n1-1AJFCHX    36.0         M             UGR   \n...           ...       ...             ...   \n7-3LB1WGM5N  17.0         M             SCH   \n7-3LD4MQHZH  27.0         M             SCH   \n7-3LDM3SGMU  15.0         M             SCH   \n7-3LDU97X2M  19.0         M             GRD   \n7-3LFKWX6UG  19.0         M      [GRD, SCH]   \n\n                                            city_nm  monthly_income_amt  \\\nclient_id                                                                 \n1-11B0XBL                                    Москва             20000.0   \n1-14HPC7Z                           Нижний Новгород            386000.0   \n1-15GSF3N                                      Омск             16400.0   \n1-17GCAKP                              Екатеринбург             62000.0   \n1-1AJFCHX                                    Москва            230000.0   \n...                                             ...                 ...   \n7-3LB1WGM5N                                  Москва            127039.0   \n7-3LD4MQHZH  [Воронеж, Красноярск, Санкт-Петербург]            290000.0   \n7-3LDM3SGMU                            Екатеринбург            253215.0   \n7-3LDU97X2M                                  Москва              8000.0   \n7-3LFKWX6UG                      [Краснодар, Пермь]            305856.5   \n\n             steam_popularity_score category_name   good_price  count  \nclient_id                                                              \n1-11B0XBL                  0.000000        Хоррор   359.600000      1  \n1-14HPC7Z                  0.000000   Приключения    29.000000      1  \n1-15GSF3N                  0.000000     Стратегии   133.000000      1  \n1-17GCAKP                  0.000000        Хоррор     7.250000      1  \n1-1AJFCHX                 21.692308     Стратегии   628.770000     13  \n...                             ...           ...          ...    ...  \n7-3LB1WGM5N              803.000000          Экшн   350.710000      1  \n7-3LD4MQHZH              337.666667     Стратегии  2970.256667      3  \n7-3LDM3SGMU                0.000000      Файтинги  6548.380000      1  \n7-3LDU97X2M                0.000000   Бестселлеры   399.600000      1  \n7-3LFKWX6UG                0.000000  [Инди, Экшн]   957.700000      2  \n\n[36048 rows x 9 columns]",
      "text/html": "<div>\n<style scoped>\n    .dataframe tbody tr th:only-of-type {\n        vertical-align: middle;\n    }\n\n    .dataframe tbody tr th {\n        vertical-align: top;\n    }\n\n    .dataframe thead th {\n        text-align: right;\n    }\n</style>\n<table border=\"1\" class=\"dataframe\">\n  <thead>\n    <tr style=\"text-align: right;\">\n      <th></th>\n      <th>age</th>\n      <th>gender_cd</th>\n      <th>education_level</th>\n      <th>city_nm</th>\n      <th>monthly_income_amt</th>\n      <th>steam_popularity_score</th>\n      <th>category_name</th>\n      <th>good_price</th>\n      <th>count</th>\n    </tr>\n    <tr>\n      <th>client_id</th>\n      <th></th>\n      <th></th>\n      <th></th>\n      <th></th>\n      <th></th>\n      <th></th>\n      <th></th>\n      <th></th>\n      <th></th>\n    </tr>\n  </thead>\n  <tbody>\n    <tr>\n      <th>1-11B0XBL</th>\n      <td>35.0</td>\n      <td>M</td>\n      <td>UGR</td>\n      <td>Москва</td>\n      <td>20000.0</td>\n      <td>0.000000</td>\n      <td>Хоррор</td>\n      <td>359.600000</td>\n      <td>1</td>\n    </tr>\n    <tr>\n      <th>1-14HPC7Z</th>\n      <td>42.0</td>\n      <td>M</td>\n      <td>UGR</td>\n      <td>Нижний Новгород</td>\n      <td>386000.0</td>\n      <td>0.000000</td>\n      <td>Приключения</td>\n      <td>29.000000</td>\n      <td>1</td>\n    </tr>\n    <tr>\n      <th>1-15GSF3N</th>\n      <td>36.0</td>\n      <td>M</td>\n      <td>UGR</td>\n      <td>Омск</td>\n      <td>16400.0</td>\n      <td>0.000000</td>\n      <td>Стратегии</td>\n      <td>133.000000</td>\n      <td>1</td>\n    </tr>\n    <tr>\n      <th>1-17GCAKP</th>\n      <td>48.0</td>\n      <td>M</td>\n      <td>PGR</td>\n      <td>Екатеринбург</td>\n      <td>62000.0</td>\n      <td>0.000000</td>\n      <td>Хоррор</td>\n      <td>7.250000</td>\n      <td>1</td>\n    </tr>\n    <tr>\n      <th>1-1AJFCHX</th>\n      <td>36.0</td>\n      <td>M</td>\n      <td>UGR</td>\n      <td>Москва</td>\n      <td>230000.0</td>\n      <td>21.692308</td>\n      <td>Стратегии</td>\n      <td>628.770000</td>\n      <td>13</td>\n    </tr>\n    <tr>\n      <th>...</th>\n      <td>...</td>\n      <td>...</td>\n      <td>...</td>\n      <td>...</td>\n      <td>...</td>\n      <td>...</td>\n      <td>...</td>\n      <td>...</td>\n      <td>...</td>\n    </tr>\n    <tr>\n      <th>7-3LB1WGM5N</th>\n      <td>17.0</td>\n      <td>M</td>\n      <td>SCH</td>\n      <td>Москва</td>\n      <td>127039.0</td>\n      <td>803.000000</td>\n      <td>Экшн</td>\n      <td>350.710000</td>\n      <td>1</td>\n    </tr>\n    <tr>\n      <th>7-3LD4MQHZH</th>\n      <td>27.0</td>\n      <td>M</td>\n      <td>SCH</td>\n      <td>[Воронеж, Красноярск, Санкт-Петербург]</td>\n      <td>290000.0</td>\n      <td>337.666667</td>\n      <td>Стратегии</td>\n      <td>2970.256667</td>\n      <td>3</td>\n    </tr>\n    <tr>\n      <th>7-3LDM3SGMU</th>\n      <td>15.0</td>\n      <td>M</td>\n      <td>SCH</td>\n      <td>Екатеринбург</td>\n      <td>253215.0</td>\n      <td>0.000000</td>\n      <td>Файтинги</td>\n      <td>6548.380000</td>\n      <td>1</td>\n    </tr>\n    <tr>\n      <th>7-3LDU97X2M</th>\n      <td>19.0</td>\n      <td>M</td>\n      <td>GRD</td>\n      <td>Москва</td>\n      <td>8000.0</td>\n      <td>0.000000</td>\n      <td>Бестселлеры</td>\n      <td>399.600000</td>\n      <td>1</td>\n    </tr>\n    <tr>\n      <th>7-3LFKWX6UG</th>\n      <td>19.0</td>\n      <td>M</td>\n      <td>[GRD, SCH]</td>\n      <td>[Краснодар, Пермь]</td>\n      <td>305856.5</td>\n      <td>0.000000</td>\n      <td>[Инди, Экшн]</td>\n      <td>957.700000</td>\n      <td>2</td>\n    </tr>\n  </tbody>\n</table>\n<p>36048 rows × 9 columns</p>\n</div>"
     },
     "execution_count": 48,
     "metadata": {},
     "output_type": "execute_result"
    }
   ],
   "source": [
    "result_df_short = result_df[[\"age\", \"gender_cd\", \"education_level\", 'city_nm', \"monthly_income_amt\", \"steam_popularity_score\", \"category_name\", \"good_price\", \"count\"]]\n",
    "result_df_short"
   ],
   "metadata": {
    "collapsed": false,
    "pycharm": {
     "name": "#%%\n"
    }
   }
  },
  {
   "cell_type": "markdown",
   "source": [
    "### Writing user data to csv"
   ],
   "metadata": {
    "collapsed": false,
    "pycharm": {
     "name": "#%% md\n"
    }
   }
  },
  {
   "cell_type": "code",
   "execution_count": 51,
   "outputs": [],
   "source": [
    "result_df_short.to_csv(\"data\\\\users.csv\")"
   ],
   "metadata": {
    "collapsed": false,
    "pycharm": {
     "name": "#%%\n"
    }
   }
  },
  {
   "cell_type": "code",
   "execution_count": null,
   "outputs": [],
   "source": [],
   "metadata": {
    "collapsed": false,
    "pycharm": {
     "name": "#%%\n"
    }
   }
  }
 ],
 "metadata": {
  "kernelspec": {
   "display_name": "Python 3",
   "language": "python",
   "name": "python3"
  },
  "language_info": {
   "codemirror_mode": {
    "name": "ipython",
    "version": 3
   },
   "file_extension": ".py",
   "mimetype": "text/x-python",
   "name": "python",
   "nbconvert_exporter": "python",
   "pygments_lexer": "ipython3",
   "version": "3.10.9"
  }
 },
 "nbformat": 4,
 "nbformat_minor": 2
}