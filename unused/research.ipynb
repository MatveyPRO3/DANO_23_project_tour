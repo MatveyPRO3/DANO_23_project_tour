{
 "cells": [
  {
   "cell_type": "markdown",
   "metadata": {
    "pycharm": {
     "name": "#%% md\n"
    }
   },
   "source": [
    "### Initializing cell"
   ]
  },
  {
   "cell_type": "code",
   "execution_count": 88,
   "metadata": {
    "pycharm": {
     "name": "#%%\n"
    }
   },
   "outputs": [
    {
     "data": {
      "text/plain": "               id    client_id   order_day  category_id    category_name  \\\n0      1500571355  5-25R6ZT3L9  2023-05-22        29688           Скидки   \n1      1500571245  5-2P4Z5VSMF  2023-05-22        28574    Ролевые (RPG)   \n2      1500573164   5-YGO64ONA  2023-05-24        30659  Казуальные игры   \n3      1500364601  5-1VA0D94LX  2022-10-23        29688           Скидки   \n4      1500288143  5-1QCUV9SY7  2022-07-03        28577             Экшн   \n...           ...          ...         ...          ...              ...   \n88694  1500300796  5-355R05SQ3  2022-07-23        28577             Экшн   \n88695  1500302138  5-2IKJ0HXNU  2022-07-25        28577             Экшн   \n88696  1500351510   5-8EVSLK13  2022-10-05        28577             Экшн   \n88697  1500476540  5-122LQCE7M  2023-02-13        28574    Ролевые (RPG)   \n88698  1500463949   5-U2IQQ7BO  2023-01-30        28577             Экшн   \n\n       good_id                                          good_name  good_price  \\\n0       890257                            The Night of the Rabbit      299.00   \n1      1436296     Ni no Kuni Wrath of the White Witch Remastered      269.85   \n2      1179848  KeyWe - The 100th Annual Grand Ol' Telepost To...       77.00   \n3      1204914                                               GTFO     1675.01   \n4      1314503                                         Neon White      550.00   \n...        ...                                                ...         ...   \n88694   848833                     Apex Legends: 1000 Coins - DLC      749.00   \n88695   848833                     Apex Legends: 1000 Coins - DLC      749.00   \n88696  1406123                       Dome Keeper - Deluxe Edition      561.60   \n88697   848895                            Gothic Universe Edition       59.80   \n88698   847741      METAL GEAR SOLID V: The Definitive Experience      999.01   \n\n       good_cnt gender_cd  age education_level          city_nm  \\\n0           1.0         M   28             UGR           Москва   \n1           1.0         M   26             GRD           Москва   \n2           1.0         M   30             GRD           Москва   \n3           1.0         M   24             GRD           Самара   \n4           1.0         M   38             GRD  Санкт-Петербург   \n...         ...       ...  ...             ...              ...   \n88694       1.0         M   18             SCH           Москва   \n88695       1.0         M   19             UGR           Самара   \n88696       1.0         M   33             SCH        Краснодар   \n88697       1.0         M   37             GRD           Москва   \n88698       1.0         M   25             GRD              Уфа   \n\n       monthly_income_amt  steam_popularity_score  \n0                   73552                     0.0  \n1                  281417                     0.0  \n2                   86000                     0.0  \n3                   56000                   283.0  \n4                   32000                  1676.0  \n...                   ...                     ...  \n88694              170486                     0.0  \n88695               38000                     0.0  \n88696              230000                     0.0  \n88697              170000                     0.0  \n88698               86000                     0.0  \n\n[88699 rows x 15 columns]",
      "text/html": "<div>\n<style scoped>\n    .dataframe tbody tr th:only-of-type {\n        vertical-align: middle;\n    }\n\n    .dataframe tbody tr th {\n        vertical-align: top;\n    }\n\n    .dataframe thead th {\n        text-align: right;\n    }\n</style>\n<table border=\"1\" class=\"dataframe\">\n  <thead>\n    <tr style=\"text-align: right;\">\n      <th></th>\n      <th>id</th>\n      <th>client_id</th>\n      <th>order_day</th>\n      <th>category_id</th>\n      <th>category_name</th>\n      <th>good_id</th>\n      <th>good_name</th>\n      <th>good_price</th>\n      <th>good_cnt</th>\n      <th>gender_cd</th>\n      <th>age</th>\n      <th>education_level</th>\n      <th>city_nm</th>\n      <th>monthly_income_amt</th>\n      <th>steam_popularity_score</th>\n    </tr>\n  </thead>\n  <tbody>\n    <tr>\n      <th>0</th>\n      <td>1500571355</td>\n      <td>5-25R6ZT3L9</td>\n      <td>2023-05-22</td>\n      <td>29688</td>\n      <td>Скидки</td>\n      <td>890257</td>\n      <td>The Night of the Rabbit</td>\n      <td>299.00</td>\n      <td>1.0</td>\n      <td>M</td>\n      <td>28</td>\n      <td>UGR</td>\n      <td>Москва</td>\n      <td>73552</td>\n      <td>0.0</td>\n    </tr>\n    <tr>\n      <th>1</th>\n      <td>1500571245</td>\n      <td>5-2P4Z5VSMF</td>\n      <td>2023-05-22</td>\n      <td>28574</td>\n      <td>Ролевые (RPG)</td>\n      <td>1436296</td>\n      <td>Ni no Kuni Wrath of the White Witch Remastered</td>\n      <td>269.85</td>\n      <td>1.0</td>\n      <td>M</td>\n      <td>26</td>\n      <td>GRD</td>\n      <td>Москва</td>\n      <td>281417</td>\n      <td>0.0</td>\n    </tr>\n    <tr>\n      <th>2</th>\n      <td>1500573164</td>\n      <td>5-YGO64ONA</td>\n      <td>2023-05-24</td>\n      <td>30659</td>\n      <td>Казуальные игры</td>\n      <td>1179848</td>\n      <td>KeyWe - The 100th Annual Grand Ol' Telepost To...</td>\n      <td>77.00</td>\n      <td>1.0</td>\n      <td>M</td>\n      <td>30</td>\n      <td>GRD</td>\n      <td>Москва</td>\n      <td>86000</td>\n      <td>0.0</td>\n    </tr>\n    <tr>\n      <th>3</th>\n      <td>1500364601</td>\n      <td>5-1VA0D94LX</td>\n      <td>2022-10-23</td>\n      <td>29688</td>\n      <td>Скидки</td>\n      <td>1204914</td>\n      <td>GTFO</td>\n      <td>1675.01</td>\n      <td>1.0</td>\n      <td>M</td>\n      <td>24</td>\n      <td>GRD</td>\n      <td>Самара</td>\n      <td>56000</td>\n      <td>283.0</td>\n    </tr>\n    <tr>\n      <th>4</th>\n      <td>1500288143</td>\n      <td>5-1QCUV9SY7</td>\n      <td>2022-07-03</td>\n      <td>28577</td>\n      <td>Экшн</td>\n      <td>1314503</td>\n      <td>Neon White</td>\n      <td>550.00</td>\n      <td>1.0</td>\n      <td>M</td>\n      <td>38</td>\n      <td>GRD</td>\n      <td>Санкт-Петербург</td>\n      <td>32000</td>\n      <td>1676.0</td>\n    </tr>\n    <tr>\n      <th>...</th>\n      <td>...</td>\n      <td>...</td>\n      <td>...</td>\n      <td>...</td>\n      <td>...</td>\n      <td>...</td>\n      <td>...</td>\n      <td>...</td>\n      <td>...</td>\n      <td>...</td>\n      <td>...</td>\n      <td>...</td>\n      <td>...</td>\n      <td>...</td>\n      <td>...</td>\n    </tr>\n    <tr>\n      <th>88694</th>\n      <td>1500300796</td>\n      <td>5-355R05SQ3</td>\n      <td>2022-07-23</td>\n      <td>28577</td>\n      <td>Экшн</td>\n      <td>848833</td>\n      <td>Apex Legends: 1000 Coins - DLC</td>\n      <td>749.00</td>\n      <td>1.0</td>\n      <td>M</td>\n      <td>18</td>\n      <td>SCH</td>\n      <td>Москва</td>\n      <td>170486</td>\n      <td>0.0</td>\n    </tr>\n    <tr>\n      <th>88695</th>\n      <td>1500302138</td>\n      <td>5-2IKJ0HXNU</td>\n      <td>2022-07-25</td>\n      <td>28577</td>\n      <td>Экшн</td>\n      <td>848833</td>\n      <td>Apex Legends: 1000 Coins - DLC</td>\n      <td>749.00</td>\n      <td>1.0</td>\n      <td>M</td>\n      <td>19</td>\n      <td>UGR</td>\n      <td>Самара</td>\n      <td>38000</td>\n      <td>0.0</td>\n    </tr>\n    <tr>\n      <th>88696</th>\n      <td>1500351510</td>\n      <td>5-8EVSLK13</td>\n      <td>2022-10-05</td>\n      <td>28577</td>\n      <td>Экшн</td>\n      <td>1406123</td>\n      <td>Dome Keeper - Deluxe Edition</td>\n      <td>561.60</td>\n      <td>1.0</td>\n      <td>M</td>\n      <td>33</td>\n      <td>SCH</td>\n      <td>Краснодар</td>\n      <td>230000</td>\n      <td>0.0</td>\n    </tr>\n    <tr>\n      <th>88697</th>\n      <td>1500476540</td>\n      <td>5-122LQCE7M</td>\n      <td>2023-02-13</td>\n      <td>28574</td>\n      <td>Ролевые (RPG)</td>\n      <td>848895</td>\n      <td>Gothic Universe Edition</td>\n      <td>59.80</td>\n      <td>1.0</td>\n      <td>M</td>\n      <td>37</td>\n      <td>GRD</td>\n      <td>Москва</td>\n      <td>170000</td>\n      <td>0.0</td>\n    </tr>\n    <tr>\n      <th>88698</th>\n      <td>1500463949</td>\n      <td>5-U2IQQ7BO</td>\n      <td>2023-01-30</td>\n      <td>28577</td>\n      <td>Экшн</td>\n      <td>847741</td>\n      <td>METAL GEAR SOLID V: The Definitive Experience</td>\n      <td>999.01</td>\n      <td>1.0</td>\n      <td>M</td>\n      <td>25</td>\n      <td>GRD</td>\n      <td>Уфа</td>\n      <td>86000</td>\n      <td>0.0</td>\n    </tr>\n  </tbody>\n</table>\n<p>88699 rows × 15 columns</p>\n</div>"
     },
     "execution_count": 88,
     "metadata": {},
     "output_type": "execute_result"
    }
   ],
   "source": [
    "import pandas as pd\n",
    "df = pd.read_csv(\"data\\\\T_games_dataset.csv\")\n",
    "df "
   ]
  },
  {
   "cell_type": "markdown",
   "metadata": {
    "pycharm": {
     "name": "#%% md\n"
    }
   },
   "source": [
    "### Correlation matrix"
   ]
  },
  {
   "cell_type": "code",
   "execution_count": 89,
   "metadata": {
    "pycharm": {
     "name": "#%%\n"
    }
   },
   "outputs": [
    {
     "data": {
      "text/plain": "                              id  category_id   good_id  good_price  good_cnt  \\\nid                      1.000000     0.123616  0.374713    0.079111       NaN   \ncategory_id             0.123616     1.000000  0.008595    0.166359       NaN   \ngood_id                 0.374713     0.008595  1.000000    0.267472       NaN   \ngood_price              0.079111     0.166359  0.267472    1.000000       NaN   \ngood_cnt                     NaN          NaN       NaN         NaN       NaN   \nage                    -0.110476    -0.033827  0.011241    0.062653       NaN   \nmonthly_income_amt     -0.034600     0.003557  0.008738    0.063729       NaN   \nsteam_popularity_score -0.011402    -0.068590  0.016732   -0.136922       NaN   \n\n                             age  monthly_income_amt  steam_popularity_score  \nid                     -0.110476           -0.034600               -0.011402  \ncategory_id            -0.033827            0.003557               -0.068590  \ngood_id                 0.011241            0.008738                0.016732  \ngood_price              0.062653            0.063729               -0.136922  \ngood_cnt                     NaN                 NaN                     NaN  \nage                     1.000000            0.098496               -0.018706  \nmonthly_income_amt      0.098496            1.000000               -0.002438  \nsteam_popularity_score -0.018706           -0.002438                1.000000  ",
      "text/html": "<div>\n<style scoped>\n    .dataframe tbody tr th:only-of-type {\n        vertical-align: middle;\n    }\n\n    .dataframe tbody tr th {\n        vertical-align: top;\n    }\n\n    .dataframe thead th {\n        text-align: right;\n    }\n</style>\n<table border=\"1\" class=\"dataframe\">\n  <thead>\n    <tr style=\"text-align: right;\">\n      <th></th>\n      <th>id</th>\n      <th>category_id</th>\n      <th>good_id</th>\n      <th>good_price</th>\n      <th>good_cnt</th>\n      <th>age</th>\n      <th>monthly_income_amt</th>\n      <th>steam_popularity_score</th>\n    </tr>\n  </thead>\n  <tbody>\n    <tr>\n      <th>id</th>\n      <td>1.000000</td>\n      <td>0.123616</td>\n      <td>0.374713</td>\n      <td>0.079111</td>\n      <td>NaN</td>\n      <td>-0.110476</td>\n      <td>-0.034600</td>\n      <td>-0.011402</td>\n    </tr>\n    <tr>\n      <th>category_id</th>\n      <td>0.123616</td>\n      <td>1.000000</td>\n      <td>0.008595</td>\n      <td>0.166359</td>\n      <td>NaN</td>\n      <td>-0.033827</td>\n      <td>0.003557</td>\n      <td>-0.068590</td>\n    </tr>\n    <tr>\n      <th>good_id</th>\n      <td>0.374713</td>\n      <td>0.008595</td>\n      <td>1.000000</td>\n      <td>0.267472</td>\n      <td>NaN</td>\n      <td>0.011241</td>\n      <td>0.008738</td>\n      <td>0.016732</td>\n    </tr>\n    <tr>\n      <th>good_price</th>\n      <td>0.079111</td>\n      <td>0.166359</td>\n      <td>0.267472</td>\n      <td>1.000000</td>\n      <td>NaN</td>\n      <td>0.062653</td>\n      <td>0.063729</td>\n      <td>-0.136922</td>\n    </tr>\n    <tr>\n      <th>good_cnt</th>\n      <td>NaN</td>\n      <td>NaN</td>\n      <td>NaN</td>\n      <td>NaN</td>\n      <td>NaN</td>\n      <td>NaN</td>\n      <td>NaN</td>\n      <td>NaN</td>\n    </tr>\n    <tr>\n      <th>age</th>\n      <td>-0.110476</td>\n      <td>-0.033827</td>\n      <td>0.011241</td>\n      <td>0.062653</td>\n      <td>NaN</td>\n      <td>1.000000</td>\n      <td>0.098496</td>\n      <td>-0.018706</td>\n    </tr>\n    <tr>\n      <th>monthly_income_amt</th>\n      <td>-0.034600</td>\n      <td>0.003557</td>\n      <td>0.008738</td>\n      <td>0.063729</td>\n      <td>NaN</td>\n      <td>0.098496</td>\n      <td>1.000000</td>\n      <td>-0.002438</td>\n    </tr>\n    <tr>\n      <th>steam_popularity_score</th>\n      <td>-0.011402</td>\n      <td>-0.068590</td>\n      <td>0.016732</td>\n      <td>-0.136922</td>\n      <td>NaN</td>\n      <td>-0.018706</td>\n      <td>-0.002438</td>\n      <td>1.000000</td>\n    </tr>\n  </tbody>\n</table>\n</div>"
     },
     "execution_count": 89,
     "metadata": {},
     "output_type": "execute_result"
    }
   ],
   "source": [
    "numeric_df = df.select_dtypes(include=[float,int])\n",
    "correlation_matrix = numeric_df.corr()\n",
    "correlation_matrix"
   ]
  },
  {
   "cell_type": "markdown",
   "source": [
    "### Data cleaning"
   ],
   "metadata": {
    "collapsed": false,
    "pycharm": {
     "name": "#%% md\n"
    }
   }
  },
  {
   "cell_type": "code",
   "execution_count": 90,
   "outputs": [
    {
     "data": {
      "text/plain": "               id    client_id   order_day  category_id    category_name  \\\n0      1500571355  5-25R6ZT3L9  2023-05-22        29688           Скидки   \n1      1500571245  5-2P4Z5VSMF  2023-05-22        28574    Ролевые (RPG)   \n2      1500573164   5-YGO64ONA  2023-05-24        30659  Казуальные игры   \n3      1500364601  5-1VA0D94LX  2022-10-23        29688           Скидки   \n4      1500288143  5-1QCUV9SY7  2022-07-03        28577             Экшн   \n...           ...          ...         ...          ...              ...   \n88694  1500300796  5-355R05SQ3  2022-07-23        28577             Экшн   \n88695  1500302138  5-2IKJ0HXNU  2022-07-25        28577             Экшн   \n88696  1500351510   5-8EVSLK13  2022-10-05        28577             Экшн   \n88697  1500476540  5-122LQCE7M  2023-02-13        28574    Ролевые (RPG)   \n88698  1500463949   5-U2IQQ7BO  2023-01-30        28577             Экшн   \n\n       good_id                                          good_name  good_price  \\\n0       890257                            The Night of the Rabbit      299.00   \n1      1436296     Ni no Kuni Wrath of the White Witch Remastered      269.85   \n2      1179848  KeyWe - The 100th Annual Grand Ol' Telepost To...       77.00   \n3      1204914                                               GTFO     1675.01   \n4      1314503                                         Neon White      550.00   \n...        ...                                                ...         ...   \n88694   848833                     Apex Legends: 1000 Coins - DLC      749.00   \n88695   848833                     Apex Legends: 1000 Coins - DLC      749.00   \n88696  1406123                       Dome Keeper - Deluxe Edition      561.60   \n88697   848895                            Gothic Universe Edition       59.80   \n88698   847741      METAL GEAR SOLID V: The Definitive Experience      999.01   \n\n       good_cnt gender_cd  age education_level          city_nm  \\\n0           1.0         M   28             UGR           Москва   \n1           1.0         M   26             GRD           Москва   \n2           1.0         M   30             GRD           Москва   \n3           1.0         M   24             GRD           Самара   \n4           1.0         M   38             GRD  Санкт-Петербург   \n...         ...       ...  ...             ...              ...   \n88694       1.0         M   18             SCH           Москва   \n88695       1.0         M   19             UGR           Самара   \n88696       1.0         M   33             SCH        Краснодар   \n88697       1.0         M   37             GRD           Москва   \n88698       1.0         M   25             GRD              Уфа   \n\n       monthly_income_amt  steam_popularity_score  \n0                   73552                     0.0  \n1                  281417                     0.0  \n2                   86000                     0.0  \n3                   56000                   283.0  \n4                   32000                  1676.0  \n...                   ...                     ...  \n88694              170486                     0.0  \n88695               38000                     0.0  \n88696              230000                     0.0  \n88697              170000                     0.0  \n88698               86000                     0.0  \n\n[75212 rows x 15 columns]",
      "text/html": "<div>\n<style scoped>\n    .dataframe tbody tr th:only-of-type {\n        vertical-align: middle;\n    }\n\n    .dataframe tbody tr th {\n        vertical-align: top;\n    }\n\n    .dataframe thead th {\n        text-align: right;\n    }\n</style>\n<table border=\"1\" class=\"dataframe\">\n  <thead>\n    <tr style=\"text-align: right;\">\n      <th></th>\n      <th>id</th>\n      <th>client_id</th>\n      <th>order_day</th>\n      <th>category_id</th>\n      <th>category_name</th>\n      <th>good_id</th>\n      <th>good_name</th>\n      <th>good_price</th>\n      <th>good_cnt</th>\n      <th>gender_cd</th>\n      <th>age</th>\n      <th>education_level</th>\n      <th>city_nm</th>\n      <th>monthly_income_amt</th>\n      <th>steam_popularity_score</th>\n    </tr>\n  </thead>\n  <tbody>\n    <tr>\n      <th>0</th>\n      <td>1500571355</td>\n      <td>5-25R6ZT3L9</td>\n      <td>2023-05-22</td>\n      <td>29688</td>\n      <td>Скидки</td>\n      <td>890257</td>\n      <td>The Night of the Rabbit</td>\n      <td>299.00</td>\n      <td>1.0</td>\n      <td>M</td>\n      <td>28</td>\n      <td>UGR</td>\n      <td>Москва</td>\n      <td>73552</td>\n      <td>0.0</td>\n    </tr>\n    <tr>\n      <th>1</th>\n      <td>1500571245</td>\n      <td>5-2P4Z5VSMF</td>\n      <td>2023-05-22</td>\n      <td>28574</td>\n      <td>Ролевые (RPG)</td>\n      <td>1436296</td>\n      <td>Ni no Kuni Wrath of the White Witch Remastered</td>\n      <td>269.85</td>\n      <td>1.0</td>\n      <td>M</td>\n      <td>26</td>\n      <td>GRD</td>\n      <td>Москва</td>\n      <td>281417</td>\n      <td>0.0</td>\n    </tr>\n    <tr>\n      <th>2</th>\n      <td>1500573164</td>\n      <td>5-YGO64ONA</td>\n      <td>2023-05-24</td>\n      <td>30659</td>\n      <td>Казуальные игры</td>\n      <td>1179848</td>\n      <td>KeyWe - The 100th Annual Grand Ol' Telepost To...</td>\n      <td>77.00</td>\n      <td>1.0</td>\n      <td>M</td>\n      <td>30</td>\n      <td>GRD</td>\n      <td>Москва</td>\n      <td>86000</td>\n      <td>0.0</td>\n    </tr>\n    <tr>\n      <th>3</th>\n      <td>1500364601</td>\n      <td>5-1VA0D94LX</td>\n      <td>2022-10-23</td>\n      <td>29688</td>\n      <td>Скидки</td>\n      <td>1204914</td>\n      <td>GTFO</td>\n      <td>1675.01</td>\n      <td>1.0</td>\n      <td>M</td>\n      <td>24</td>\n      <td>GRD</td>\n      <td>Самара</td>\n      <td>56000</td>\n      <td>283.0</td>\n    </tr>\n    <tr>\n      <th>4</th>\n      <td>1500288143</td>\n      <td>5-1QCUV9SY7</td>\n      <td>2022-07-03</td>\n      <td>28577</td>\n      <td>Экшн</td>\n      <td>1314503</td>\n      <td>Neon White</td>\n      <td>550.00</td>\n      <td>1.0</td>\n      <td>M</td>\n      <td>38</td>\n      <td>GRD</td>\n      <td>Санкт-Петербург</td>\n      <td>32000</td>\n      <td>1676.0</td>\n    </tr>\n    <tr>\n      <th>...</th>\n      <td>...</td>\n      <td>...</td>\n      <td>...</td>\n      <td>...</td>\n      <td>...</td>\n      <td>...</td>\n      <td>...</td>\n      <td>...</td>\n      <td>...</td>\n      <td>...</td>\n      <td>...</td>\n      <td>...</td>\n      <td>...</td>\n      <td>...</td>\n      <td>...</td>\n    </tr>\n    <tr>\n      <th>88694</th>\n      <td>1500300796</td>\n      <td>5-355R05SQ3</td>\n      <td>2022-07-23</td>\n      <td>28577</td>\n      <td>Экшн</td>\n      <td>848833</td>\n      <td>Apex Legends: 1000 Coins - DLC</td>\n      <td>749.00</td>\n      <td>1.0</td>\n      <td>M</td>\n      <td>18</td>\n      <td>SCH</td>\n      <td>Москва</td>\n      <td>170486</td>\n      <td>0.0</td>\n    </tr>\n    <tr>\n      <th>88695</th>\n      <td>1500302138</td>\n      <td>5-2IKJ0HXNU</td>\n      <td>2022-07-25</td>\n      <td>28577</td>\n      <td>Экшн</td>\n      <td>848833</td>\n      <td>Apex Legends: 1000 Coins - DLC</td>\n      <td>749.00</td>\n      <td>1.0</td>\n      <td>M</td>\n      <td>19</td>\n      <td>UGR</td>\n      <td>Самара</td>\n      <td>38000</td>\n      <td>0.0</td>\n    </tr>\n    <tr>\n      <th>88696</th>\n      <td>1500351510</td>\n      <td>5-8EVSLK13</td>\n      <td>2022-10-05</td>\n      <td>28577</td>\n      <td>Экшн</td>\n      <td>1406123</td>\n      <td>Dome Keeper - Deluxe Edition</td>\n      <td>561.60</td>\n      <td>1.0</td>\n      <td>M</td>\n      <td>33</td>\n      <td>SCH</td>\n      <td>Краснодар</td>\n      <td>230000</td>\n      <td>0.0</td>\n    </tr>\n    <tr>\n      <th>88697</th>\n      <td>1500476540</td>\n      <td>5-122LQCE7M</td>\n      <td>2023-02-13</td>\n      <td>28574</td>\n      <td>Ролевые (RPG)</td>\n      <td>848895</td>\n      <td>Gothic Universe Edition</td>\n      <td>59.80</td>\n      <td>1.0</td>\n      <td>M</td>\n      <td>37</td>\n      <td>GRD</td>\n      <td>Москва</td>\n      <td>170000</td>\n      <td>0.0</td>\n    </tr>\n    <tr>\n      <th>88698</th>\n      <td>1500463949</td>\n      <td>5-U2IQQ7BO</td>\n      <td>2023-01-30</td>\n      <td>28577</td>\n      <td>Экшн</td>\n      <td>847741</td>\n      <td>METAL GEAR SOLID V: The Definitive Experience</td>\n      <td>999.01</td>\n      <td>1.0</td>\n      <td>M</td>\n      <td>25</td>\n      <td>GRD</td>\n      <td>Уфа</td>\n      <td>86000</td>\n      <td>0.0</td>\n    </tr>\n  </tbody>\n</table>\n<p>75212 rows × 15 columns</p>\n</div>"
     },
     "execution_count": 90,
     "metadata": {},
     "output_type": "execute_result"
    }
   ],
   "source": [
    "clearDf = df[(df[\"age\"] >= 14) & (df[\"monthly_income_amt\"] >= 0)]\n",
    "clearDf"
   ],
   "metadata": {
    "collapsed": false,
    "pycharm": {
     "name": "#%%\n"
    }
   }
  },
  {
   "cell_type": "markdown",
   "source": [
    "### Correlation matrix after cleaning"
   ],
   "metadata": {
    "collapsed": false,
    "pycharm": {
     "name": "#%% md\n"
    }
   }
  },
  {
   "cell_type": "code",
   "execution_count": 91,
   "outputs": [
    {
     "data": {
      "text/plain": "                              id  category_id   good_id  good_price  good_cnt  \\\nid                      1.000000     0.127074  0.376679    0.087945       NaN   \ncategory_id             0.127074     1.000000  0.009984    0.169055       NaN   \ngood_id                 0.376679     0.009984  1.000000    0.274275       NaN   \ngood_price              0.087945     0.169055  0.274275    1.000000       NaN   \ngood_cnt                     NaN          NaN       NaN         NaN       NaN   \nage                    -0.073910    -0.036636  0.025438    0.046189       NaN   \nmonthly_income_amt     -0.042501     0.003695  0.006499    0.072741       NaN   \nsteam_popularity_score -0.018053    -0.071515  0.016291   -0.135010       NaN   \n\n                             age  monthly_income_amt  steam_popularity_score  \nid                     -0.073910           -0.042501               -0.018053  \ncategory_id            -0.036636            0.003695               -0.071515  \ngood_id                 0.025438            0.006499                0.016291  \ngood_price              0.046189            0.072741               -0.135010  \ngood_cnt                     NaN                 NaN                     NaN  \nage                     1.000000            0.064685               -0.010683  \nmonthly_income_amt      0.064685            1.000000               -0.003372  \nsteam_popularity_score -0.010683           -0.003372                1.000000  ",
      "text/html": "<div>\n<style scoped>\n    .dataframe tbody tr th:only-of-type {\n        vertical-align: middle;\n    }\n\n    .dataframe tbody tr th {\n        vertical-align: top;\n    }\n\n    .dataframe thead th {\n        text-align: right;\n    }\n</style>\n<table border=\"1\" class=\"dataframe\">\n  <thead>\n    <tr style=\"text-align: right;\">\n      <th></th>\n      <th>id</th>\n      <th>category_id</th>\n      <th>good_id</th>\n      <th>good_price</th>\n      <th>good_cnt</th>\n      <th>age</th>\n      <th>monthly_income_amt</th>\n      <th>steam_popularity_score</th>\n    </tr>\n  </thead>\n  <tbody>\n    <tr>\n      <th>id</th>\n      <td>1.000000</td>\n      <td>0.127074</td>\n      <td>0.376679</td>\n      <td>0.087945</td>\n      <td>NaN</td>\n      <td>-0.073910</td>\n      <td>-0.042501</td>\n      <td>-0.018053</td>\n    </tr>\n    <tr>\n      <th>category_id</th>\n      <td>0.127074</td>\n      <td>1.000000</td>\n      <td>0.009984</td>\n      <td>0.169055</td>\n      <td>NaN</td>\n      <td>-0.036636</td>\n      <td>0.003695</td>\n      <td>-0.071515</td>\n    </tr>\n    <tr>\n      <th>good_id</th>\n      <td>0.376679</td>\n      <td>0.009984</td>\n      <td>1.000000</td>\n      <td>0.274275</td>\n      <td>NaN</td>\n      <td>0.025438</td>\n      <td>0.006499</td>\n      <td>0.016291</td>\n    </tr>\n    <tr>\n      <th>good_price</th>\n      <td>0.087945</td>\n      <td>0.169055</td>\n      <td>0.274275</td>\n      <td>1.000000</td>\n      <td>NaN</td>\n      <td>0.046189</td>\n      <td>0.072741</td>\n      <td>-0.135010</td>\n    </tr>\n    <tr>\n      <th>good_cnt</th>\n      <td>NaN</td>\n      <td>NaN</td>\n      <td>NaN</td>\n      <td>NaN</td>\n      <td>NaN</td>\n      <td>NaN</td>\n      <td>NaN</td>\n      <td>NaN</td>\n    </tr>\n    <tr>\n      <th>age</th>\n      <td>-0.073910</td>\n      <td>-0.036636</td>\n      <td>0.025438</td>\n      <td>0.046189</td>\n      <td>NaN</td>\n      <td>1.000000</td>\n      <td>0.064685</td>\n      <td>-0.010683</td>\n    </tr>\n    <tr>\n      <th>monthly_income_amt</th>\n      <td>-0.042501</td>\n      <td>0.003695</td>\n      <td>0.006499</td>\n      <td>0.072741</td>\n      <td>NaN</td>\n      <td>0.064685</td>\n      <td>1.000000</td>\n      <td>-0.003372</td>\n    </tr>\n    <tr>\n      <th>steam_popularity_score</th>\n      <td>-0.018053</td>\n      <td>-0.071515</td>\n      <td>0.016291</td>\n      <td>-0.135010</td>\n      <td>NaN</td>\n      <td>-0.010683</td>\n      <td>-0.003372</td>\n      <td>1.000000</td>\n    </tr>\n  </tbody>\n</table>\n</div>"
     },
     "execution_count": 91,
     "metadata": {},
     "output_type": "execute_result"
    }
   ],
   "source": [
    "numeric_df = clearDf.select_dtypes(include=[float,int])\n",
    "correlation_matrix = numeric_df.corr()\n",
    "correlation_matrix"
   ],
   "metadata": {
    "collapsed": false,
    "pycharm": {
     "name": "#%%\n"
    }
   }
  },
  {
   "cell_type": "markdown",
   "source": [
    "### Analysis user orders count"
   ],
   "metadata": {
    "collapsed": false,
    "pycharm": {
     "name": "#%% md\n"
    }
   }
  },
  {
   "cell_type": "code",
   "execution_count": 92,
   "outputs": [
    {
     "data": {
      "text/plain": "             count\nclient_id         \n5-2DQMHMC43    279\n5-2FLMLXKNR    240\n5-22IBTMQRG    149\n5-1BAV9XWDT    146\n5-19AL2GTWV    124\n...            ...\n5-8VM6CZQ1       1\n5-35AICU0J9      1\n5-2IITEQ9QT      1\n5-146X4GMB4      1\n5-U2IQQ7BO       1\n\n[36048 rows x 1 columns]",
      "text/html": "<div>\n<style scoped>\n    .dataframe tbody tr th:only-of-type {\n        vertical-align: middle;\n    }\n\n    .dataframe tbody tr th {\n        vertical-align: top;\n    }\n\n    .dataframe thead th {\n        text-align: right;\n    }\n</style>\n<table border=\"1\" class=\"dataframe\">\n  <thead>\n    <tr style=\"text-align: right;\">\n      <th></th>\n      <th>count</th>\n    </tr>\n    <tr>\n      <th>client_id</th>\n      <th></th>\n    </tr>\n  </thead>\n  <tbody>\n    <tr>\n      <th>5-2DQMHMC43</th>\n      <td>279</td>\n    </tr>\n    <tr>\n      <th>5-2FLMLXKNR</th>\n      <td>240</td>\n    </tr>\n    <tr>\n      <th>5-22IBTMQRG</th>\n      <td>149</td>\n    </tr>\n    <tr>\n      <th>5-1BAV9XWDT</th>\n      <td>146</td>\n    </tr>\n    <tr>\n      <th>5-19AL2GTWV</th>\n      <td>124</td>\n    </tr>\n    <tr>\n      <th>...</th>\n      <td>...</td>\n    </tr>\n    <tr>\n      <th>5-8VM6CZQ1</th>\n      <td>1</td>\n    </tr>\n    <tr>\n      <th>5-35AICU0J9</th>\n      <td>1</td>\n    </tr>\n    <tr>\n      <th>5-2IITEQ9QT</th>\n      <td>1</td>\n    </tr>\n    <tr>\n      <th>5-146X4GMB4</th>\n      <td>1</td>\n    </tr>\n    <tr>\n      <th>5-U2IQQ7BO</th>\n      <td>1</td>\n    </tr>\n  </tbody>\n</table>\n<p>36048 rows × 1 columns</p>\n</div>"
     },
     "execution_count": 92,
     "metadata": {},
     "output_type": "execute_result"
    }
   ],
   "source": [
    "clientsWithOrderCount = clearDf[\"client_id\"].value_counts().reset_index().set_index(\"client_id\")\n",
    "clientsWithOrderCount"
   ],
   "metadata": {
    "collapsed": false,
    "pycharm": {
     "name": "#%%\n"
    }
   }
  },
  {
   "cell_type": "markdown",
   "source": [
    "### Grouping by client_id and calculating mean for numeric columns"
   ],
   "metadata": {
    "collapsed": false,
    "pycharm": {
     "name": "#%% md\n"
    }
   }
  },
  {
   "cell_type": "code",
   "execution_count": 93,
   "outputs": [],
   "source": [
    "numeric_cols = clearDf.select_dtypes(include=['float64', 'int64']).columns\n",
    "numeric_means = clearDf.groupby('client_id')[numeric_cols].mean()"
   ],
   "metadata": {
    "collapsed": false,
    "pycharm": {
     "name": "#%%\n"
    }
   }
  },
  {
   "cell_type": "markdown",
   "source": [
    "### Grouping by client_id and calculating mode for string columns"
   ],
   "metadata": {
    "collapsed": false,
    "pycharm": {
     "name": "#%% md\n"
    }
   }
  },
  {
   "cell_type": "code",
   "execution_count": 94,
   "outputs": [
    {
     "data": {
      "text/plain": "               client_id   order_day category_name  \\\nclient_id                                            \n1-11B0XBL      1-11B0XBL  2023-08-20        Хоррор   \n1-14HPC7Z      1-14HPC7Z  2022-09-05   Приключения   \n1-15GSF3N      1-15GSF3N  2022-10-13     Стратегии   \n1-17GCAKP      1-17GCAKP  2022-08-28        Хоррор   \n1-1AJFCHX      1-1AJFCHX  2022-09-11     Стратегии   \n...                  ...         ...           ...   \n7-3LB1WGM5N  7-3LB1WGM5N  2023-10-25          Экшн   \n7-3LD4MQHZH  7-3LD4MQHZH  2023-10-23     Стратегии   \n7-3LDM3SGMU  7-3LDM3SGMU  2023-10-27      Файтинги   \n7-3LDU97X2M  7-3LDU97X2M  2023-10-24   Бестселлеры   \n7-3LFKWX6UG  7-3LFKWX6UG  2023-10-26  [Инди, Экшн]   \n\n                                                     good_name gender_cd  \\\nclient_id                                                                  \n1-11B0XBL                                        Scorn (STEAM)         M   \n1-14HPC7Z                                                Noise         M   \n1-15GSF3N             Crusader Kings III: Friends & Foes - DLC         M   \n1-17GCAKP                                                Noise         M   \n1-1AJFCHX    [Age of Wonders 4, Europa Universalis IV: Empe...         M   \n...                                                        ...       ...   \n7-3LB1WGM5N                                            Mad Max         M   \n7-3LD4MQHZH  [Mortal Kombat 11 - Ultimate Edition, Old Worl...         M   \n7-3LDM3SGMU                  Mortal Kombat 1 - Premium Edition         M   \n7-3LDU97X2M                                    Resident Evil 7         M   \n7-3LFKWX6UG  [NARUTO SHIPPUDEN: Ultimate Ninja STORM 4 - Ro...         M   \n\n            education_level                                 city_nm  \nclient_id                                                            \n1-11B0XBL               UGR                                  Москва  \n1-14HPC7Z               UGR                         Нижний Новгород  \n1-15GSF3N               UGR                                    Омск  \n1-17GCAKP               PGR                            Екатеринбург  \n1-1AJFCHX               UGR                                  Москва  \n...                     ...                                     ...  \n7-3LB1WGM5N             SCH                                  Москва  \n7-3LD4MQHZH             SCH  [Воронеж, Красноярск, Санкт-Петербург]  \n7-3LDM3SGMU             SCH                            Екатеринбург  \n7-3LDU97X2M             GRD                                  Москва  \n7-3LFKWX6UG      [GRD, SCH]                      [Краснодар, Пермь]  \n\n[36048 rows x 7 columns]",
      "text/html": "<div>\n<style scoped>\n    .dataframe tbody tr th:only-of-type {\n        vertical-align: middle;\n    }\n\n    .dataframe tbody tr th {\n        vertical-align: top;\n    }\n\n    .dataframe thead th {\n        text-align: right;\n    }\n</style>\n<table border=\"1\" class=\"dataframe\">\n  <thead>\n    <tr style=\"text-align: right;\">\n      <th></th>\n      <th>client_id</th>\n      <th>order_day</th>\n      <th>category_name</th>\n      <th>good_name</th>\n      <th>gender_cd</th>\n      <th>education_level</th>\n      <th>city_nm</th>\n    </tr>\n    <tr>\n      <th>client_id</th>\n      <th></th>\n      <th></th>\n      <th></th>\n      <th></th>\n      <th></th>\n      <th></th>\n      <th></th>\n    </tr>\n  </thead>\n  <tbody>\n    <tr>\n      <th>1-11B0XBL</th>\n      <td>1-11B0XBL</td>\n      <td>2023-08-20</td>\n      <td>Хоррор</td>\n      <td>Scorn (STEAM)</td>\n      <td>M</td>\n      <td>UGR</td>\n      <td>Москва</td>\n    </tr>\n    <tr>\n      <th>1-14HPC7Z</th>\n      <td>1-14HPC7Z</td>\n      <td>2022-09-05</td>\n      <td>Приключения</td>\n      <td>Noise</td>\n      <td>M</td>\n      <td>UGR</td>\n      <td>Нижний Новгород</td>\n    </tr>\n    <tr>\n      <th>1-15GSF3N</th>\n      <td>1-15GSF3N</td>\n      <td>2022-10-13</td>\n      <td>Стратегии</td>\n      <td>Crusader Kings III: Friends &amp; Foes - DLC</td>\n      <td>M</td>\n      <td>UGR</td>\n      <td>Омск</td>\n    </tr>\n    <tr>\n      <th>1-17GCAKP</th>\n      <td>1-17GCAKP</td>\n      <td>2022-08-28</td>\n      <td>Хоррор</td>\n      <td>Noise</td>\n      <td>M</td>\n      <td>PGR</td>\n      <td>Екатеринбург</td>\n    </tr>\n    <tr>\n      <th>1-1AJFCHX</th>\n      <td>1-1AJFCHX</td>\n      <td>2022-09-11</td>\n      <td>Стратегии</td>\n      <td>[Age of Wonders 4, Europa Universalis IV: Empe...</td>\n      <td>M</td>\n      <td>UGR</td>\n      <td>Москва</td>\n    </tr>\n    <tr>\n      <th>...</th>\n      <td>...</td>\n      <td>...</td>\n      <td>...</td>\n      <td>...</td>\n      <td>...</td>\n      <td>...</td>\n      <td>...</td>\n    </tr>\n    <tr>\n      <th>7-3LB1WGM5N</th>\n      <td>7-3LB1WGM5N</td>\n      <td>2023-10-25</td>\n      <td>Экшн</td>\n      <td>Mad Max</td>\n      <td>M</td>\n      <td>SCH</td>\n      <td>Москва</td>\n    </tr>\n    <tr>\n      <th>7-3LD4MQHZH</th>\n      <td>7-3LD4MQHZH</td>\n      <td>2023-10-23</td>\n      <td>Стратегии</td>\n      <td>[Mortal Kombat 11 - Ultimate Edition, Old Worl...</td>\n      <td>M</td>\n      <td>SCH</td>\n      <td>[Воронеж, Красноярск, Санкт-Петербург]</td>\n    </tr>\n    <tr>\n      <th>7-3LDM3SGMU</th>\n      <td>7-3LDM3SGMU</td>\n      <td>2023-10-27</td>\n      <td>Файтинги</td>\n      <td>Mortal Kombat 1 - Premium Edition</td>\n      <td>M</td>\n      <td>SCH</td>\n      <td>Екатеринбург</td>\n    </tr>\n    <tr>\n      <th>7-3LDU97X2M</th>\n      <td>7-3LDU97X2M</td>\n      <td>2023-10-24</td>\n      <td>Бестселлеры</td>\n      <td>Resident Evil 7</td>\n      <td>M</td>\n      <td>GRD</td>\n      <td>Москва</td>\n    </tr>\n    <tr>\n      <th>7-3LFKWX6UG</th>\n      <td>7-3LFKWX6UG</td>\n      <td>2023-10-26</td>\n      <td>[Инди, Экшн]</td>\n      <td>[NARUTO SHIPPUDEN: Ultimate Ninja STORM 4 - Ro...</td>\n      <td>M</td>\n      <td>[GRD, SCH]</td>\n      <td>[Краснодар, Пермь]</td>\n    </tr>\n  </tbody>\n</table>\n<p>36048 rows × 7 columns</p>\n</div>"
     },
     "execution_count": 94,
     "metadata": {},
     "output_type": "execute_result"
    }
   ],
   "source": [
    "string_cols = clearDf.select_dtypes(include=['object']).columns\n",
    "string_modes = clearDf.groupby('client_id')[string_cols].agg(pd.Series.mode)\n",
    "string_modes"
   ],
   "metadata": {
    "collapsed": false,
    "pycharm": {
     "name": "#%%\n"
    }
   }
  },
  {
   "cell_type": "markdown",
   "source": [
    "### Since mode can return multiple values for ties, we'll take the first mode"
   ],
   "metadata": {
    "collapsed": false,
    "pycharm": {
     "name": "#%% md\n"
    }
   }
  },
  {
   "cell_type": "code",
   "execution_count": 95,
   "outputs": [],
   "source": [
    "for col in string_modes:\n",
    "    string_modes[col] = string_modes[col].apply(lambda x: x[0] if isinstance(x, pd.Series) else x)"
   ],
   "metadata": {
    "collapsed": false,
    "pycharm": {
     "name": "#%%\n"
    }
   }
  },
  {
   "cell_type": "markdown",
   "source": [
    "### Merging the three results"
   ],
   "metadata": {
    "collapsed": false,
    "pycharm": {
     "name": "#%% md\n"
    }
   }
  },
  {
   "cell_type": "code",
   "execution_count": 96,
   "outputs": [],
   "source": [
    "result_df_users = pd.concat([numeric_means, string_modes, clientsWithOrderCount], axis=1)"
   ],
   "metadata": {
    "collapsed": false,
    "pycharm": {
     "name": "#%%\n"
    }
   }
  },
  {
   "cell_type": "markdown",
   "source": [
    "### Display the first few rows of the result"
   ],
   "metadata": {
    "collapsed": false,
    "pycharm": {
     "name": "#%% md\n"
    }
   }
  },
  {
   "cell_type": "code",
   "execution_count": 97,
   "outputs": [
    {
     "data": {
      "text/plain": "                     id   category_id       good_id  good_price  good_cnt  \\\nclient_id                                                                   \n1-11B0XBL  1.500649e+09  28561.000000  1.424173e+06      359.60       1.0   \n1-14HPC7Z  1.500329e+09  28562.000000  1.127136e+06       29.00       1.0   \n1-15GSF3N  1.500358e+09  28555.000000  1.392682e+06      133.00       1.0   \n1-17GCAKP  1.500323e+09  28561.000000  1.127136e+06        7.25       1.0   \n1-1AJFCHX  1.500347e+09  28558.076923  9.745868e+05      628.77       1.0   \n\n            age  monthly_income_amt  steam_popularity_score  client_id  \\\nclient_id                                                                \n1-11B0XBL  35.0             20000.0                0.000000  1-11B0XBL   \n1-14HPC7Z  42.0            386000.0                0.000000  1-14HPC7Z   \n1-15GSF3N  36.0             16400.0                0.000000  1-15GSF3N   \n1-17GCAKP  48.0             62000.0                0.000000  1-17GCAKP   \n1-1AJFCHX  36.0            230000.0               21.692308  1-1AJFCHX   \n\n            order_day category_name  \\\nclient_id                             \n1-11B0XBL  2023-08-20        Хоррор   \n1-14HPC7Z  2022-09-05   Приключения   \n1-15GSF3N  2022-10-13     Стратегии   \n1-17GCAKP  2022-08-28        Хоррор   \n1-1AJFCHX  2022-09-11     Стратегии   \n\n                                                   good_name gender_cd  \\\nclient_id                                                                \n1-11B0XBL                                      Scorn (STEAM)         M   \n1-14HPC7Z                                              Noise         M   \n1-15GSF3N           Crusader Kings III: Friends & Foes - DLC         M   \n1-17GCAKP                                              Noise         M   \n1-1AJFCHX  [Age of Wonders 4, Europa Universalis IV: Empe...         M   \n\n          education_level          city_nm  count  \nclient_id                                          \n1-11B0XBL             UGR           Москва      1  \n1-14HPC7Z             UGR  Нижний Новгород      1  \n1-15GSF3N             UGR             Омск      1  \n1-17GCAKP             PGR     Екатеринбург      1  \n1-1AJFCHX             UGR           Москва     13  ",
      "text/html": "<div>\n<style scoped>\n    .dataframe tbody tr th:only-of-type {\n        vertical-align: middle;\n    }\n\n    .dataframe tbody tr th {\n        vertical-align: top;\n    }\n\n    .dataframe thead th {\n        text-align: right;\n    }\n</style>\n<table border=\"1\" class=\"dataframe\">\n  <thead>\n    <tr style=\"text-align: right;\">\n      <th></th>\n      <th>id</th>\n      <th>category_id</th>\n      <th>good_id</th>\n      <th>good_price</th>\n      <th>good_cnt</th>\n      <th>age</th>\n      <th>monthly_income_amt</th>\n      <th>steam_popularity_score</th>\n      <th>client_id</th>\n      <th>order_day</th>\n      <th>category_name</th>\n      <th>good_name</th>\n      <th>gender_cd</th>\n      <th>education_level</th>\n      <th>city_nm</th>\n      <th>count</th>\n    </tr>\n    <tr>\n      <th>client_id</th>\n      <th></th>\n      <th></th>\n      <th></th>\n      <th></th>\n      <th></th>\n      <th></th>\n      <th></th>\n      <th></th>\n      <th></th>\n      <th></th>\n      <th></th>\n      <th></th>\n      <th></th>\n      <th></th>\n      <th></th>\n      <th></th>\n    </tr>\n  </thead>\n  <tbody>\n    <tr>\n      <th>1-11B0XBL</th>\n      <td>1.500649e+09</td>\n      <td>28561.000000</td>\n      <td>1.424173e+06</td>\n      <td>359.60</td>\n      <td>1.0</td>\n      <td>35.0</td>\n      <td>20000.0</td>\n      <td>0.000000</td>\n      <td>1-11B0XBL</td>\n      <td>2023-08-20</td>\n      <td>Хоррор</td>\n      <td>Scorn (STEAM)</td>\n      <td>M</td>\n      <td>UGR</td>\n      <td>Москва</td>\n      <td>1</td>\n    </tr>\n    <tr>\n      <th>1-14HPC7Z</th>\n      <td>1.500329e+09</td>\n      <td>28562.000000</td>\n      <td>1.127136e+06</td>\n      <td>29.00</td>\n      <td>1.0</td>\n      <td>42.0</td>\n      <td>386000.0</td>\n      <td>0.000000</td>\n      <td>1-14HPC7Z</td>\n      <td>2022-09-05</td>\n      <td>Приключения</td>\n      <td>Noise</td>\n      <td>M</td>\n      <td>UGR</td>\n      <td>Нижний Новгород</td>\n      <td>1</td>\n    </tr>\n    <tr>\n      <th>1-15GSF3N</th>\n      <td>1.500358e+09</td>\n      <td>28555.000000</td>\n      <td>1.392682e+06</td>\n      <td>133.00</td>\n      <td>1.0</td>\n      <td>36.0</td>\n      <td>16400.0</td>\n      <td>0.000000</td>\n      <td>1-15GSF3N</td>\n      <td>2022-10-13</td>\n      <td>Стратегии</td>\n      <td>Crusader Kings III: Friends &amp; Foes - DLC</td>\n      <td>M</td>\n      <td>UGR</td>\n      <td>Омск</td>\n      <td>1</td>\n    </tr>\n    <tr>\n      <th>1-17GCAKP</th>\n      <td>1.500323e+09</td>\n      <td>28561.000000</td>\n      <td>1.127136e+06</td>\n      <td>7.25</td>\n      <td>1.0</td>\n      <td>48.0</td>\n      <td>62000.0</td>\n      <td>0.000000</td>\n      <td>1-17GCAKP</td>\n      <td>2022-08-28</td>\n      <td>Хоррор</td>\n      <td>Noise</td>\n      <td>M</td>\n      <td>PGR</td>\n      <td>Екатеринбург</td>\n      <td>1</td>\n    </tr>\n    <tr>\n      <th>1-1AJFCHX</th>\n      <td>1.500347e+09</td>\n      <td>28558.076923</td>\n      <td>9.745868e+05</td>\n      <td>628.77</td>\n      <td>1.0</td>\n      <td>36.0</td>\n      <td>230000.0</td>\n      <td>21.692308</td>\n      <td>1-1AJFCHX</td>\n      <td>2022-09-11</td>\n      <td>Стратегии</td>\n      <td>[Age of Wonders 4, Europa Universalis IV: Empe...</td>\n      <td>M</td>\n      <td>UGR</td>\n      <td>Москва</td>\n      <td>13</td>\n    </tr>\n  </tbody>\n</table>\n</div>"
     },
     "execution_count": 97,
     "metadata": {},
     "output_type": "execute_result"
    }
   ],
   "source": [
    "result_df_users.head()"
   ],
   "metadata": {
    "collapsed": false,
    "pycharm": {
     "name": "#%%\n"
    }
   }
  },
  {
   "cell_type": "markdown",
   "source": [
    "### Create the df with only the necessary columns"
   ],
   "metadata": {
    "collapsed": false,
    "pycharm": {
     "name": "#%% md\n"
    }
   }
  },
  {
   "cell_type": "code",
   "execution_count": 98,
   "outputs": [
    {
     "data": {
      "text/plain": "              age gender_cd education_level  \\\nclient_id                                     \n1-11B0XBL    35.0         M             UGR   \n1-14HPC7Z    42.0         M             UGR   \n1-15GSF3N    36.0         M             UGR   \n1-17GCAKP    48.0         M             PGR   \n1-1AJFCHX    36.0         M             UGR   \n...           ...       ...             ...   \n7-3LB1WGM5N  17.0         M             SCH   \n7-3LD4MQHZH  27.0         M             SCH   \n7-3LDM3SGMU  15.0         M             SCH   \n7-3LDU97X2M  19.0         M             GRD   \n7-3LFKWX6UG  19.0         M      [GRD, SCH]   \n\n                                            city_nm  monthly_income_amt  \\\nclient_id                                                                 \n1-11B0XBL                                    Москва             20000.0   \n1-14HPC7Z                           Нижний Новгород            386000.0   \n1-15GSF3N                                      Омск             16400.0   \n1-17GCAKP                              Екатеринбург             62000.0   \n1-1AJFCHX                                    Москва            230000.0   \n...                                             ...                 ...   \n7-3LB1WGM5N                                  Москва            127039.0   \n7-3LD4MQHZH  [Воронеж, Красноярск, Санкт-Петербург]            290000.0   \n7-3LDM3SGMU                            Екатеринбург            253215.0   \n7-3LDU97X2M                                  Москва              8000.0   \n7-3LFKWX6UG                      [Краснодар, Пермь]            305856.5   \n\n             steam_popularity_score category_name   good_price  count  \nclient_id                                                              \n1-11B0XBL                  0.000000        Хоррор   359.600000      1  \n1-14HPC7Z                  0.000000   Приключения    29.000000      1  \n1-15GSF3N                  0.000000     Стратегии   133.000000      1  \n1-17GCAKP                  0.000000        Хоррор     7.250000      1  \n1-1AJFCHX                 21.692308     Стратегии   628.770000     13  \n...                             ...           ...          ...    ...  \n7-3LB1WGM5N              803.000000          Экшн   350.710000      1  \n7-3LD4MQHZH              337.666667     Стратегии  2970.256667      3  \n7-3LDM3SGMU                0.000000      Файтинги  6548.380000      1  \n7-3LDU97X2M                0.000000   Бестселлеры   399.600000      1  \n7-3LFKWX6UG                0.000000  [Инди, Экшн]   957.700000      2  \n\n[36048 rows x 9 columns]",
      "text/html": "<div>\n<style scoped>\n    .dataframe tbody tr th:only-of-type {\n        vertical-align: middle;\n    }\n\n    .dataframe tbody tr th {\n        vertical-align: top;\n    }\n\n    .dataframe thead th {\n        text-align: right;\n    }\n</style>\n<table border=\"1\" class=\"dataframe\">\n  <thead>\n    <tr style=\"text-align: right;\">\n      <th></th>\n      <th>age</th>\n      <th>gender_cd</th>\n      <th>education_level</th>\n      <th>city_nm</th>\n      <th>monthly_income_amt</th>\n      <th>steam_popularity_score</th>\n      <th>category_name</th>\n      <th>good_price</th>\n      <th>count</th>\n    </tr>\n    <tr>\n      <th>client_id</th>\n      <th></th>\n      <th></th>\n      <th></th>\n      <th></th>\n      <th></th>\n      <th></th>\n      <th></th>\n      <th></th>\n      <th></th>\n    </tr>\n  </thead>\n  <tbody>\n    <tr>\n      <th>1-11B0XBL</th>\n      <td>35.0</td>\n      <td>M</td>\n      <td>UGR</td>\n      <td>Москва</td>\n      <td>20000.0</td>\n      <td>0.000000</td>\n      <td>Хоррор</td>\n      <td>359.600000</td>\n      <td>1</td>\n    </tr>\n    <tr>\n      <th>1-14HPC7Z</th>\n      <td>42.0</td>\n      <td>M</td>\n      <td>UGR</td>\n      <td>Нижний Новгород</td>\n      <td>386000.0</td>\n      <td>0.000000</td>\n      <td>Приключения</td>\n      <td>29.000000</td>\n      <td>1</td>\n    </tr>\n    <tr>\n      <th>1-15GSF3N</th>\n      <td>36.0</td>\n      <td>M</td>\n      <td>UGR</td>\n      <td>Омск</td>\n      <td>16400.0</td>\n      <td>0.000000</td>\n      <td>Стратегии</td>\n      <td>133.000000</td>\n      <td>1</td>\n    </tr>\n    <tr>\n      <th>1-17GCAKP</th>\n      <td>48.0</td>\n      <td>M</td>\n      <td>PGR</td>\n      <td>Екатеринбург</td>\n      <td>62000.0</td>\n      <td>0.000000</td>\n      <td>Хоррор</td>\n      <td>7.250000</td>\n      <td>1</td>\n    </tr>\n    <tr>\n      <th>1-1AJFCHX</th>\n      <td>36.0</td>\n      <td>M</td>\n      <td>UGR</td>\n      <td>Москва</td>\n      <td>230000.0</td>\n      <td>21.692308</td>\n      <td>Стратегии</td>\n      <td>628.770000</td>\n      <td>13</td>\n    </tr>\n    <tr>\n      <th>...</th>\n      <td>...</td>\n      <td>...</td>\n      <td>...</td>\n      <td>...</td>\n      <td>...</td>\n      <td>...</td>\n      <td>...</td>\n      <td>...</td>\n      <td>...</td>\n    </tr>\n    <tr>\n      <th>7-3LB1WGM5N</th>\n      <td>17.0</td>\n      <td>M</td>\n      <td>SCH</td>\n      <td>Москва</td>\n      <td>127039.0</td>\n      <td>803.000000</td>\n      <td>Экшн</td>\n      <td>350.710000</td>\n      <td>1</td>\n    </tr>\n    <tr>\n      <th>7-3LD4MQHZH</th>\n      <td>27.0</td>\n      <td>M</td>\n      <td>SCH</td>\n      <td>[Воронеж, Красноярск, Санкт-Петербург]</td>\n      <td>290000.0</td>\n      <td>337.666667</td>\n      <td>Стратегии</td>\n      <td>2970.256667</td>\n      <td>3</td>\n    </tr>\n    <tr>\n      <th>7-3LDM3SGMU</th>\n      <td>15.0</td>\n      <td>M</td>\n      <td>SCH</td>\n      <td>Екатеринбург</td>\n      <td>253215.0</td>\n      <td>0.000000</td>\n      <td>Файтинги</td>\n      <td>6548.380000</td>\n      <td>1</td>\n    </tr>\n    <tr>\n      <th>7-3LDU97X2M</th>\n      <td>19.0</td>\n      <td>M</td>\n      <td>GRD</td>\n      <td>Москва</td>\n      <td>8000.0</td>\n      <td>0.000000</td>\n      <td>Бестселлеры</td>\n      <td>399.600000</td>\n      <td>1</td>\n    </tr>\n    <tr>\n      <th>7-3LFKWX6UG</th>\n      <td>19.0</td>\n      <td>M</td>\n      <td>[GRD, SCH]</td>\n      <td>[Краснодар, Пермь]</td>\n      <td>305856.5</td>\n      <td>0.000000</td>\n      <td>[Инди, Экшн]</td>\n      <td>957.700000</td>\n      <td>2</td>\n    </tr>\n  </tbody>\n</table>\n<p>36048 rows × 9 columns</p>\n</div>"
     },
     "execution_count": 98,
     "metadata": {},
     "output_type": "execute_result"
    }
   ],
   "source": [
    "result_df_short_users = result_df_users[[\"age\", \"gender_cd\", \"education_level\", 'city_nm', \"monthly_income_amt\", \"steam_popularity_score\", \"category_name\", \"good_price\", \"count\"]]\n",
    "result_df_short_users"
   ],
   "metadata": {
    "collapsed": false,
    "pycharm": {
     "name": "#%%\n"
    }
   }
  },
  {
   "cell_type": "markdown",
   "source": [
    "### Writing user data to csv"
   ],
   "metadata": {
    "collapsed": false,
    "pycharm": {
     "name": "#%% md\n"
    }
   }
  },
  {
   "cell_type": "code",
   "execution_count": 99,
   "outputs": [],
   "source": [
    "result_df_users.to_csv(\"data\\\\usersFull.csv\")\n",
    "result_df_short_users.to_csv(\"data\\\\users.csv\")"
   ],
   "metadata": {
    "collapsed": false,
    "pycharm": {
     "name": "#%%\n"
    }
   }
  },
  {
   "cell_type": "markdown",
   "source": [
    "### Grouping by good_name and calculating mean for numeric columns"
   ],
   "metadata": {
    "collapsed": false,
    "pycharm": {
     "name": "#%% md\n"
    }
   }
  },
  {
   "cell_type": "code",
   "execution_count": 100,
   "outputs": [],
   "source": [
    "numeric_cols = clearDf.select_dtypes(include=['float64', 'int64']).columns\n",
    "numeric_means = clearDf.groupby('good_name')[numeric_cols].mean()"
   ],
   "metadata": {
    "collapsed": false,
    "pycharm": {
     "name": "#%%\n"
    }
   }
  },
  {
   "cell_type": "markdown",
   "source": [
    "### Grouping by good_name and calculating mode for string columns"
   ],
   "metadata": {
    "collapsed": false,
    "pycharm": {
     "name": "#%% md\n"
    }
   }
  },
  {
   "cell_type": "code",
   "execution_count": 101,
   "outputs": [
    {
     "data": {
      "text/plain": "                                                                                            client_id  \\\ngood_name                                                                                               \n//N.P.P.D. RUSH// - The milk of Ultraviolet         [5-1CR7PWI3D, 5-1RS9TX5VL, 5-30TOXX7S6, 5-30ZA...   \n//SNOWFLAKE TATTOO//                                                        [5-13B9F9N2R, 5-4Y9TLAXZ]   \n11-11 Memories Retold                                                                      5-NTUB1VJC   \n112 Operator                                        [4-19NBZ95Y, 4-1A08YTNW, 5-1ANZ92OLA, 5-1V15AD...   \n15 Days                                             [4-1Q1JFDVR, 5-2DL5GOMBI, 5-2DQMHMC43, 5-2TKQF...   \n...                                                                                               ...   \nПодписка Xbox LIVE GOLD на 3 месяца                                                       5-281QRRY34   \nПополнение кошелька Playstation Store Польша 10...                                         5-8M31SGOO   \nПополнение кошелька Playstation Store Польша 15...                                         5-7MACZK69   \nПополнение кошелька Playstation Store Польша 50...                           [5-8XEHYIA7, 5-SCV0ENK6]   \nПополнение кошелька Playstation Store Польша 70...                                        5-1F2RZIDP0   \n\n                                                                                            order_day  \\\ngood_name                                                                                               \n//N.P.P.D. RUSH// - The milk of Ultraviolet         [2022-03-20, 2022-04-28, 2022-04-29, 2022-05-0...   \n//SNOWFLAKE TATTOO//                                                         [2022-04-29, 2022-05-02]   \n11-11 Memories Retold                                                                      2023-03-24   \n112 Operator                                                                               2022-12-21   \n15 Days                                                                                    2022-11-17   \n...                                                                                               ...   \nПодписка Xbox LIVE GOLD на 3 месяца                                                        2023-07-25   \nПополнение кошелька Playstation Store Польша 10...                                         2023-10-13   \nПополнение кошелька Playstation Store Польша 15...                                         2023-10-22   \nПополнение кошелька Playstation Store Польша 50...                           [2023-10-20, 2023-10-28]   \nПополнение кошелька Playstation Store Польша 70...                                         2023-10-28   \n\n                                                                   category_name  \\\ngood_name                                                                          \n//N.P.P.D. RUSH// - The milk of Ultraviolet                                 Экшн   \n//SNOWFLAKE TATTOO//                                [Приключения, Ролевые (RPG)]   \n11-11 Memories Retold                                                Приключения   \n112 Operator                                                          Симуляторы   \n15 Days                                                    [Приключения, Скидки]   \n...                                                                          ...   \nПодписка Xbox LIVE GOLD на 3 месяца                                       Другое   \nПополнение кошелька Playstation Store Польша 10...                  Карты оплаты   \nПополнение кошелька Playstation Store Польша 15...                  Карты оплаты   \nПополнение кошелька Playstation Store Польша 50...                  Карты оплаты   \nПополнение кошелька Playstation Store Польша 70...                  Карты оплаты   \n\n                                                                                            good_name  \\\ngood_name                                                                                               \n//N.P.P.D. RUSH// - The milk of Ultraviolet               //N.P.P.D. RUSH// - The milk of Ultraviolet   \n//SNOWFLAKE TATTOO//                                                             //SNOWFLAKE TATTOO//   \n11-11 Memories Retold                                                           11-11 Memories Retold   \n112 Operator                                                                             112 Operator   \n15 Days                                                                                       15 Days   \n...                                                                                               ...   \nПодписка Xbox LIVE GOLD на 3 месяца                               Подписка Xbox LIVE GOLD на 3 месяца   \nПополнение кошелька Playstation Store Польша 10...  Пополнение кошелька Playstation Store Польша 1...   \nПополнение кошелька Playstation Store Польша 15...  Пополнение кошелька Playstation Store Польша 1...   \nПополнение кошелька Playstation Store Польша 50...  Пополнение кошелька Playstation Store Польша 5...   \nПополнение кошелька Playstation Store Польша 70...  Пополнение кошелька Playstation Store Польша 7...   \n\n                                                   gender_cd education_level  \\\ngood_name                                                                      \n//N.P.P.D. RUSH// - The milk of Ultraviolet                M             SCH   \n//SNOWFLAKE TATTOO//                                       M      [GRD, SCH]   \n11-11 Memories Retold                                      M             GRD   \n112 Operator                                               M             GRD   \n15 Days                                                    M             UGR   \n...                                                      ...             ...   \nПодписка Xbox LIVE GOLD на 3 месяца                        M             GRD   \nПополнение кошелька Playstation Store Польша 10...         M             SCH   \nПополнение кошелька Playstation Store Польша 15...         M             GRD   \nПополнение кошелька Playstation Store Польша 50...         M      [GRD, UGR]   \nПополнение кошелька Playstation Store Польша 70...         M             GRD   \n\n                                                                      city_nm  \ngood_name                                                                      \n//N.P.P.D. RUSH// - The milk of Ultraviolet                   Санкт-Петербург  \n//SNOWFLAKE TATTOO//                                         [Москва, Самара]  \n11-11 Memories Retold                                                  Москва  \n112 Operator                                        [Москва, Санкт-Петербург]  \n15 Days                                                                Москва  \n...                                                                       ...  \nПодписка Xbox LIVE GOLD на 3 месяца                                    Москва  \nПополнение кошелька Playstation Store Польша 10...                     Москва  \nПополнение кошелька Playstation Store Польша 15...                     Москва  \nПополнение кошелька Playstation Store Польша 50...                Новосибирск  \nПополнение кошелька Playstation Store Польша 70...                     Москва  \n\n[3052 rows x 7 columns]",
      "text/html": "<div>\n<style scoped>\n    .dataframe tbody tr th:only-of-type {\n        vertical-align: middle;\n    }\n\n    .dataframe tbody tr th {\n        vertical-align: top;\n    }\n\n    .dataframe thead th {\n        text-align: right;\n    }\n</style>\n<table border=\"1\" class=\"dataframe\">\n  <thead>\n    <tr style=\"text-align: right;\">\n      <th></th>\n      <th>client_id</th>\n      <th>order_day</th>\n      <th>category_name</th>\n      <th>good_name</th>\n      <th>gender_cd</th>\n      <th>education_level</th>\n      <th>city_nm</th>\n    </tr>\n    <tr>\n      <th>good_name</th>\n      <th></th>\n      <th></th>\n      <th></th>\n      <th></th>\n      <th></th>\n      <th></th>\n      <th></th>\n    </tr>\n  </thead>\n  <tbody>\n    <tr>\n      <th>//N.P.P.D. RUSH// - The milk of Ultraviolet</th>\n      <td>[5-1CR7PWI3D, 5-1RS9TX5VL, 5-30TOXX7S6, 5-30ZA...</td>\n      <td>[2022-03-20, 2022-04-28, 2022-04-29, 2022-05-0...</td>\n      <td>Экшн</td>\n      <td>//N.P.P.D. RUSH// - The milk of Ultraviolet</td>\n      <td>M</td>\n      <td>SCH</td>\n      <td>Санкт-Петербург</td>\n    </tr>\n    <tr>\n      <th>//SNOWFLAKE TATTOO//</th>\n      <td>[5-13B9F9N2R, 5-4Y9TLAXZ]</td>\n      <td>[2022-04-29, 2022-05-02]</td>\n      <td>[Приключения, Ролевые (RPG)]</td>\n      <td>//SNOWFLAKE TATTOO//</td>\n      <td>M</td>\n      <td>[GRD, SCH]</td>\n      <td>[Москва, Самара]</td>\n    </tr>\n    <tr>\n      <th>11-11 Memories Retold</th>\n      <td>5-NTUB1VJC</td>\n      <td>2023-03-24</td>\n      <td>Приключения</td>\n      <td>11-11 Memories Retold</td>\n      <td>M</td>\n      <td>GRD</td>\n      <td>Москва</td>\n    </tr>\n    <tr>\n      <th>112 Operator</th>\n      <td>[4-19NBZ95Y, 4-1A08YTNW, 5-1ANZ92OLA, 5-1V15AD...</td>\n      <td>2022-12-21</td>\n      <td>Симуляторы</td>\n      <td>112 Operator</td>\n      <td>M</td>\n      <td>GRD</td>\n      <td>[Москва, Санкт-Петербург]</td>\n    </tr>\n    <tr>\n      <th>15 Days</th>\n      <td>[4-1Q1JFDVR, 5-2DL5GOMBI, 5-2DQMHMC43, 5-2TKQF...</td>\n      <td>2022-11-17</td>\n      <td>[Приключения, Скидки]</td>\n      <td>15 Days</td>\n      <td>M</td>\n      <td>UGR</td>\n      <td>Москва</td>\n    </tr>\n    <tr>\n      <th>...</th>\n      <td>...</td>\n      <td>...</td>\n      <td>...</td>\n      <td>...</td>\n      <td>...</td>\n      <td>...</td>\n      <td>...</td>\n    </tr>\n    <tr>\n      <th>Подписка Xbox LIVE GOLD на 3 месяца</th>\n      <td>5-281QRRY34</td>\n      <td>2023-07-25</td>\n      <td>Другое</td>\n      <td>Подписка Xbox LIVE GOLD на 3 месяца</td>\n      <td>M</td>\n      <td>GRD</td>\n      <td>Москва</td>\n    </tr>\n    <tr>\n      <th>Пополнение кошелька Playstation Store Польша 100zl (PSN)</th>\n      <td>5-8M31SGOO</td>\n      <td>2023-10-13</td>\n      <td>Карты оплаты</td>\n      <td>Пополнение кошелька Playstation Store Польша 1...</td>\n      <td>M</td>\n      <td>SCH</td>\n      <td>Москва</td>\n    </tr>\n    <tr>\n      <th>Пополнение кошелька Playstation Store Польша 15zl (PSN)</th>\n      <td>5-7MACZK69</td>\n      <td>2023-10-22</td>\n      <td>Карты оплаты</td>\n      <td>Пополнение кошелька Playstation Store Польша 1...</td>\n      <td>M</td>\n      <td>GRD</td>\n      <td>Москва</td>\n    </tr>\n    <tr>\n      <th>Пополнение кошелька Playstation Store Польша 50zl (PSN)</th>\n      <td>[5-8XEHYIA7, 5-SCV0ENK6]</td>\n      <td>[2023-10-20, 2023-10-28]</td>\n      <td>Карты оплаты</td>\n      <td>Пополнение кошелька Playstation Store Польша 5...</td>\n      <td>M</td>\n      <td>[GRD, UGR]</td>\n      <td>Новосибирск</td>\n    </tr>\n    <tr>\n      <th>Пополнение кошелька Playstation Store Польша 70zl (PSN)</th>\n      <td>5-1F2RZIDP0</td>\n      <td>2023-10-28</td>\n      <td>Карты оплаты</td>\n      <td>Пополнение кошелька Playstation Store Польша 7...</td>\n      <td>M</td>\n      <td>GRD</td>\n      <td>Москва</td>\n    </tr>\n  </tbody>\n</table>\n<p>3052 rows × 7 columns</p>\n</div>"
     },
     "execution_count": 101,
     "metadata": {},
     "output_type": "execute_result"
    }
   ],
   "source": [
    "string_cols = clearDf.select_dtypes(include=['object']).columns\n",
    "string_modes = clearDf.groupby('good_name')[string_cols].agg(pd.Series.mode)\n",
    "string_modes"
   ],
   "metadata": {
    "collapsed": false,
    "pycharm": {
     "name": "#%%\n"
    }
   }
  },
  {
   "cell_type": "markdown",
   "source": [
    "### Since mode can return multiple values for ties, we’ll take the first mode"
   ],
   "metadata": {
    "collapsed": false,
    "pycharm": {
     "name": "#%% md\n"
    }
   }
  },
  {
   "cell_type": "code",
   "execution_count": 102,
   "outputs": [],
   "source": [
    "for col in string_modes:\n",
    "    string_modes[col] = string_modes[col].apply(lambda x: x[0] if isinstance(x, pd.Series) else x)"
   ],
   "metadata": {
    "collapsed": false,
    "pycharm": {
     "name": "#%%\n"
    }
   }
  },
  {
   "cell_type": "markdown",
   "source": [
    "### Calculating count of orders for each game"
   ],
   "metadata": {
    "collapsed": false,
    "pycharm": {
     "name": "#%% md\n"
    }
   }
  },
  {
   "cell_type": "code",
   "execution_count": 103,
   "outputs": [
    {
     "data": {
      "text/plain": "                                                    count\ngood_name                                                \nResident Evil 7                                      3025\nRESIDENT EVIL 2 - Deluxe Edition                     2110\nDead Cells                                            989\nRESIDENT EVIL 2                                       968\nNoise                                                 960\n...                                                   ...\nBiped & Spirit of the Island Bundle                     1\nOmerta - City of Gangsters                              1\nMafia III: Definitive Edition [Mac]                     1\nGlitchrunners                                           1\nEuropa Universalis IV: Common Sense Content Pac...      1\n\n[3052 rows x 1 columns]",
      "text/html": "<div>\n<style scoped>\n    .dataframe tbody tr th:only-of-type {\n        vertical-align: middle;\n    }\n\n    .dataframe tbody tr th {\n        vertical-align: top;\n    }\n\n    .dataframe thead th {\n        text-align: right;\n    }\n</style>\n<table border=\"1\" class=\"dataframe\">\n  <thead>\n    <tr style=\"text-align: right;\">\n      <th></th>\n      <th>count</th>\n    </tr>\n    <tr>\n      <th>good_name</th>\n      <th></th>\n    </tr>\n  </thead>\n  <tbody>\n    <tr>\n      <th>Resident Evil 7</th>\n      <td>3025</td>\n    </tr>\n    <tr>\n      <th>RESIDENT EVIL 2 - Deluxe Edition</th>\n      <td>2110</td>\n    </tr>\n    <tr>\n      <th>Dead Cells</th>\n      <td>989</td>\n    </tr>\n    <tr>\n      <th>RESIDENT EVIL 2</th>\n      <td>968</td>\n    </tr>\n    <tr>\n      <th>Noise</th>\n      <td>960</td>\n    </tr>\n    <tr>\n      <th>...</th>\n      <td>...</td>\n    </tr>\n    <tr>\n      <th>Biped &amp; Spirit of the Island Bundle</th>\n      <td>1</td>\n    </tr>\n    <tr>\n      <th>Omerta - City of Gangsters</th>\n      <td>1</td>\n    </tr>\n    <tr>\n      <th>Mafia III: Definitive Edition [Mac]</th>\n      <td>1</td>\n    </tr>\n    <tr>\n      <th>Glitchrunners</th>\n      <td>1</td>\n    </tr>\n    <tr>\n      <th>Europa Universalis IV: Common Sense Content Pack - DLC</th>\n      <td>1</td>\n    </tr>\n  </tbody>\n</table>\n<p>3052 rows × 1 columns</p>\n</div>"
     },
     "execution_count": 103,
     "metadata": {},
     "output_type": "execute_result"
    }
   ],
   "source": [
    "gamesWithOrderCount = clearDf[\"good_name\"].value_counts().reset_index().set_index(\"good_name\")\n",
    "gamesWithOrderCount"
   ],
   "metadata": {
    "collapsed": false,
    "pycharm": {
     "name": "#%%\n"
    }
   }
  },
  {
   "cell_type": "markdown",
   "source": [
    "### Merging the three results"
   ],
   "metadata": {
    "collapsed": false,
    "pycharm": {
     "name": "#%% md\n"
    }
   }
  },
  {
   "cell_type": "code",
   "execution_count": 104,
   "outputs": [],
   "source": [
    "result_df_games = pd.concat([numeric_means, string_modes,gamesWithOrderCount], axis=1)"
   ],
   "metadata": {
    "collapsed": false,
    "pycharm": {
     "name": "#%%\n"
    }
   }
  },
  {
   "cell_type": "markdown",
   "source": [
    "### Display the first few rows of the result"
   ],
   "metadata": {
    "collapsed": false,
    "pycharm": {
     "name": "#%% md\n"
    }
   }
  },
  {
   "cell_type": "code",
   "execution_count": 105,
   "outputs": [
    {
     "data": {
      "text/plain": "                                                       id   category_id  \\\ngood_name                                                                 \n//N.P.P.D. RUSH// - The milk of Ultraviolet  1.500249e+09  28797.400000   \n//SNOWFLAKE TATTOO//                         1.500250e+09  28568.000000   \n11-11 Memories Retold                        1.500520e+09  28911.500000   \n112 Operator                                 1.500508e+09  29200.521739   \n15 Days                                      1.500392e+09  29508.500000   \n\n                                               good_id  good_price  good_cnt  \\\ngood_name                                                                      \n//N.P.P.D. RUSH// - The milk of Ultraviolet   848756.0   13.670000       1.0   \n//SNOWFLAKE TATTOO//                          848604.0   19.350000       1.0   \n11-11 Memories Retold                        1424161.0  149.850000       1.0   \n112 Operator                                 1407030.0  170.836957       1.0   \n15 Days                                       849246.0   46.743750       1.0   \n\n                                                   age  monthly_income_amt  \\\ngood_name                                                                    \n//N.P.P.D. RUSH// - The milk of Ultraviolet  22.800000       151585.200000   \n//SNOWFLAKE TATTOO//                         27.000000        56581.000000   \n11-11 Memories Retold                        28.583333       107794.333333   \n112 Operator                                 26.130435       120000.000000   \n15 Days                                      29.375000        45890.000000   \n\n                                             steam_popularity_score  \\\ngood_name                                                             \n//N.P.P.D. RUSH// - The milk of Ultraviolet                     0.0   \n//SNOWFLAKE TATTOO//                                            0.0   \n11-11 Memories Retold                                           0.0   \n112 Operator                                                 2046.0   \n15 Days                                                         0.0   \n\n                                                                                     client_id  \\\ngood_name                                                                                        \n//N.P.P.D. RUSH// - The milk of Ultraviolet  [5-1CR7PWI3D, 5-1RS9TX5VL, 5-30TOXX7S6, 5-30ZA...   \n//SNOWFLAKE TATTOO//                                                 [5-13B9F9N2R, 5-4Y9TLAXZ]   \n11-11 Memories Retold                                                               5-NTUB1VJC   \n112 Operator                                 [4-19NBZ95Y, 4-1A08YTNW, 5-1ANZ92OLA, 5-1V15AD...   \n15 Days                                      [4-1Q1JFDVR, 5-2DL5GOMBI, 5-2DQMHMC43, 5-2TKQF...   \n\n                                                                                     order_day  \\\ngood_name                                                                                        \n//N.P.P.D. RUSH// - The milk of Ultraviolet  [2022-03-20, 2022-04-28, 2022-04-29, 2022-05-0...   \n//SNOWFLAKE TATTOO//                                                  [2022-04-29, 2022-05-02]   \n11-11 Memories Retold                                                               2023-03-24   \n112 Operator                                                                        2022-12-21   \n15 Days                                                                             2022-11-17   \n\n                                                            category_name  \\\ngood_name                                                                   \n//N.P.P.D. RUSH// - The milk of Ultraviolet                          Экшн   \n//SNOWFLAKE TATTOO//                         [Приключения, Ролевые (RPG)]   \n11-11 Memories Retold                                         Приключения   \n112 Operator                                                   Симуляторы   \n15 Days                                             [Приключения, Скидки]   \n\n                                                                               good_name  \\\ngood_name                                                                                  \n//N.P.P.D. RUSH// - The milk of Ultraviolet  //N.P.P.D. RUSH// - The milk of Ultraviolet   \n//SNOWFLAKE TATTOO//                                                //SNOWFLAKE TATTOO//   \n11-11 Memories Retold                                              11-11 Memories Retold   \n112 Operator                                                                112 Operator   \n15 Days                                                                          15 Days   \n\n                                            gender_cd education_level  \\\ngood_name                                                               \n//N.P.P.D. RUSH// - The milk of Ultraviolet         M             SCH   \n//SNOWFLAKE TATTOO//                                M      [GRD, SCH]   \n11-11 Memories Retold                               M             GRD   \n112 Operator                                        M             GRD   \n15 Days                                             M             UGR   \n\n                                                               city_nm  count  \ngood_name                                                                      \n//N.P.P.D. RUSH// - The milk of Ultraviolet            Санкт-Петербург      5  \n//SNOWFLAKE TATTOO//                                  [Москва, Самара]      2  \n11-11 Memories Retold                                           Москва     12  \n112 Operator                                 [Москва, Санкт-Петербург]     23  \n15 Days                                                         Москва      8  ",
      "text/html": "<div>\n<style scoped>\n    .dataframe tbody tr th:only-of-type {\n        vertical-align: middle;\n    }\n\n    .dataframe tbody tr th {\n        vertical-align: top;\n    }\n\n    .dataframe thead th {\n        text-align: right;\n    }\n</style>\n<table border=\"1\" class=\"dataframe\">\n  <thead>\n    <tr style=\"text-align: right;\">\n      <th></th>\n      <th>id</th>\n      <th>category_id</th>\n      <th>good_id</th>\n      <th>good_price</th>\n      <th>good_cnt</th>\n      <th>age</th>\n      <th>monthly_income_amt</th>\n      <th>steam_popularity_score</th>\n      <th>client_id</th>\n      <th>order_day</th>\n      <th>category_name</th>\n      <th>good_name</th>\n      <th>gender_cd</th>\n      <th>education_level</th>\n      <th>city_nm</th>\n      <th>count</th>\n    </tr>\n    <tr>\n      <th>good_name</th>\n      <th></th>\n      <th></th>\n      <th></th>\n      <th></th>\n      <th></th>\n      <th></th>\n      <th></th>\n      <th></th>\n      <th></th>\n      <th></th>\n      <th></th>\n      <th></th>\n      <th></th>\n      <th></th>\n      <th></th>\n      <th></th>\n    </tr>\n  </thead>\n  <tbody>\n    <tr>\n      <th>//N.P.P.D. RUSH// - The milk of Ultraviolet</th>\n      <td>1.500249e+09</td>\n      <td>28797.400000</td>\n      <td>848756.0</td>\n      <td>13.670000</td>\n      <td>1.0</td>\n      <td>22.800000</td>\n      <td>151585.200000</td>\n      <td>0.0</td>\n      <td>[5-1CR7PWI3D, 5-1RS9TX5VL, 5-30TOXX7S6, 5-30ZA...</td>\n      <td>[2022-03-20, 2022-04-28, 2022-04-29, 2022-05-0...</td>\n      <td>Экшн</td>\n      <td>//N.P.P.D. RUSH// - The milk of Ultraviolet</td>\n      <td>M</td>\n      <td>SCH</td>\n      <td>Санкт-Петербург</td>\n      <td>5</td>\n    </tr>\n    <tr>\n      <th>//SNOWFLAKE TATTOO//</th>\n      <td>1.500250e+09</td>\n      <td>28568.000000</td>\n      <td>848604.0</td>\n      <td>19.350000</td>\n      <td>1.0</td>\n      <td>27.000000</td>\n      <td>56581.000000</td>\n      <td>0.0</td>\n      <td>[5-13B9F9N2R, 5-4Y9TLAXZ]</td>\n      <td>[2022-04-29, 2022-05-02]</td>\n      <td>[Приключения, Ролевые (RPG)]</td>\n      <td>//SNOWFLAKE TATTOO//</td>\n      <td>M</td>\n      <td>[GRD, SCH]</td>\n      <td>[Москва, Самара]</td>\n      <td>2</td>\n    </tr>\n    <tr>\n      <th>11-11 Memories Retold</th>\n      <td>1.500520e+09</td>\n      <td>28911.500000</td>\n      <td>1424161.0</td>\n      <td>149.850000</td>\n      <td>1.0</td>\n      <td>28.583333</td>\n      <td>107794.333333</td>\n      <td>0.0</td>\n      <td>5-NTUB1VJC</td>\n      <td>2023-03-24</td>\n      <td>Приключения</td>\n      <td>11-11 Memories Retold</td>\n      <td>M</td>\n      <td>GRD</td>\n      <td>Москва</td>\n      <td>12</td>\n    </tr>\n    <tr>\n      <th>112 Operator</th>\n      <td>1.500508e+09</td>\n      <td>29200.521739</td>\n      <td>1407030.0</td>\n      <td>170.836957</td>\n      <td>1.0</td>\n      <td>26.130435</td>\n      <td>120000.000000</td>\n      <td>2046.0</td>\n      <td>[4-19NBZ95Y, 4-1A08YTNW, 5-1ANZ92OLA, 5-1V15AD...</td>\n      <td>2022-12-21</td>\n      <td>Симуляторы</td>\n      <td>112 Operator</td>\n      <td>M</td>\n      <td>GRD</td>\n      <td>[Москва, Санкт-Петербург]</td>\n      <td>23</td>\n    </tr>\n    <tr>\n      <th>15 Days</th>\n      <td>1.500392e+09</td>\n      <td>29508.500000</td>\n      <td>849246.0</td>\n      <td>46.743750</td>\n      <td>1.0</td>\n      <td>29.375000</td>\n      <td>45890.000000</td>\n      <td>0.0</td>\n      <td>[4-1Q1JFDVR, 5-2DL5GOMBI, 5-2DQMHMC43, 5-2TKQF...</td>\n      <td>2022-11-17</td>\n      <td>[Приключения, Скидки]</td>\n      <td>15 Days</td>\n      <td>M</td>\n      <td>UGR</td>\n      <td>Москва</td>\n      <td>8</td>\n    </tr>\n  </tbody>\n</table>\n</div>"
     },
     "execution_count": 105,
     "metadata": {},
     "output_type": "execute_result"
    }
   ],
   "source": [
    "result_df_games.head()"
   ],
   "metadata": {
    "collapsed": false,
    "pycharm": {
     "name": "#%%\n"
    }
   }
  },
  {
   "cell_type": "markdown",
   "source": [
    "### Create the df with only the necessary columns"
   ],
   "metadata": {
    "collapsed": false,
    "pycharm": {
     "name": "#%% md\n"
    }
   }
  },
  {
   "cell_type": "code",
   "execution_count": 106,
   "outputs": [
    {
     "data": {
      "text/plain": "                                                                   category_name  \\\ngood_name                                                                          \n//N.P.P.D. RUSH// - The milk of Ultraviolet                                 Экшн   \n//SNOWFLAKE TATTOO//                                [Приключения, Ролевые (RPG)]   \n11-11 Memories Retold                                                Приключения   \n112 Operator                                                          Симуляторы   \n15 Days                                                    [Приключения, Скидки]   \n...                                                                          ...   \nПодписка Xbox LIVE GOLD на 3 месяца                                       Другое   \nПополнение кошелька Playstation Store Польша 10...                  Карты оплаты   \nПополнение кошелька Playstation Store Польша 15...                  Карты оплаты   \nПополнение кошелька Playstation Store Польша 50...                  Карты оплаты   \nПополнение кошелька Playstation Store Польша 70...                  Карты оплаты   \n\n                                                     good_price  count  \\\ngood_name                                                                \n//N.P.P.D. RUSH// - The milk of Ultraviolet           13.670000      5   \n//SNOWFLAKE TATTOO//                                  19.350000      2   \n11-11 Memories Retold                                149.850000     12   \n112 Operator                                         170.836957     23   \n15 Days                                               46.743750      8   \n...                                                         ...    ...   \nПодписка Xbox LIVE GOLD на 3 месяца                 1861.201220     41   \nПополнение кошелька Playstation Store Польша 10...  3299.000000     24   \nПополнение кошелька Playstation Store Польша 15...   599.000000      1   \nПополнение кошелька Playstation Store Польша 50...  1749.000000      2   \nПополнение кошелька Playstation Store Польша 70...  2299.000000      1   \n\n                                                    steam_popularity_score  \\\ngood_name                                                                    \n//N.P.P.D. RUSH// - The milk of Ultraviolet                            0.0   \n//SNOWFLAKE TATTOO//                                                   0.0   \n11-11 Memories Retold                                                  0.0   \n112 Operator                                                        2046.0   \n15 Days                                                                0.0   \n...                                                                    ...   \nПодписка Xbox LIVE GOLD на 3 месяца                                    0.0   \nПополнение кошелька Playstation Store Польша 10...                     0.0   \nПополнение кошелька Playstation Store Польша 15...                     0.0   \nПополнение кошелька Playstation Store Польша 50...                     0.0   \nПополнение кошелька Playstation Store Польша 70...                     0.0   \n\n                                                          age gender_cd  \\\ngood_name                                                                 \n//N.P.P.D. RUSH// - The milk of Ultraviolet         22.800000         M   \n//SNOWFLAKE TATTOO//                                27.000000         M   \n11-11 Memories Retold                               28.583333         M   \n112 Operator                                        26.130435         M   \n15 Days                                             29.375000         M   \n...                                                       ...       ...   \nПодписка Xbox LIVE GOLD на 3 месяца                 33.414634         M   \nПополнение кошелька Playstation Store Польша 10...  27.208333         M   \nПополнение кошелька Playstation Store Польша 15...  37.000000         M   \nПополнение кошелька Playstation Store Польша 50...  33.500000         M   \nПополнение кошелька Playstation Store Польша 70...  31.000000         M   \n\n                                                    monthly_income_amt  \\\ngood_name                                                                \n//N.P.P.D. RUSH// - The milk of Ultraviolet              151585.200000   \n//SNOWFLAKE TATTOO//                                      56581.000000   \n11-11 Memories Retold                                    107794.333333   \n112 Operator                                             120000.000000   \n15 Days                                                   45890.000000   \n...                                                                ...   \nПодписка Xbox LIVE GOLD на 3 месяца                       92675.292683   \nПополнение кошелька Playstation Store Польша 10...        57418.583333   \nПополнение кошелька Playstation Store Польша 15...        14425.000000   \nПополнение кошелька Playstation Store Польша 50...        96200.000000   \nПополнение кошелька Playstation Store Польша 70...        69200.000000   \n\n                                                   education_level  \\\ngood_name                                                            \n//N.P.P.D. RUSH// - The milk of Ultraviolet                    SCH   \n//SNOWFLAKE TATTOO//                                    [GRD, SCH]   \n11-11 Memories Retold                                          GRD   \n112 Operator                                                   GRD   \n15 Days                                                        UGR   \n...                                                            ...   \nПодписка Xbox LIVE GOLD на 3 месяца                            GRD   \nПополнение кошелька Playstation Store Польша 10...             SCH   \nПополнение кошелька Playstation Store Польша 15...             GRD   \nПополнение кошелька Playstation Store Польша 50...      [GRD, UGR]   \nПополнение кошелька Playstation Store Польша 70...             GRD   \n\n                                                                      city_nm  \ngood_name                                                                      \n//N.P.P.D. RUSH// - The milk of Ultraviolet                   Санкт-Петербург  \n//SNOWFLAKE TATTOO//                                         [Москва, Самара]  \n11-11 Memories Retold                                                  Москва  \n112 Operator                                        [Москва, Санкт-Петербург]  \n15 Days                                                                Москва  \n...                                                                       ...  \nПодписка Xbox LIVE GOLD на 3 месяца                                    Москва  \nПополнение кошелька Playstation Store Польша 10...                     Москва  \nПополнение кошелька Playstation Store Польша 15...                     Москва  \nПополнение кошелька Playstation Store Польша 50...                Новосибирск  \nПополнение кошелька Playstation Store Польша 70...                     Москва  \n\n[3052 rows x 9 columns]",
      "text/html": "<div>\n<style scoped>\n    .dataframe tbody tr th:only-of-type {\n        vertical-align: middle;\n    }\n\n    .dataframe tbody tr th {\n        vertical-align: top;\n    }\n\n    .dataframe thead th {\n        text-align: right;\n    }\n</style>\n<table border=\"1\" class=\"dataframe\">\n  <thead>\n    <tr style=\"text-align: right;\">\n      <th></th>\n      <th>category_name</th>\n      <th>good_price</th>\n      <th>count</th>\n      <th>steam_popularity_score</th>\n      <th>age</th>\n      <th>gender_cd</th>\n      <th>monthly_income_amt</th>\n      <th>education_level</th>\n      <th>city_nm</th>\n    </tr>\n    <tr>\n      <th>good_name</th>\n      <th></th>\n      <th></th>\n      <th></th>\n      <th></th>\n      <th></th>\n      <th></th>\n      <th></th>\n      <th></th>\n      <th></th>\n    </tr>\n  </thead>\n  <tbody>\n    <tr>\n      <th>//N.P.P.D. RUSH// - The milk of Ultraviolet</th>\n      <td>Экшн</td>\n      <td>13.670000</td>\n      <td>5</td>\n      <td>0.0</td>\n      <td>22.800000</td>\n      <td>M</td>\n      <td>151585.200000</td>\n      <td>SCH</td>\n      <td>Санкт-Петербург</td>\n    </tr>\n    <tr>\n      <th>//SNOWFLAKE TATTOO//</th>\n      <td>[Приключения, Ролевые (RPG)]</td>\n      <td>19.350000</td>\n      <td>2</td>\n      <td>0.0</td>\n      <td>27.000000</td>\n      <td>M</td>\n      <td>56581.000000</td>\n      <td>[GRD, SCH]</td>\n      <td>[Москва, Самара]</td>\n    </tr>\n    <tr>\n      <th>11-11 Memories Retold</th>\n      <td>Приключения</td>\n      <td>149.850000</td>\n      <td>12</td>\n      <td>0.0</td>\n      <td>28.583333</td>\n      <td>M</td>\n      <td>107794.333333</td>\n      <td>GRD</td>\n      <td>Москва</td>\n    </tr>\n    <tr>\n      <th>112 Operator</th>\n      <td>Симуляторы</td>\n      <td>170.836957</td>\n      <td>23</td>\n      <td>2046.0</td>\n      <td>26.130435</td>\n      <td>M</td>\n      <td>120000.000000</td>\n      <td>GRD</td>\n      <td>[Москва, Санкт-Петербург]</td>\n    </tr>\n    <tr>\n      <th>15 Days</th>\n      <td>[Приключения, Скидки]</td>\n      <td>46.743750</td>\n      <td>8</td>\n      <td>0.0</td>\n      <td>29.375000</td>\n      <td>M</td>\n      <td>45890.000000</td>\n      <td>UGR</td>\n      <td>Москва</td>\n    </tr>\n    <tr>\n      <th>...</th>\n      <td>...</td>\n      <td>...</td>\n      <td>...</td>\n      <td>...</td>\n      <td>...</td>\n      <td>...</td>\n      <td>...</td>\n      <td>...</td>\n      <td>...</td>\n    </tr>\n    <tr>\n      <th>Подписка Xbox LIVE GOLD на 3 месяца</th>\n      <td>Другое</td>\n      <td>1861.201220</td>\n      <td>41</td>\n      <td>0.0</td>\n      <td>33.414634</td>\n      <td>M</td>\n      <td>92675.292683</td>\n      <td>GRD</td>\n      <td>Москва</td>\n    </tr>\n    <tr>\n      <th>Пополнение кошелька Playstation Store Польша 100zl (PSN)</th>\n      <td>Карты оплаты</td>\n      <td>3299.000000</td>\n      <td>24</td>\n      <td>0.0</td>\n      <td>27.208333</td>\n      <td>M</td>\n      <td>57418.583333</td>\n      <td>SCH</td>\n      <td>Москва</td>\n    </tr>\n    <tr>\n      <th>Пополнение кошелька Playstation Store Польша 15zl (PSN)</th>\n      <td>Карты оплаты</td>\n      <td>599.000000</td>\n      <td>1</td>\n      <td>0.0</td>\n      <td>37.000000</td>\n      <td>M</td>\n      <td>14425.000000</td>\n      <td>GRD</td>\n      <td>Москва</td>\n    </tr>\n    <tr>\n      <th>Пополнение кошелька Playstation Store Польша 50zl (PSN)</th>\n      <td>Карты оплаты</td>\n      <td>1749.000000</td>\n      <td>2</td>\n      <td>0.0</td>\n      <td>33.500000</td>\n      <td>M</td>\n      <td>96200.000000</td>\n      <td>[GRD, UGR]</td>\n      <td>Новосибирск</td>\n    </tr>\n    <tr>\n      <th>Пополнение кошелька Playstation Store Польша 70zl (PSN)</th>\n      <td>Карты оплаты</td>\n      <td>2299.000000</td>\n      <td>1</td>\n      <td>0.0</td>\n      <td>31.000000</td>\n      <td>M</td>\n      <td>69200.000000</td>\n      <td>GRD</td>\n      <td>Москва</td>\n    </tr>\n  </tbody>\n</table>\n<p>3052 rows × 9 columns</p>\n</div>"
     },
     "execution_count": 106,
     "metadata": {},
     "output_type": "execute_result"
    }
   ],
   "source": [
    "result_df_short_games = result_df_games[[\"category_name\", \"good_price\", \"count\", \"steam_popularity_score\", \"age\", \"gender_cd\", \"monthly_income_amt\", \"education_level\", \"city_nm\"]]\n",
    "result_df_short_games"
   ],
   "metadata": {
    "collapsed": false,
    "pycharm": {
     "name": "#%%\n"
    }
   }
  },
  {
   "cell_type": "markdown",
   "source": [
    "### Writing games data to csv"
   ],
   "metadata": {
    "collapsed": false,
    "pycharm": {
     "name": "#%% md\n"
    }
   }
  },
  {
   "cell_type": "code",
   "execution_count": 107,
   "outputs": [],
   "source": [
    "result_df_games.to_csv(\"data\\\\gamesFull.csv\")\n",
    "result_df_short_games.to_csv(\"data\\\\games.csv\")"
   ],
   "metadata": {
    "collapsed": false,
    "pycharm": {
     "name": "#%%\n"
    }
   }
  }
 ],
 "metadata": {
  "kernelspec": {
   "display_name": "Python 3",
   "language": "python",
   "name": "python3"
  },
  "language_info": {
   "codemirror_mode": {
    "name": "ipython",
    "version": 3
   },
   "file_extension": ".py",
   "mimetype": "text/x-python",
   "name": "python",
   "nbconvert_exporter": "python",
   "pygments_lexer": "ipython3",
   "version": "3.10.9"
  }
 },
 "nbformat": 4,
 "nbformat_minor": 2
}